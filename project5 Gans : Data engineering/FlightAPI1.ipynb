{
 "cells": [
  {
   "cell_type": "markdown",
   "id": "c48375c1-9a61-4386-a20c-3c376fd22ec0",
   "metadata": {},
   "source": [
    "* import library"
   ]
  },
  {
   "cell_type": "code",
   "execution_count": 3,
   "id": "f3dc063a-446b-49c0-b749-3c359ba5c9af",
   "metadata": {},
   "outputs": [],
   "source": [
    "import pandas as pd\n",
    "from datetime import datetime, timedelta\n",
    "import requests\n",
    "from pytz import timezone\n",
    "from pandas import json_normalize\n",
    "from bs4 import BeautifulSoup\n",
    "#%run Wikipedia.ipynb\n"
   ]
  },
  {
   "cell_type": "markdown",
   "id": "e16c1018-89a7-4236-8d41-9ed203607e61",
   "metadata": {},
   "source": [
    "# Airport"
   ]
  },
  {
   "cell_type": "code",
   "execution_count": 2,
   "id": "2707a426-7b8b-4740-9e32-754d3286d582",
   "metadata": {
    "tags": []
   },
   "outputs": [],
   "source": [
    "def get_airport_info(latitude, longitude):\n",
    "    \n",
    "    url = \"https://aerodatabox.p.rapidapi.com/airports/search/location\"\n",
    "\n",
    "    querystring = {\n",
    "        \"lat\": str(latitude),\n",
    "        \"lon\": str(longitude),\n",
    "        \"radiusKm\": \"50\",\n",
    "        \"limit\": \"10\",\n",
    "        \"withFlightInfoOnly\": \"True\"\n",
    "    }\n",
    "\n",
    "    headers = {\n",
    "        \"X-RapidAPI-Key\": \"14a44098c8mshe4536a007985112p1e3b4bjsn8fd805eb6bd4\",\n",
    "        \"X-RapidAPI-Host\": \"aerodatabox.p.rapidapi.com\"\n",
    "    }\n",
    "\n",
    "    response = requests.get(url, headers=headers, params=querystring)\n",
    "\n",
    "    if response.status_code == 200:\n",
    "        return response.json()\n",
    "    else:\n",
    "        return None\n",
    "    "
   ]
  },
  {
   "cell_type": "markdown",
   "id": "5bcf0c70-d68e-45b7-989e-ee7936901bee",
   "metadata": {},
   "source": [
    "## airport_info function"
   ]
  },
  {
   "cell_type": "code",
   "execution_count": 7,
   "id": "58aaf95d-03d9-4ab7-99c8-37f3486d8bda",
   "metadata": {
    "tags": []
   },
   "outputs": [
    {
     "name": "stdout",
     "output_type": "stream",
     "text": [
      "{'searchBy': {'lat': 48.1375, 'lon': 11.575}, 'count': 3, 'items': [{'icao': 'EDMO', 'iata': 'OBF', 'name': '', 'location': {'lat': 48.0814, 'lon': 11.2831}, 'countryCode': 'DE'}, {'icao': 'ETSF', 'iata': 'FEL', 'name': 'Fürstenfeldbruck ', 'shortName': 'Fürstenfeldbruck', 'municipalityName': 'Fürstenfeldbruck', 'location': {'lat': 48.205555, 'lon': 11.266943}, 'countryCode': 'DE'}, {'icao': 'EDDM', 'iata': 'MUC', 'name': 'Munich ', 'shortName': 'Munich', 'municipalityName': 'Munich', 'location': {'lat': 48.3538, 'lon': 11.7861}, 'countryCode': 'DE'}]}\n"
     ]
    }
   ],
   "source": [
    "def get_airport_info(latitude, longitude):\n",
    "    url = \"https://aerodatabox.p.rapidapi.com/airports/search/location\"\n",
    "\n",
    "    querystring = {\n",
    "        \"lat\": str(latitude),\n",
    "        \"lon\": str(longitude),\n",
    "        \"radiusKm\": \"50\",\n",
    "        \"limit\": \"10\",\n",
    "        \"withFlightInfoOnly\": \"false\"\n",
    "    }\n",
    "\n",
    "    headers = {\n",
    "        \"X-RapidAPI-Key\": \"14a44098c8mshe4536a007985112p1e3b4bjsn8fd805eb6bd4\",\n",
    "        \"X-RapidAPI-Host\": \"aerodatabox.p.rapidapi.com\"\n",
    "    }\n",
    "\n",
    "    response = requests.get(url, headers=headers, params=querystring)\n",
    "\n",
    "    if response.status_code == 200:\n",
    "        return response.json()\n",
    "    else:\n",
    "        return None\n",
    "\n",
    "# Example usage\n",
    "latitude = 48.1375\n",
    "longitude = 11.575\n",
    "airport_info = get_airport_info(latitude, longitude)\n",
    "if airport_info:\n",
    "    print(airport_info)\n",
    "else:\n",
    "    print(\"Failed to fetch airport information\")"
   ]
  },
  {
   "cell_type": "code",
   "execution_count": 11,
   "id": "3cef8cb3-cd0a-4d26-8d65-68e2ba39c610",
   "metadata": {
    "tags": []
   },
   "outputs": [],
   "source": [
    "# import Wikipedia as Wi\n",
    "\n",
    "def get_airport_data(cities):\n",
    "    airport_data = []\n",
    "\n",
    "    for city in cities:\n",
    "        # Retrieve coordinates for the city\n",
    "        latitude, longitude = extract_coordinates(city)\n",
    "        \n",
    "        # Get airport information using the coordinates\n",
    "        url = \"https://aerodatabox.p.rapidapi.com/airports/search/location\"\n",
    "        querystring = {\n",
    "            \"lat\": str(latitude),\n",
    "            \"lon\": str(longitude),\n",
    "            \"radiusKm\": \"50\",\n",
    "            \"limit\": \"10\",\n",
    "            \"withFlightInfoOnly\": \"True\"\n",
    "        }\n",
    "        headers = {\n",
    "            \"X-RapidAPI-Key\": \"14a44098c8mshe4536a007985112p1e3b4bjsn8fd805eb6bd4\",\n",
    "            \"X-RapidAPI-Host\": \"aerodatabox.p.rapidapi.com\"\n",
    "        }\n",
    "        response = requests.get(url, headers=headers, params=querystring)\n",
    "        \n",
    "        # Append city and airport information to the list\n",
    "        if response.status_code == 200:\n",
    "            airport_info = response.json()\n",
    "            if isinstance(airport_info['items'], list):\n",
    "                airport_data.extend([{\n",
    "                    'City': city,\n",
    "                    'Airport_Info': item\n",
    "                } for item in airport_info['items']])\n",
    "        else:\n",
    "            print(f\"Failed to retrieve airport information for {city}\")\n",
    "\n",
    "    airport_df = pd.json_normalize(airport_data, record_path=['Airport_Info'], meta='City')\n",
    "    return airport_df\n"
   ]
  },
  {
   "cell_type": "code",
   "execution_count": 12,
   "id": "08de484b-552e-409f-80b9-2579ee59c522",
   "metadata": {
    "tags": []
   },
   "outputs": [
    {
     "ename": "NameError",
     "evalue": "name 'cities' is not defined",
     "output_type": "error",
     "traceback": [
      "\u001b[1;31m---------------------------------------------------------------------------\u001b[0m",
      "\u001b[1;31mNameError\u001b[0m                                 Traceback (most recent call last)",
      "Cell \u001b[1;32mIn[12], line 1\u001b[0m\n\u001b[1;32m----> 1\u001b[0m airport\u001b[38;5;241m=\u001b[39mget_airport_data(cities)\n",
      "\u001b[1;31mNameError\u001b[0m: name 'cities' is not defined"
     ]
    }
   ],
   "source": [
    "airport=get_airport_data(cities)"
   ]
  },
  {
   "cell_type": "code",
   "execution_count": null,
   "id": "24249a80-e091-4e01-bbdd-80c63da22c92",
   "metadata": {
    "tags": []
   },
   "outputs": [],
   "source": [
    "# Example usage:\n",
    "cities = ['Munich', 'Berlin', 'Cologne', 'Hamburg', 'Frankfurt', 'Leipzig', 'Hannover']\n",
    "airport_df = get_airport_data(cities)\n",
    "airport_df\n"
   ]
  },
  {
   "cell_type": "code",
   "execution_count": 14,
   "id": "bf008524-b4d2-4955-a977-fbca70f6f966",
   "metadata": {
    "tags": []
   },
   "outputs": [],
   "source": [
    "import requests\n",
    "import pandas as pd\n",
    "from bs4 import BeautifulSoup\n",
    "\n",
    "def extract_coordinates(html_doc):\n",
    "    soup = BeautifulSoup(html_doc, 'html.parser')\n",
    "    # Find infobox\n",
    "    infobox = soup.find('table', class_='infobox')\n",
    "    if infobox:\n",
    "        # Find rows in infobox\n",
    "        rows = infobox.find_all('tr')\n",
    "        for row in rows:\n",
    "            # Check if row contains 'Coordinates' or similar text\n",
    "            if 'coordinates' in row.text.lower():\n",
    "                # Extract coordinates from the row\n",
    "                coordinates = row.find('span', class_='geo').text\n",
    "                # Split coordinates into latitude and longitude\n",
    "                lat, lon = map(float, coordinates.split(';'))\n",
    "                return lat, lon\n",
    "    # If coordinates not found\n",
    "    return float('nan'), float('nan')\n",
    "\n",
    "\n",
    "def get_airport_info(latitude, longitude):\n",
    "    url = \"https://aerodatabox.p.rapidapi.com/airports/search/location\"\n",
    "\n",
    "    querystring = {\n",
    "        \"lat\": str(latitude),\n",
    "        \"lon\": str(longitude),\n",
    "        \"radiusKm\": \"50\",\n",
    "        \"limit\": \"10\",\n",
    "        \"withFlightInfoOnly\": \"True\"\n",
    "    }\n",
    "\n",
    "    headers = {\n",
    "        \"X-RapidAPI-Key\": \"14a44098c8mshe4536a007985112p1e3b4bjsn8fd805eb6bd4\",\n",
    "        \"X-RapidAPI-Host\": \"aerodatabox.p.rapidapi.com\"\n",
    "    }\n",
    "\n",
    "    response = requests.get(url, headers=headers, params=querystring)\n",
    "\n",
    "    if response.status_code == 200:\n",
    "        return response.json()\n",
    "    else:\n",
    "        return None\n",
    "\n",
    "def get_airport_data(cities):\n",
    "    airport_data = []\n",
    "\n",
    "    for city in cities:\n",
    "        # Construct the Wikipedia URL for the city\n",
    "        URL = f\"https://en.wikipedia.org/wiki/{city}\"\n",
    "        \n",
    "        # Retrieve the web page content\n",
    "        web_page = requests.get(URL).text\n",
    "        \n",
    "        # Extract coordinates using the function\n",
    "        lat, lon = extract_coordinates(web_page)\n",
    "        \n",
    "        # Get airport information using the coordinates\n",
    "        airport_info = get_airport_info(lat, lon)\n",
    "        \n",
    "        # Append city and airport information to the list\n",
    "        if airport_info and isinstance(airport_info['items'], list):\n",
    "            airport_data.append({\n",
    "                'City': city,\n",
    "                'Airport_Info': airport_info\n",
    "            })\n",
    "\n",
    "    return  pd.json_normalize(airport_data, record_path=['Airport_Info', 'items'], meta='City')\n",
    "     \n"
   ]
  },
  {
   "cell_type": "code",
   "execution_count": 15,
   "id": "da9140f2-738c-49ac-a18b-0c80420cc183",
   "metadata": {
    "tags": []
   },
   "outputs": [],
   "source": [
    "cities = ['Munich', 'Berlin', 'Cologne', 'Hamburg', 'Frankfurt', 'Leipzig', 'Hannover']\n",
    "airport = get_airport_data(cities)"
   ]
  },
  {
   "cell_type": "code",
   "execution_count": 9,
   "id": "00da7263-91b0-4bae-9fbb-837d9493a783",
   "metadata": {
    "tags": []
   },
   "outputs": [],
   "source": [
    "airport= airport.rename(columns = {\"location.lat\" : \"lat\"}) \n",
    "airport= airport.rename(columns = {\"location.lon\" : \"lon\"}) "
   ]
  },
  {
   "cell_type": "code",
   "execution_count": 17,
   "id": "8066ec37-096e-41f3-9ebd-e47a41a62dd9",
   "metadata": {
    "tags": []
   },
   "outputs": [
    {
     "data": {
      "text/html": [
       "<div>\n",
       "<style scoped>\n",
       "    .dataframe tbody tr th:only-of-type {\n",
       "        vertical-align: middle;\n",
       "    }\n",
       "\n",
       "    .dataframe tbody tr th {\n",
       "        vertical-align: top;\n",
       "    }\n",
       "\n",
       "    .dataframe thead th {\n",
       "        text-align: right;\n",
       "    }\n",
       "</style>\n",
       "<table border=\"1\" class=\"dataframe\">\n",
       "  <thead>\n",
       "    <tr style=\"text-align: right;\">\n",
       "      <th></th>\n",
       "      <th>icao</th>\n",
       "      <th>iata</th>\n",
       "      <th>name</th>\n",
       "      <th>shortName</th>\n",
       "      <th>municipalityName</th>\n",
       "      <th>countryCode</th>\n",
       "      <th>location.lat</th>\n",
       "      <th>location.lon</th>\n",
       "      <th>City</th>\n",
       "    </tr>\n",
       "  </thead>\n",
       "  <tbody>\n",
       "    <tr>\n",
       "      <th>0</th>\n",
       "      <td>EDDM</td>\n",
       "      <td>MUC</td>\n",
       "      <td>Munich</td>\n",
       "      <td>Munich</td>\n",
       "      <td>Munich</td>\n",
       "      <td>DE</td>\n",
       "      <td>48.35380</td>\n",
       "      <td>11.786100</td>\n",
       "      <td>Munich</td>\n",
       "    </tr>\n",
       "    <tr>\n",
       "      <th>1</th>\n",
       "      <td>EDDB</td>\n",
       "      <td>BER</td>\n",
       "      <td>Berlin Brandenburg</td>\n",
       "      <td>Brandenburg</td>\n",
       "      <td>Berlin</td>\n",
       "      <td>DE</td>\n",
       "      <td>52.35139</td>\n",
       "      <td>13.493889</td>\n",
       "      <td>Berlin</td>\n",
       "    </tr>\n",
       "    <tr>\n",
       "      <th>2</th>\n",
       "      <td>EDDK</td>\n",
       "      <td>CGN</td>\n",
       "      <td>Cologne Bonn</td>\n",
       "      <td>Bonn</td>\n",
       "      <td>Cologne</td>\n",
       "      <td>DE</td>\n",
       "      <td>50.86590</td>\n",
       "      <td>7.142739</td>\n",
       "      <td>Cologne</td>\n",
       "    </tr>\n",
       "    <tr>\n",
       "      <th>3</th>\n",
       "      <td>EDDL</td>\n",
       "      <td>DUS</td>\n",
       "      <td>Duesseldorf Düsseldorf</td>\n",
       "      <td>Düsseldorf</td>\n",
       "      <td>Duesseldorf</td>\n",
       "      <td>DE</td>\n",
       "      <td>51.28950</td>\n",
       "      <td>6.766779</td>\n",
       "      <td>Cologne</td>\n",
       "    </tr>\n",
       "    <tr>\n",
       "      <th>4</th>\n",
       "      <td>EDDH</td>\n",
       "      <td>HAM</td>\n",
       "      <td>Hamburg</td>\n",
       "      <td>Hamburg</td>\n",
       "      <td>Hamburg</td>\n",
       "      <td>DE</td>\n",
       "      <td>53.63040</td>\n",
       "      <td>9.988229</td>\n",
       "      <td>Hamburg</td>\n",
       "    </tr>\n",
       "    <tr>\n",
       "      <th>5</th>\n",
       "      <td>EDDF</td>\n",
       "      <td>FRA</td>\n",
       "      <td>Frankfurt-am-Main</td>\n",
       "      <td>Frankfurt-am-Main</td>\n",
       "      <td>Frankfurt-am-Main</td>\n",
       "      <td>DE</td>\n",
       "      <td>50.02640</td>\n",
       "      <td>8.543129</td>\n",
       "      <td>Frankfurt</td>\n",
       "    </tr>\n",
       "    <tr>\n",
       "      <th>6</th>\n",
       "      <td>EDDP</td>\n",
       "      <td>LEJ</td>\n",
       "      <td>Leipzig Halle</td>\n",
       "      <td>Halle</td>\n",
       "      <td>Leipzig</td>\n",
       "      <td>DE</td>\n",
       "      <td>51.43240</td>\n",
       "      <td>12.241600</td>\n",
       "      <td>Leipzig</td>\n",
       "    </tr>\n",
       "    <tr>\n",
       "      <th>7</th>\n",
       "      <td>EDDV</td>\n",
       "      <td>HAJ</td>\n",
       "      <td>Hanover Hannover</td>\n",
       "      <td>Hannover</td>\n",
       "      <td>Hanover</td>\n",
       "      <td>DE</td>\n",
       "      <td>52.46110</td>\n",
       "      <td>9.685079</td>\n",
       "      <td>Hannover</td>\n",
       "    </tr>\n",
       "  </tbody>\n",
       "</table>\n",
       "</div>"
      ],
      "text/plain": [
       "   icao iata                    name          shortName   municipalityName  \\\n",
       "0  EDDM  MUC                 Munich              Munich             Munich   \n",
       "1  EDDB  BER      Berlin Brandenburg        Brandenburg             Berlin   \n",
       "2  EDDK  CGN            Cologne Bonn               Bonn            Cologne   \n",
       "3  EDDL  DUS  Duesseldorf Düsseldorf         Düsseldorf        Duesseldorf   \n",
       "4  EDDH  HAM                Hamburg             Hamburg            Hamburg   \n",
       "5  EDDF  FRA      Frankfurt-am-Main   Frankfurt-am-Main  Frankfurt-am-Main   \n",
       "6  EDDP  LEJ           Leipzig Halle              Halle            Leipzig   \n",
       "7  EDDV  HAJ        Hanover Hannover           Hannover            Hanover   \n",
       "\n",
       "  countryCode  location.lat  location.lon       City  \n",
       "0          DE      48.35380     11.786100     Munich  \n",
       "1          DE      52.35139     13.493889     Berlin  \n",
       "2          DE      50.86590      7.142739    Cologne  \n",
       "3          DE      51.28950      6.766779    Cologne  \n",
       "4          DE      53.63040      9.988229    Hamburg  \n",
       "5          DE      50.02640      8.543129  Frankfurt  \n",
       "6          DE      51.43240     12.241600    Leipzig  \n",
       "7          DE      52.46110      9.685079   Hannover  "
      ]
     },
     "execution_count": 17,
     "metadata": {},
     "output_type": "execute_result"
    }
   ],
   "source": [
    "airport"
   ]
  },
  {
   "cell_type": "code",
   "execution_count": null,
   "id": "43aedbe2-9d77-47d1-8da0-1590f21e99e2",
   "metadata": {},
   "outputs": [],
   "source": []
  },
  {
   "cell_type": "markdown",
   "id": "961e432c-791e-46e4-8f87-557434a39902",
   "metadata": {},
   "source": [
    "# flight_arrival"
   ]
  },
  {
   "cell_type": "markdown",
   "id": "071303e5-a8b1-4f4e-b190-a9279578d9bb",
   "metadata": {},
   "source": [
    "## get_icao_list"
   ]
  },
  {
   "cell_type": "code",
   "execution_count": 4,
   "id": "443862bf-51f6-4937-8df5-ecff8fc1d2cb",
   "metadata": {},
   "outputs": [],
   "source": [
    "# get the list of icao from the airport table \n",
    "def get_icao_list(airport):\n",
    "    return airport[\"icao\"]"
   ]
  },
  {
   "cell_type": "code",
   "execution_count": 12,
   "id": "c737efdc-fd9f-49b5-b93f-bd9c5d5984cf",
   "metadata": {
    "tags": []
   },
   "outputs": [
    {
     "data": {
      "text/plain": [
       "0    EDDM\n",
       "1    EDDB\n",
       "2    EDDK\n",
       "3    EDDL\n",
       "4    EDDH\n",
       "5    EDDF\n",
       "6    EDDP\n",
       "7    EDDV\n",
       "Name: icao, dtype: object"
      ]
     },
     "execution_count": 12,
     "metadata": {},
     "output_type": "execute_result"
    }
   ],
   "source": [
    "imen = get_icao_list(airport) \n",
    "imen"
   ]
  },
  {
   "cell_type": "markdown",
   "id": "59c899af-54de-4498-b581-1eb68b90709b",
   "metadata": {},
   "source": [
    "## flight_arrival function"
   ]
  },
  {
   "cell_type": "markdown",
   "id": "639b64ec-558a-4f15-af88-3173bee3f8f3",
   "metadata": {
    "tags": []
   },
   "source": [
    "### create the flight arrivals using json.normalize # from solution "
   ]
  },
  {
   "cell_type": "code",
   "execution_count": 6,
   "id": "a1421954-fa88-471c-9e79-6ac3318ef21e",
   "metadata": {
    "tags": []
   },
   "outputs": [
    {
     "ename": "KeyError",
     "evalue": "'arrivals'",
     "output_type": "error",
     "traceback": [
      "\u001b[1;31m---------------------------------------------------------------------------\u001b[0m",
      "\u001b[1;31mKeyError\u001b[0m                                  Traceback (most recent call last)",
      "Cell \u001b[1;32mIn[6], line 42\u001b[0m\n\u001b[0;32m     39\u001b[0m     \u001b[38;5;28;01mreturn\u001b[39;00m pd\u001b[38;5;241m.\u001b[39mconcat(list_for_arrivals_df, ignore_index\u001b[38;5;241m=\u001b[39m\u001b[38;5;28;01mTrue\u001b[39;00m)\n\u001b[0;32m     41\u001b[0m icao_list1 \u001b[38;5;241m=\u001b[39m [\u001b[38;5;124m\"\u001b[39m\u001b[38;5;124mEDDF\u001b[39m\u001b[38;5;124m\"\u001b[39m, \u001b[38;5;124m\"\u001b[39m\u001b[38;5;124mEDDB\u001b[39m\u001b[38;5;124m\"\u001b[39m]\n\u001b[1;32m---> 42\u001b[0m tomorrows_flight_arrivals(icao_list1)\n",
      "Cell \u001b[1;32mIn[6], line 28\u001b[0m, in \u001b[0;36mtomorrows_flight_arrivals\u001b[1;34m(icao_list)\u001b[0m\n\u001b[0;32m     25\u001b[0m response \u001b[38;5;241m=\u001b[39m requests\u001b[38;5;241m.\u001b[39mrequest(\u001b[38;5;124m\"\u001b[39m\u001b[38;5;124mGET\u001b[39m\u001b[38;5;124m\"\u001b[39m, url, headers\u001b[38;5;241m=\u001b[39mheaders, params\u001b[38;5;241m=\u001b[39mquerystring)\n\u001b[0;32m     26\u001b[0m flights_resp \u001b[38;5;241m=\u001b[39m response\u001b[38;5;241m.\u001b[39mjson()\n\u001b[1;32m---> 28\u001b[0m arrivals_df \u001b[38;5;241m=\u001b[39m pd\u001b[38;5;241m.\u001b[39mjson_normalize(flights_resp[\u001b[38;5;124m\"\u001b[39m\u001b[38;5;124marrivals\u001b[39m\u001b[38;5;124m\"\u001b[39m])[[\u001b[38;5;124m\"\u001b[39m\u001b[38;5;124mnumber\u001b[39m\u001b[38;5;124m\"\u001b[39m, \u001b[38;5;124m\"\u001b[39m\u001b[38;5;124mairline.name\u001b[39m\u001b[38;5;124m\"\u001b[39m, \u001b[38;5;124m\"\u001b[39m\u001b[38;5;124mmovement.scheduledTime.local\u001b[39m\u001b[38;5;124m\"\u001b[39m, \u001b[38;5;124m\"\u001b[39m\u001b[38;5;124mmovement.terminal\u001b[39m\u001b[38;5;124m\"\u001b[39m, \u001b[38;5;124m\"\u001b[39m\u001b[38;5;124mmovement.airport.name\u001b[39m\u001b[38;5;124m\"\u001b[39m, \u001b[38;5;124m\"\u001b[39m\u001b[38;5;124mmovement.airport.icao\u001b[39m\u001b[38;5;124m\"\u001b[39m]]\n\u001b[0;32m     29\u001b[0m arrivals_df \u001b[38;5;241m=\u001b[39m arrivals_df\u001b[38;5;241m.\u001b[39mrename(columns\u001b[38;5;241m=\u001b[39m{\u001b[38;5;124m\"\u001b[39m\u001b[38;5;124mnumber\u001b[39m\u001b[38;5;124m\"\u001b[39m: \u001b[38;5;124m\"\u001b[39m\u001b[38;5;124mflight_number\u001b[39m\u001b[38;5;124m\"\u001b[39m, \u001b[38;5;124m\"\u001b[39m\u001b[38;5;124mairline.name\u001b[39m\u001b[38;5;124m\"\u001b[39m: \u001b[38;5;124m\"\u001b[39m\u001b[38;5;124mairline\u001b[39m\u001b[38;5;124m\"\u001b[39m, \u001b[38;5;124m\"\u001b[39m\u001b[38;5;124mmovement.scheduledTime.local\u001b[39m\u001b[38;5;124m\"\u001b[39m: \u001b[38;5;124m\"\u001b[39m\u001b[38;5;124marrival_time\u001b[39m\u001b[38;5;124m\"\u001b[39m, \u001b[38;5;124m\"\u001b[39m\u001b[38;5;124mmovement.terminal\u001b[39m\u001b[38;5;124m\"\u001b[39m: \u001b[38;5;124m\"\u001b[39m\u001b[38;5;124marrival_terminal\u001b[39m\u001b[38;5;124m\"\u001b[39m, \u001b[38;5;124m\"\u001b[39m\u001b[38;5;124mmovement.airport.name\u001b[39m\u001b[38;5;124m\"\u001b[39m: \u001b[38;5;124m\"\u001b[39m\u001b[38;5;124mdeparture_city\u001b[39m\u001b[38;5;124m\"\u001b[39m, \u001b[38;5;124m\"\u001b[39m\u001b[38;5;124mmovement.airport.icao\u001b[39m\u001b[38;5;124m\"\u001b[39m: \u001b[38;5;124m\"\u001b[39m\u001b[38;5;124mdeparture_airport_icao\u001b[39m\u001b[38;5;124m\"\u001b[39m})\n\u001b[0;32m     30\u001b[0m arrivals_df[\u001b[38;5;124m\"\u001b[39m\u001b[38;5;124marrival_airport_icao\u001b[39m\u001b[38;5;124m\"\u001b[39m] \u001b[38;5;241m=\u001b[39m icao\n",
      "\u001b[1;31mKeyError\u001b[0m: 'arrivals'"
     ]
    }
   ],
   "source": [
    "def tomorrows_flight_arrivals(icao_list):\n",
    "\n",
    "    api_key = \"14a44098c8mshe4536a007985112p1e3b4bjsn8fd805eb6bd4\"\n",
    "\n",
    "    berlin_timezone = timezone('Europe/Berlin')\n",
    "    today = datetime.now(berlin_timezone).date()\n",
    "    tomorrow = (today + timedelta(days=1))\n",
    "\n",
    "    list_for_arrivals_df = []\n",
    "\n",
    "    for icao in icao_list:\n",
    "\n",
    "        times = [[\"00:00\",\"11:59\"],[\"12:00\",\"23:59\"]]\n",
    "\n",
    "        for time in times:\n",
    "            url = f\"https://aerodatabox.p.rapidapi.com/flights/airports/icao/{icao}/{tomorrow}T{time[0]}/{tomorrow}T{time[1]}\"\n",
    "\n",
    "            querystring = {\"direction\":\"Arrival\",\"withCancelled\":\"false\"}\n",
    "\n",
    "            headers = {\n",
    "                \"X-RapidAPI-Key\": \"12c7bd34d2msha978e1852a9e04dp17b222jsnd5260f196022\",\n",
    "                \"X-RapidAPI-Host\": \"aerodatabox.p.rapidapi.com\"\n",
    "                }\n",
    "\n",
    "            response = requests.request(\"GET\", url, headers=headers, params=querystring)\n",
    "            flights_resp = response.json()\n",
    "\n",
    "            arrivals_df = pd.json_normalize(flights_resp[\"arrivals\"])[[\"number\", \"airline.name\", \"movement.scheduledTime.local\", \"movement.terminal\", \"movement.airport.name\", \"movement.airport.icao\"]]\n",
    "            arrivals_df = arrivals_df.rename(columns={\"number\": \"flight_number\", \"airline.name\": \"airline\", \"movement.scheduledTime.local\": \"arrival_time\", \"movement.terminal\": \"arrival_terminal\", \"movement.airport.name\": \"departure_city\", \"movement.airport.icao\": \"departure_airport_icao\"})\n",
    "            arrivals_df[\"arrival_airport_icao\"] = icao\n",
    "            arrivals_df[\"data_retrieved_on\"] = datetime.now().date()\n",
    "            arrivals_df = arrivals_df[[\"arrival_airport_icao\", \"flight_number\", \"airline\", \"arrival_time\", \"arrival_terminal\", \"departure_city\", \"departure_airport_icao\", \"data_retrieved_on\"]]\n",
    "\n",
    "            # fixing arrival_time\n",
    "            arrivals_df[\"arrival_time\"] = arrivals_df[\"arrival_time\"].str.split(\"+\").str[0]\n",
    "\n",
    "            list_for_arrivals_df.append(arrivals_df)\n",
    "\n",
    "    return pd.concat(list_for_arrivals_df, ignore_index=True)\n",
    "\n",
    "icao_list1 = [\"EDDF\", \"EDDB\"]\n",
    "tomorrows_flight_arrivals(icao_list1)\n"
   ]
  },
  {
   "cell_type": "markdown",
   "id": "902ed5e1-95dd-4380-b3d4-2cacb8278301",
   "metadata": {},
   "source": [
    "### create the flight arrivals using get. as for my icao list there is no terminal info "
   ]
  },
  {
   "cell_type": "code",
   "execution_count": null,
   "id": "087939d2-1955-4df1-a8c4-6ee1886864fa",
   "metadata": {
    "tags": []
   },
   "outputs": [],
   "source": [
    "x[\"arrivals\"][0][\"aircraft\"][\"model\"]"
   ]
  },
  {
   "cell_type": "code",
   "execution_count": 13,
   "id": "a301af56-d6a2-4442-8ac5-c971ed806451",
   "metadata": {
    "tags": []
   },
   "outputs": [],
   "source": [
    "def tomorrows_flight_arrivals(icao_list):\n",
    "    api_key = \"14a44098c8mshe4536a007985112p1e3b4bjsn8fd805eb6bd4\"\n",
    "    berlin_timezone = timezone('Europe/Berlin')\n",
    "    today = datetime.now(berlin_timezone).date()\n",
    "    tomorrow = (today + timedelta(days=1))\n",
    "\n",
    "    list_for_arrivals_df = []\n",
    "\n",
    "    for icao in icao_list:\n",
    "        times = [[\"00:00\",\"11:59\"],[\"12:00\",\"23:59\"]]\n",
    "\n",
    "        for time in times:\n",
    "            url = f\"https://aerodatabox.p.rapidapi.com/flights/airports/icao/{icao}/{tomorrow}T{time[0]}/{tomorrow}T{time[1]}\"\n",
    "            querystring = {\"direction\":\"Arrival\",\"withCancelled\":\"false\"}\n",
    "\n",
    "            headers = {\n",
    "                \"X-RapidAPI-Key\": \"12c7bd34d2msha978e1852a9e04dp17b222jsnd5260f196022\",\n",
    "                \"X-RapidAPI-Host\": \"aerodatabox.p.rapidapi.com\"\n",
    "            }\n",
    "\n",
    "            response = requests.request(\"GET\", url, headers=headers, params=querystring)\n",
    "            flights_resp = response.json()\n",
    "\n",
    "            if \"arrivals\" in flights_resp:\n",
    "                arrivals = flights_resp[\"arrivals\"]\n",
    "                for arrival in arrivals:\n",
    "                    flight_number = arrival.get(\"number\")\n",
    "                    airline = arrival.get(\"airline\", {}).get(\"name\")\n",
    "                    scheduled_time = arrival.get(\"movement\", {}).get(\"scheduledTime\", {}).get(\"local\")\n",
    "                    terminal = arrival.get(\"movement\", {}).get(\"terminal\")\n",
    "                    departure_city = arrival.get(\"movement\", {}).get(\"airport\", {}).get(\"name\")\n",
    "                    departure_icao = arrival.get(\"movement\", {}).get(\"airport\", {}).get(\"icao\")\n",
    "                    aircraft = arrival.get(\"aircraft\", {}).get(\"model\")\n",
    "\n",
    "                    arrival_data = {\n",
    "                        \"arrival_airport_icao\": icao,\n",
    "                        \"flight_number\": flight_number,\n",
    "                        \"airline\": airline,\n",
    "                        \"arrival_time\": scheduled_time,\n",
    "                        \"arrival_terminal\": terminal,\n",
    "                        \"departure_city\": departure_city,\n",
    "                        \"departure_airport_icao\": departure_icao,\n",
    "                        \"data_retrieved_on\": datetime.now().date(),\n",
    "                        \"aircraft\" : aircraft\n",
    "                    }\n",
    "\n",
    "                    list_for_arrivals_df.append(arrival_data)\n",
    "            else:\n",
    "                print(f\"No arrivals found for {icao} at {tomorrow}T{time[0]} - {tomorrow}T{time[1]}\")\n",
    "\n",
    "    return pd.DataFrame(list_for_arrivals_df)\n"
   ]
  },
  {
   "cell_type": "code",
   "execution_count": 15,
   "id": "60fb8929-256e-4c77-b65a-209189ff9765",
   "metadata": {
    "tags": []
   },
   "outputs": [],
   "source": [
    "\n",
    "icao_list1 = get_icao_list(airport)\n",
    "flight_arrivals = tomorrows_flight_arrivals(icao_list1)"
   ]
  },
  {
   "cell_type": "code",
   "execution_count": 17,
   "id": "e61331a5-0c5a-4724-94dc-82b07665a657",
   "metadata": {
    "tags": []
   },
   "outputs": [
    {
     "name": "stdout",
     "output_type": "stream",
     "text": [
      "<class 'pandas.core.frame.DataFrame'>\n",
      "RangeIndex: 3118 entries, 0 to 3117\n",
      "Data columns (total 9 columns):\n",
      " #   Column                  Non-Null Count  Dtype \n",
      "---  ------                  --------------  ----- \n",
      " 0   arrival_airport_icao    3118 non-null   object\n",
      " 1   flight_number           3118 non-null   object\n",
      " 2   airline                 3118 non-null   object\n",
      " 3   arrival_time            3118 non-null   object\n",
      " 4   arrival_terminal        3026 non-null   object\n",
      " 5   departure_city          3118 non-null   object\n",
      " 6   departure_airport_icao  3106 non-null   object\n",
      " 7   data_retrieved_on       3118 non-null   object\n",
      " 8   aircraft                3118 non-null   object\n",
      "dtypes: object(9)\n",
      "memory usage: 219.4+ KB\n"
     ]
    }
   ],
   "source": [
    "flight_arrivals.info()"
   ]
  },
  {
   "cell_type": "code",
   "execution_count": 34,
   "id": "273b8631-e16d-425e-aa13-7e180945bca5",
   "metadata": {
    "tags": []
   },
   "outputs": [
    {
     "data": {
      "text/html": [
       "<div>\n",
       "<style scoped>\n",
       "    .dataframe tbody tr th:only-of-type {\n",
       "        vertical-align: middle;\n",
       "    }\n",
       "\n",
       "    .dataframe tbody tr th {\n",
       "        vertical-align: top;\n",
       "    }\n",
       "\n",
       "    .dataframe thead th {\n",
       "        text-align: right;\n",
       "    }\n",
       "</style>\n",
       "<table border=\"1\" class=\"dataframe\">\n",
       "  <thead>\n",
       "    <tr style=\"text-align: right;\">\n",
       "      <th></th>\n",
       "      <th>arrival_airport_icao</th>\n",
       "      <th>flight_number</th>\n",
       "      <th>airline</th>\n",
       "      <th>arrival_time</th>\n",
       "      <th>arrival_terminal</th>\n",
       "      <th>departure_city</th>\n",
       "      <th>departure_airport_icao</th>\n",
       "      <th>data_retrieved_on</th>\n",
       "      <th>aircraft</th>\n",
       "    </tr>\n",
       "  </thead>\n",
       "  <tbody>\n",
       "    <tr>\n",
       "      <th>2936</th>\n",
       "      <td>EDDF</td>\n",
       "      <td>KM 2804</td>\n",
       "      <td>Air Malta</td>\n",
       "      <td>2024-03-15 19:55+01:00</td>\n",
       "      <td>1</td>\n",
       "      <td>Luqa</td>\n",
       "      <td>LMML</td>\n",
       "      <td>2024-03-14</td>\n",
       "      <td>Airbus A320</td>\n",
       "    </tr>\n",
       "  </tbody>\n",
       "</table>\n",
       "</div>"
      ],
      "text/plain": [
       "     arrival_airport_icao flight_number    airline            arrival_time  \\\n",
       "2936                 EDDF       KM 2804  Air Malta  2024-03-15 19:55+01:00   \n",
       "\n",
       "     arrival_terminal departure_city departure_airport_icao data_retrieved_on  \\\n",
       "2936                1           Luqa                   LMML        2024-03-14   \n",
       "\n",
       "         aircraft  \n",
       "2936  Airbus A320  "
      ]
     },
     "execution_count": 34,
     "metadata": {},
     "output_type": "execute_result"
    }
   ],
   "source": [
    "flight_arrivals.sample()"
   ]
  },
  {
   "cell_type": "code",
   "execution_count": 35,
   "id": "905aea07-5946-4223-9f99-78944373c776",
   "metadata": {
    "tags": []
   },
   "outputs": [],
   "source": [
    "flight_arrivals['arrival_time'] = pd.to_datetime(flight_arrivals['arrival_time'])\n",
    "flight_arrivals['data_retrieved_on'] = pd.to_datetime(flight_arrivals['data_retrieved_on'])\n",
    "\n",
    "flight_arrivals= flight_arrivals.rename(columns = {\"arrival_airport_icao\" : \"icao\"}) "
   ]
  },
  {
   "cell_type": "markdown",
   "id": "58194bec-36d8-4c99-9d32-6c0043922aa1",
   "metadata": {},
   "source": [
    "push to sql"
   ]
  },
  {
   "cell_type": "code",
   "execution_count": 39,
   "id": "04524bfb-9eee-4805-a61a-c00f68295b9c",
   "metadata": {
    "tags": []
   },
   "outputs": [],
   "source": [
    "schema = \"sql_workshop\"\n",
    "host = \"127.0.0.1\"\n",
    "user = \"root\"\n",
    "password = \"188782Im\"\n",
    "port = 3306\n",
    "\n",
    "connection_string = f'mysql+pymysql://{user}:{password}@{host}:{port}/{schema}'"
   ]
  },
  {
   "cell_type": "code",
   "execution_count": 44,
   "id": "7e1f5b5f-8f95-423d-8639-4c4438a66360",
   "metadata": {
    "tags": []
   },
   "outputs": [
    {
     "data": {
      "text/plain": [
       "3215"
      ]
     },
     "execution_count": 44,
     "metadata": {},
     "output_type": "execute_result"
    }
   ],
   "source": [
    "flight_arrivals.to_sql('flight_arrivals',\n",
    "                  if_exists='append',\n",
    "                  con=connection_string,\n",
    "                  index=False)"
   ]
  },
  {
   "cell_type": "code",
   "execution_count": 43,
   "id": "79cdb4fe-7ab1-4e01-8be5-e2f7a8bd29a0",
   "metadata": {
    "tags": []
   },
   "outputs": [
    {
     "data": {
      "text/plain": [
       "8"
      ]
     },
     "execution_count": 43,
     "metadata": {},
     "output_type": "execute_result"
    }
   ],
   "source": [
    "airport.to_sql('airport',\n",
    "                  if_exists='append',\n",
    "                  con=connection_string,\n",
    "                  index=False)"
   ]
  }
 ],
 "metadata": {
  "kernelspec": {
   "display_name": "Python 3 (ipykernel)",
   "language": "python",
   "name": "python3"
  },
  "language_info": {
   "codemirror_mode": {
    "name": "ipython",
    "version": 3
   },
   "file_extension": ".py",
   "mimetype": "text/x-python",
   "name": "python",
   "nbconvert_exporter": "python",
   "pygments_lexer": "ipython3",
   "version": "3.11.5"
  },
  "toc-autonumbering": true,
  "toc-showmarkdowntxt": true
 },
 "nbformat": 4,
 "nbformat_minor": 5
}
