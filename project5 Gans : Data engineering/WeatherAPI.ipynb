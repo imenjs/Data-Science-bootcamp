{
 "cells": [
  {
   "cell_type": "markdown",
   "id": "b557825e-f8ab-474b-89cf-cc16b60168df",
   "metadata": {},
   "source": [
    "import library"
   ]
  },
  {
   "cell_type": "code",
   "execution_count": null,
   "id": "52d20775-66a3-40c6-a632-02c1ca243e04",
   "metadata": {
    "tags": []
   },
   "outputs": [],
   "source": [
    "import pandas as pd\n",
    "import requests"
   ]
  },
  {
   "cell_type": "markdown",
   "id": "b2661e90-4c43-4a80-a935-d966da54ba65",
   "metadata": {},
   "source": [
    "Use API to collect city info"
   ]
  },
  {
   "cell_type": "code",
   "execution_count": null,
   "id": "4003be28-c9ce-4f7f-a672-2173b88c21b8",
   "metadata": {
    "tags": []
   },
   "outputs": [],
   "source": [
    "country = \"DE\"\n",
    "min_population = \"500000\"\n",
    "limit = \"5\"\n",
    "API_key = \"qClItv2fg4hGDiVLf6zTNw==rLE3xLfQa0uwZFD0\"\n",
    "\n",
    "# Reference the parameters in the url.\n",
    "cities = requests.get(f\"https://api.api-ninjas.com/v1/city?country={country}&min_population={min_population}&limit={limit}\", headers={'X-Api-Key': API_key})\n",
    "cities_json = cities.json()\n",
    "cities_json"
   ]
  },
  {
   "cell_type": "markdown",
   "id": "e798ad2b-cb13-4248-85d3-f23a69b888fa",
   "metadata": {},
   "source": [
    "Use API to collect weather info"
   ]
  },
  {
   "cell_type": "code",
   "execution_count": null,
   "id": "d825ea37-f48d-4ab2-89b8-10d2d9846191",
   "metadata": {
    "tags": []
   },
   "outputs": [],
   "source": [
    "\n",
    "\n",
    "city = ['Munich', 'Berlin', 'Cologne', 'Hamburg', 'Frankfurt', 'Leipzig', \"Hannover\", \"Paris\", \"Barcelona\"]\n",
    "key = \"3d0bdd473ef1150bae09f7c484a8be5c\"\n",
    "\n",
    "weather_data = []\n",
    "\n",
    "for c in city:\n",
    "    url = f\"http://api.openweathermap.org/data/2.5/forecast?q={c}&appid={key}\"\n",
    "    response = requests.get(url)\n",
    "   \n",
    "    data = response.json()\n",
    "    weather_data.append(data)\n",
    "weather_data\n",
    "       \n",
    "\n"
   ]
  },
  {
   "cell_type": "code",
   "execution_count": null,
   "id": "f0d53f28-16fd-467b-ada6-a1f63289499b",
   "metadata": {
    "tags": []
   },
   "outputs": [],
   "source": [
    "weather_data\n"
   ]
  },
  {
   "cell_type": "code",
   "execution_count": null,
   "id": "961b1804-7748-4e93-9c87-8c911cea7bce",
   "metadata": {
    "tags": []
   },
   "outputs": [],
   "source": [
    "weather_data[0][\"cnt\"]"
   ]
  },
  {
   "cell_type": "code",
   "execution_count": null,
   "id": "e2129fa0-5f5b-48f8-8f99-72c5b67678b7",
   "metadata": {
    "tags": []
   },
   "outputs": [],
   "source": [
    "weather_data[0][\"list\"][0][\"main\"][\"temp\"]"
   ]
  },
  {
   "cell_type": "code",
   "execution_count": null,
   "id": "af1799f9-7941-491d-9cdd-83991f56eb6f",
   "metadata": {
    "tags": []
   },
   "outputs": [],
   "source": [
    "path1 = weather_data[8][\"list\"][4][\"weather\"][0][\"main\"]#[\"feels_like\"]\n",
    "\n",
    "path2 = weather_data[8][\"list\"][4][\"rain\"][\"3h\"]\n",
    "\n",
    "if path1 = \"Rain\"\n",
    "    return float(path1) \n",
    "else \n",
    "    return 0 "
   ]
  },
  {
   "cell_type": "code",
   "execution_count": null,
   "id": "a989f170-7f7c-4fee-ac1b-ccf296ec38f5",
   "metadata": {
    "tags": []
   },
   "outputs": [],
   "source": [
    "temp = weather_data[0][\"list\"][0][\"main\"][\"temp\"]\n",
    "humidity= weather_data[0][\"list\"][0][\"main\"][\"humidity\"]\n",
    "weather = weather_data[0][\"list\"][0][\"weather\"][0][\"main\"]\n",
    "description = weather_data[0][\"list\"][0][\"weather\"][0][\"description\"]\n",
    "wind_speed = weather_data[0][\"list\"][0][\"wind\"][\"speed\"]\n",
    "date = weather_data[0][\"list\"][0][\"dt_txt\"]\n",
    "rain_prob = weather_data[0][\"list\"][0][\"pop\"]\n",
    "feel_like_temp = weather_data[o][\"list\"][0][\"main\"][\"feels_like\"]"
   ]
  },
  {
   "cell_type": "markdown",
   "id": "330bdbd1-466c-45d7-b951-1b1c01ea4330",
   "metadata": {},
   "source": [
    "Create table weather info "
   ]
  },
  {
   "cell_type": "code",
   "execution_count": null,
   "id": "6d8b9d52-51ba-4f4a-a487-d558c9bf5775",
   "metadata": {
    "tags": []
   },
   "outputs": [],
   "source": [
    "weather_data"
   ]
  },
  {
   "cell_type": "code",
   "execution_count": null,
   "id": "b72e24d6-7cee-4d60-8e67-4262395ccd16",
   "metadata": {
    "tags": []
   },
   "outputs": [],
   "source": [
    "# original \n",
    "\n",
    "city_data = []\n",
    "\n",
    "for data in weather_data:\n",
    "    city_name = data[\"city\"][\"name\"]\n",
    "    repetitions = data[\"cnt\"]\n",
    "    for i in range(repetitions):\n",
    "        forecast = data[\"list\"][i]\n",
    "        temp = forecast[\"main\"][\"temp\"]\n",
    "        humidity = forecast[\"main\"][\"humidity\"]\n",
    "        weather = forecast[\"weather\"][0][\"main\"]\n",
    "        description = forecast[\"weather\"][0][\"description\"]\n",
    "        wind_speed = forecast[\"wind\"][\"speed\"]\n",
    "        date = forecast[\"dt_txt\"]\n",
    "        rain_prob = forecast[\"pop\"]\n",
    "        feel_like_temp = forecast[\"main\"][\"feels_like\"]\n",
    "        \n",
    "        \n",
    "\n",
    "    \n",
    "        \n",
    "        city_data.append({\n",
    "            \"City\": city_name,\n",
    "            \"Temperature\": temp,\n",
    "            \"feel_like_temp\" : feel_like_temp,\n",
    "            \"Humidity\": humidity,\n",
    "            \"Weather\": weather,\n",
    "            \"Description\": description,\n",
    "            \"Wind_Speed\": wind_speed,\n",
    "            \"rain_prob\" : rain_prob,\n",
    "            \"Forcast_Date\": date\n",
    "            \n",
    "            \n",
    "        })\n",
    "\n",
    "weather_df = pd.DataFrame(city_data)\n",
    "\n"
   ]
  },
  {
   "cell_type": "code",
   "execution_count": null,
   "id": "467887d0-b6da-463e-b015-29681e73037b",
   "metadata": {
    "tags": []
   },
   "outputs": [],
   "source": [
    "city_data = []\n",
    "\n",
    "for data in weather_data:\n",
    "    city_name = data[\"city\"][\"name\"]\n",
    "    repetitions = data[\"cnt\"]\n",
    "    for i in range(repetitions):\n",
    "        forecast = data[\"list\"][i]\n",
    "        temp = forecast[\"main\"][\"temp\"]\n",
    "        humidity = forecast[\"main\"][\"humidity\"]\n",
    "        weather = forecast[\"weather\"][0][\"main\"]\n",
    "        description = forecast[\"weather\"][0][\"description\"]\n",
    "        wind_speed = forecast[\"wind\"][\"speed\"]\n",
    "        date = forecast[\"dt_txt\"]\n",
    "        feel_like_temp = forecast[\"main\"][\"feels_like\"]\n",
    "        \n",
    "        # Check if \"Rain\" is in the weather description\n",
    "        if (forecast[\"weather\"][0][\"main\"] == \"Rain\"):\n",
    "            rain = forecast[\"rain\"][\"3h\"]\n",
    "        else  : rain = 0     \n",
    "        if (forecast[\"weather\"][0][\"main\"] == \"Snow\"):\n",
    "            snow = forecast[\"snow\"][\"3h\"]\n",
    "        else :\n",
    "            snow = 0 \n",
    "        city_data.append({\n",
    "            \"City\": city_name,\n",
    "            \"Temperature\": temp,\n",
    "            \"feel_like_temp\": feel_like_temp,\n",
    "            \"Humidity\": humidity,\n",
    "            \"Weather\": weather,\n",
    "            \"Description\": description,\n",
    "            \"Wind_Speed\": wind_speed,\n",
    "            \"rain\": rain,\n",
    "            \"snow\" : snow,\n",
    "            \"Forcast_Date\": date\n",
    "        })\n",
    "\n",
    "weather_df = pd.DataFrame(city_data)\n"
   ]
  },
  {
   "cell_type": "markdown",
   "id": "9b9ddc0e-a17c-4d3d-a227-46ae0fd03ff4",
   "metadata": {},
   "source": [
    "Weather Function "
   ]
  },
  {
   "cell_type": "code",
   "execution_count": 6,
   "id": "f9cf82a0-9c40-4f98-9251-c5dba1d5d8cd",
   "metadata": {
    "tags": []
   },
   "outputs": [],
   "source": [
    "import requests\n",
    "import pandas as pd\n",
    "\n",
    "def get_weather_data(cities, api_key):\n",
    "    weather_data = []\n",
    "\n",
    "    for city in cities:\n",
    "        url = f\"http://api.openweathermap.org/data/2.5/forecast?q={city}&appid={api_key}\"\n",
    "        response = requests.get(url)\n",
    "        data = response.json()\n",
    "        weather_data.append(data)\n",
    "    \n",
    "    city_data = []\n",
    "    \n",
    "    for data in weather_data:\n",
    "        city_name = data[\"city\"][\"name\"]\n",
    "        repetitions = data[\"cnt\"]\n",
    "        for i in range(repetitions):\n",
    "            forecast = data[\"list\"][i]\n",
    "            temp = forecast[\"main\"][\"temp\"]\n",
    "            humidity = forecast[\"main\"][\"humidity\"]\n",
    "            weather = forecast[\"weather\"][0][\"main\"]\n",
    "            description = forecast[\"weather\"][0][\"description\"]\n",
    "            wind_speed = forecast[\"wind\"][\"speed\"]\n",
    "            date = forecast[\"dt_txt\"]\n",
    "            feel_like_temp = forecast[\"main\"][\"feels_like\"]\n",
    "            \n",
    "            # Check if \"Rain\" is in the weather description\n",
    "            if (forecast[\"weather\"][0][\"main\"] == \"Rain\"):\n",
    "                rain = forecast[\"rain\"][\"3h\"]\n",
    "            else:\n",
    "                rain = 0     \n",
    "            if (forecast[\"weather\"][0][\"main\"] == \"Snow\"):\n",
    "                snow = forecast[\"snow\"][\"3h\"]\n",
    "            else:\n",
    "                snow = 0 \n",
    "            \n",
    "            city_data.append({\n",
    "                #\"city\": city_name,\n",
    "                \"Temperature\": temp,\n",
    "                \"feel_like_temp\": feel_like_temp,\n",
    "                \"Humidity\": humidity,\n",
    "                \"Weather\": weather,\n",
    "                \"Description\": description,\n",
    "                \"Wind_Speed\": wind_speed,\n",
    "                \"rain\": rain,\n",
    "                \"snow\": snow,\n",
    "                \"Forcast_Date\": date\n",
    "            })\n",
    "            \n",
    "            #change data type\n",
    "            weather_df['Temperature'] = (weather_df['Temperature'] - 273.15).round(2)\n",
    "            weather_df['feel_like_temp'] = (weather_df['feel_like_temp'] - 273.15).round(2)\n",
    "            weather_df['Forcast_Date'] = pd.to_datetime(weather_df['Forcast_Date'])\n",
    "            weather_df[\"snow\"] = weather_df[\"snow\"].astype(float)\n",
    "\n",
    "    weather_df = pd.DataFrame(city_data)\n",
    "    return weather_df\n"
   ]
  },
  {
   "cell_type": "code",
   "execution_count": null,
   "id": "9d0626f9-fc7a-4bad-9528-a9ab57b64b80",
   "metadata": {
    "tags": []
   },
   "outputs": [],
   "source": [
    "cities = ['Munich', 'Berlin', 'Cologne', 'Hamburg', 'Frankfurt', 'Leipzig', \"Hannover\"]\n",
    "key = \"3d0bdd473ef1150bae09f7c484a8be5c\"\n",
    "weather_df = get_weather_data(cities, key)"
   ]
  },
  {
   "cell_type": "code",
   "execution_count": null,
   "id": "a357c435-f0a3-461b-a339-a475bbfda9ba",
   "metadata": {
    "tags": []
   },
   "outputs": [],
   "source": [
    "weather_df.info()"
   ]
  },
  {
   "cell_type": "markdown",
   "id": "4522bff5-5da2-497f-8847-fa71e315672f",
   "metadata": {},
   "source": [
    "data cleaning"
   ]
  },
  {
   "cell_type": "code",
   "execution_count": null,
   "id": "a805768f-7640-487f-9cf8-094e41f9a4c7",
   "metadata": {
    "tags": []
   },
   "outputs": [],
   "source": [
    "#change temperature in celsus\n",
    "\n",
    "weather_df['Temperature'] = (weather_df['Temperature'] - 273.15).round(2)\n",
    "weather_df['feel_like_temp'] = (weather_df['feel_like_temp'] - 273.15).round(2)\n",
    "\n",
    "\n",
    "\n",
    "\n",
    "weather_df['Forcast_Date'] = pd.to_datetime(weather_df['Forcast_Date'])\n",
    "\n",
    "weather_df[\"snow\"] = weather_df[\"snow\"].astype(float)"
   ]
  },
  {
   "cell_type": "code",
   "execution_count": null,
   "id": "7e0af035-76ce-4a7e-a97b-80fa83026762",
   "metadata": {
    "tags": []
   },
   "outputs": [],
   "source": [
    "weather_df.info()"
   ]
  },
  {
   "cell_type": "markdown",
   "id": "d210b675-129c-4b6b-983c-8d8c129cc7c0",
   "metadata": {},
   "source": [
    "connect with sql "
   ]
  },
  {
   "cell_type": "code",
   "execution_count": null,
   "id": "947dfb71-e7dc-4d69-9c20-46500506e930",
   "metadata": {
    "tags": []
   },
   "outputs": [],
   "source": [
    "schema = \"sql_workshop\"\n",
    "host = \"127.0.0.1\"\n",
    "user = \"root\"\n",
    "password = \"188782Im\"\n",
    "port = 3306\n",
    "\n",
    "connection_string = f'mysql+pymysql://{user}:{password}@{host}:{port}/{schema}'"
   ]
  },
  {
   "cell_type": "markdown",
   "id": "4a69ed51-9a5a-4b68-96c3-906d583e8027",
   "metadata": {},
   "source": [
    "Push the table weather"
   ]
  },
  {
   "cell_type": "code",
   "execution_count": null,
   "id": "5cbf9032-aaae-4642-b14d-b26569bce728",
   "metadata": {
    "tags": []
   },
   "outputs": [],
   "source": [
    "weather_df.to_sql('weather_df',\n",
    "                  if_exists='append',\n",
    "                  con=connection_string,\n",
    "                  index=False)"
   ]
  },
  {
   "cell_type": "code",
   "execution_count": null,
   "id": "8817f567-10f5-4c5a-9560-a41ad24e5868",
   "metadata": {},
   "outputs": [],
   "source": [
    "        \"rain_in_last_3h\": item.get(\"rain\", {}).get(\"3h\", 0),\n"
   ]
  }
 ],
 "metadata": {
  "kernelspec": {
   "display_name": "Python 3 (ipykernel)",
   "language": "python",
   "name": "python3"
  },
  "language_info": {
   "codemirror_mode": {
    "name": "ipython",
    "version": 3
   },
   "file_extension": ".py",
   "mimetype": "text/x-python",
   "name": "python",
   "nbconvert_exporter": "python",
   "pygments_lexer": "ipython3",
   "version": "3.11.5"
  }
 },
 "nbformat": 4,
 "nbformat_minor": 5
}
