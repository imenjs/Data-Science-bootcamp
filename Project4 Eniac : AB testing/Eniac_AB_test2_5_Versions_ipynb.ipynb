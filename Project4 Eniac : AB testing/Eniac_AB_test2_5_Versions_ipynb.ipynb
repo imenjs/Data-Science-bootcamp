{
  "nbformat": 4,
  "nbformat_minor": 0,
  "metadata": {
    "colab": {
      "provenance": []
    },
    "kernelspec": {
      "name": "python3",
      "display_name": "Python 3"
    },
    "language_info": {
      "name": "python"
    }
  },
  "cells": [
    {
      "cell_type": "markdown",
      "source": [
        "Eniac's website team settled on 4 different new versions to test against the original “Interact” button:\n",
        "\n",
        "Connect\n",
        "\n",
        "Learn\n",
        "\n",
        "Help\n",
        "\n",
        "Services\n",
        "\n",
        "\n",
        "The metrics that were deemed relevant enough to be tracked were the following:\n",
        "\n",
        "Click-through rate (CTR) for the homepage : Amount of clicks on the button divided by the total visits to the page.\n",
        "\n",
        "Drop-off rate for the category pages: Percentage of visitors who exit the site from a given category page (like Interact, Connect, Learn, etc.) without exploring any of its subpages. A lower drop-off rate is preferable\n",
        "\n",
        "Homepage-return rate for the category pages : Measures how often users who visit specific category pages (Interact, Connect, Learn, etc.) from the library homepage end up returning to the homepage. If they frequently return to the homepage,  Ideally, we want to minimize the homepage-return rate, which would indicate that users are finding what they need on the first try.\n",
        "\n",
        "*  it was decided that for a version to be considered superior, a minimum increase in click-through rate of 30% had to be detected.\n",
        "\n",
        "\n",
        "* The desired Statistical Significance was chosen to be 90%\n",
        "\n",
        "* Currently, the CTR for Interact sits at around 2%, and the page has around 1650 visitors every day.\n",
        "\n",
        "* The length of the experiment was established at 21 days:"
      ],
      "metadata": {
        "id": "gboQS8sZOip4"
      }
    },
    {
      "cell_type": "markdown",
      "source": [
        "#  import all library"
      ],
      "metadata": {
        "id": "ai5gXgtv0lFl"
      }
    },
    {
      "cell_type": "code",
      "source": [
        "import pandas as pd\n",
        "import matplotlib.pyplot as plt\n",
        "import numpy as np\n",
        "from scipy.stats import chi2_contingency\n",
        "from scipy import stats\n",
        "import seaborn as sns"
      ],
      "metadata": {
        "id": "cDGEF7ZHrfls"
      },
      "execution_count": 26,
      "outputs": []
    },
    {
      "cell_type": "markdown",
      "source": [
        "# import all the data"
      ],
      "metadata": {
        "id": "zioouOsh0hJ5"
      }
    },
    {
      "cell_type": "code",
      "source": [
        "interact_df =pd.read_csv('/content/drive/My Drive/Element list Homepage Version 1 - Interact, 5-29-2013.csv')\n",
        "connect_df =pd.read_csv('/content/drive/My Drive/Element list Homepage Version 2 - Connect, 5-29-2013.csv')\n",
        "learn_df =pd.read_csv('/content/drive/My Drive/Element list Homepage Version 3 - Learn, 5-29-2013.csv')\n",
        "help_df =pd.read_csv('/content/drive/My Drive/Element list Homepage Version 4 - Help, 5-29-2013.csv')\n",
        "services_df =pd.read_csv('/content/drive/My Drive/Element list Homepage Version 5 - Services, 5-29-2013.csv')"
      ],
      "metadata": {
        "id": "jejJ7E_pP1PX"
      },
      "execution_count": 12,
      "outputs": []
    },
    {
      "cell_type": "markdown",
      "source": [
        "What was the click-through rate for each version?\n",
        "\n",
        "Which version was the winner?\n",
        "\n",
        "Do the results seem conclusive?"
      ],
      "metadata": {
        "id": "Oyf5ubhTzwsH"
      }
    },
    {
      "cell_type": "markdown",
      "source": [
        "# export the data click and no cklick for each version\n"
      ],
      "metadata": {
        "id": "7K6J8rif7bqh"
      }
    },
    {
      "cell_type": "code",
      "source": [
        "%load_ext google.colab.data_table"
      ],
      "metadata": {
        "id": "kSqB7Chi6qAn"
      },
      "execution_count": 16,
      "outputs": []
    },
    {
      "cell_type": "markdown",
      "source": [
        "Exctract Click data\n"
      ],
      "metadata": {
        "id": "1SGEl_La7z3r"
      }
    },
    {
      "cell_type": "code",
      "source": [
        "interact_clicks = int(interact_df.loc[interact_df[\"Name\"]==\"INTERACT\", \"No. clicks\"])\n",
        "connect_clicks = int(connect_df.loc[connect_df[\"Name\"]==\"CONNECT\", \"No. clicks\"])\n",
        "learn_clicks = int(learn_df.loc[learn_df[\"Name\"]==\"LEARN\", \"No. clicks\"])\n",
        "help_clicks = int(help_df.loc[help_df[\"Name\"]==\"HELP\", \"No. clicks\"])\n",
        "services_clicks = int(services_df.loc[services_df[\"Name\"]==\"SERVICES\", \"No. clicks\"])\n",
        "\n",
        "interact_clicks, connect_clicks, learn_clicks, help_clicks, services_clicks\n"
      ],
      "metadata": {
        "colab": {
          "base_uri": "https://localhost:8080/"
        },
        "id": "iZldPGYN7pzW",
        "outputId": "db665981-74e1-4029-9d4d-9d03c745385c"
      },
      "execution_count": 39,
      "outputs": [
        {
          "output_type": "execute_result",
          "data": {
            "text/plain": [
              "(42, 53, 21, 38, 45)"
            ]
          },
          "metadata": {},
          "execution_count": 39
        }
      ]
    },
    {
      "cell_type": "markdown",
      "source": [
        "total number of visitors"
      ],
      "metadata": {
        "id": "IaFNlqai74BU"
      }
    },
    {
      "cell_type": "code",
      "source": [
        "interact_visits = 10283\n",
        "connect_visits = 2742\n",
        "learn_visits = 2747\n",
        "help_visits = 3180\n",
        "services_visits = 2064\n",
        "\n",
        "interact_visits, connect_visits, learn_visits, help_visits,services_visits"
      ],
      "metadata": {
        "colab": {
          "base_uri": "https://localhost:8080/"
        },
        "id": "gcTxU_hi7rdj",
        "outputId": "74ff5abd-96d4-4c51-b2d1-c0ed18627b6f"
      },
      "execution_count": 44,
      "outputs": [
        {
          "output_type": "execute_result",
          "data": {
            "text/plain": [
              "(10283, 2742, 2747, 3180, 2064)"
            ]
          },
          "metadata": {},
          "execution_count": 44
        }
      ]
    },
    {
      "cell_type": "markdown",
      "source": [
        "Number of visitor who didn't click"
      ],
      "metadata": {
        "id": "laZrOuxU8SYB"
      }
    },
    {
      "cell_type": "code",
      "source": [
        "interact_no_click = interact_visits - interact_clicks\n",
        "connect_no_click = connect_visits - connect_clicks\n",
        "learn_no_click = learn_visits - learn_clicks\n",
        "help_no_click = help_visits - help_clicks\n",
        "services_no_click = services_visits - services_clicks"
      ],
      "metadata": {
        "id": "gGMm0fRy8Q4z"
      },
      "execution_count": 35,
      "outputs": []
    },
    {
      "cell_type": "markdown",
      "source": [
        "Create the contengency table"
      ],
      "metadata": {
        "id": "NHitROoH8axQ"
      }
    },
    {
      "cell_type": "code",
      "source": [
        "clicks = [interact_clicks, connect_clicks, learn_clicks, help_clicks, services_clicks]\n",
        "no_clicks = [interact_no_click, connect_no_click, learn_no_click, help_no_click, services_no_click]\n",
        "\n",
        "observed_results = pd.DataFrame(data = [clicks, no_clicks],\n",
        "                                columns = [\"Interact\", \"Connect\", \"Learn\", \"Help\", \"Services\"],\n",
        "                                index = [\"Click\", \"No_click\"])\n",
        "\n",
        "observed_results"
      ],
      "metadata": {
        "colab": {
          "base_uri": "https://localhost:8080/",
          "height": 165
        },
        "id": "sZmecjDN8hna",
        "outputId": "bc4750e5-eed7-4942-8993-a35de828b470"
      },
      "execution_count": 38,
      "outputs": [
        {
          "output_type": "execute_result",
          "data": {
            "text/plain": [
              "          Interact  Connect  Learn  Help  Services\n",
              "Click           42       53     21    38        45\n",
              "No_click     10241     2689   2726  3142      2019"
            ],
            "text/html": [
              "\n",
              "  <div id=\"df-9bec9e1a-d7c3-4b0e-be3c-805b1363a540\" class=\"colab-df-container\">\n",
              "    <div>\n",
              "<style scoped>\n",
              "    .dataframe tbody tr th:only-of-type {\n",
              "        vertical-align: middle;\n",
              "    }\n",
              "\n",
              "    .dataframe tbody tr th {\n",
              "        vertical-align: top;\n",
              "    }\n",
              "\n",
              "    .dataframe thead th {\n",
              "        text-align: right;\n",
              "    }\n",
              "</style>\n",
              "<table border=\"1\" class=\"dataframe\">\n",
              "  <thead>\n",
              "    <tr style=\"text-align: right;\">\n",
              "      <th></th>\n",
              "      <th>Interact</th>\n",
              "      <th>Connect</th>\n",
              "      <th>Learn</th>\n",
              "      <th>Help</th>\n",
              "      <th>Services</th>\n",
              "    </tr>\n",
              "  </thead>\n",
              "  <tbody>\n",
              "    <tr>\n",
              "      <th>Click</th>\n",
              "      <td>42</td>\n",
              "      <td>53</td>\n",
              "      <td>21</td>\n",
              "      <td>38</td>\n",
              "      <td>45</td>\n",
              "    </tr>\n",
              "    <tr>\n",
              "      <th>No_click</th>\n",
              "      <td>10241</td>\n",
              "      <td>2689</td>\n",
              "      <td>2726</td>\n",
              "      <td>3142</td>\n",
              "      <td>2019</td>\n",
              "    </tr>\n",
              "  </tbody>\n",
              "</table>\n",
              "</div>\n",
              "    <div class=\"colab-df-buttons\">\n",
              "\n",
              "  <div class=\"colab-df-container\">\n",
              "    <button class=\"colab-df-convert\" onclick=\"convertToInteractive('df-9bec9e1a-d7c3-4b0e-be3c-805b1363a540')\"\n",
              "            title=\"Convert this dataframe to an interactive table.\"\n",
              "            style=\"display:none;\">\n",
              "\n",
              "  <svg xmlns=\"http://www.w3.org/2000/svg\" height=\"24px\" viewBox=\"0 -960 960 960\">\n",
              "    <path d=\"M120-120v-720h720v720H120Zm60-500h600v-160H180v160Zm220 220h160v-160H400v160Zm0 220h160v-160H400v160ZM180-400h160v-160H180v160Zm440 0h160v-160H620v160ZM180-180h160v-160H180v160Zm440 0h160v-160H620v160Z\"/>\n",
              "  </svg>\n",
              "    </button>\n",
              "\n",
              "  <style>\n",
              "    .colab-df-container {\n",
              "      display:flex;\n",
              "      gap: 12px;\n",
              "    }\n",
              "\n",
              "    .colab-df-convert {\n",
              "      background-color: #E8F0FE;\n",
              "      border: none;\n",
              "      border-radius: 50%;\n",
              "      cursor: pointer;\n",
              "      display: none;\n",
              "      fill: #1967D2;\n",
              "      height: 32px;\n",
              "      padding: 0 0 0 0;\n",
              "      width: 32px;\n",
              "    }\n",
              "\n",
              "    .colab-df-convert:hover {\n",
              "      background-color: #E2EBFA;\n",
              "      box-shadow: 0px 1px 2px rgba(60, 64, 67, 0.3), 0px 1px 3px 1px rgba(60, 64, 67, 0.15);\n",
              "      fill: #174EA6;\n",
              "    }\n",
              "\n",
              "    .colab-df-buttons div {\n",
              "      margin-bottom: 4px;\n",
              "    }\n",
              "\n",
              "    [theme=dark] .colab-df-convert {\n",
              "      background-color: #3B4455;\n",
              "      fill: #D2E3FC;\n",
              "    }\n",
              "\n",
              "    [theme=dark] .colab-df-convert:hover {\n",
              "      background-color: #434B5C;\n",
              "      box-shadow: 0px 1px 3px 1px rgba(0, 0, 0, 0.15);\n",
              "      filter: drop-shadow(0px 1px 2px rgba(0, 0, 0, 0.3));\n",
              "      fill: #FFFFFF;\n",
              "    }\n",
              "  </style>\n",
              "\n",
              "    <script>\n",
              "      const buttonEl =\n",
              "        document.querySelector('#df-9bec9e1a-d7c3-4b0e-be3c-805b1363a540 button.colab-df-convert');\n",
              "      buttonEl.style.display =\n",
              "        google.colab.kernel.accessAllowed ? 'block' : 'none';\n",
              "\n",
              "      async function convertToInteractive(key) {\n",
              "        const element = document.querySelector('#df-9bec9e1a-d7c3-4b0e-be3c-805b1363a540');\n",
              "        const dataTable =\n",
              "          await google.colab.kernel.invokeFunction('convertToInteractive',\n",
              "                                                    [key], {});\n",
              "        if (!dataTable) return;\n",
              "\n",
              "        const docLinkHtml = 'Like what you see? Visit the ' +\n",
              "          '<a target=\"_blank\" href=https://colab.research.google.com/notebooks/data_table.ipynb>data table notebook</a>'\n",
              "          + ' to learn more about interactive tables.';\n",
              "        element.innerHTML = '';\n",
              "        dataTable['output_type'] = 'display_data';\n",
              "        await google.colab.output.renderOutput(dataTable, element);\n",
              "        const docLink = document.createElement('div');\n",
              "        docLink.innerHTML = docLinkHtml;\n",
              "        element.appendChild(docLink);\n",
              "      }\n",
              "    </script>\n",
              "  </div>\n",
              "\n",
              "\n",
              "<div id=\"df-bc602b0f-e387-4047-ac57-394a20b0b860\">\n",
              "  <button class=\"colab-df-quickchart\" onclick=\"quickchart('df-bc602b0f-e387-4047-ac57-394a20b0b860')\"\n",
              "            title=\"Suggest charts\"\n",
              "            style=\"display:none;\">\n",
              "\n",
              "<svg xmlns=\"http://www.w3.org/2000/svg\" height=\"24px\"viewBox=\"0 0 24 24\"\n",
              "     width=\"24px\">\n",
              "    <g>\n",
              "        <path d=\"M19 3H5c-1.1 0-2 .9-2 2v14c0 1.1.9 2 2 2h14c1.1 0 2-.9 2-2V5c0-1.1-.9-2-2-2zM9 17H7v-7h2v7zm4 0h-2V7h2v10zm4 0h-2v-4h2v4z\"/>\n",
              "    </g>\n",
              "</svg>\n",
              "  </button>\n",
              "\n",
              "<style>\n",
              "  .colab-df-quickchart {\n",
              "      --bg-color: #E8F0FE;\n",
              "      --fill-color: #1967D2;\n",
              "      --hover-bg-color: #E2EBFA;\n",
              "      --hover-fill-color: #174EA6;\n",
              "      --disabled-fill-color: #AAA;\n",
              "      --disabled-bg-color: #DDD;\n",
              "  }\n",
              "\n",
              "  [theme=dark] .colab-df-quickchart {\n",
              "      --bg-color: #3B4455;\n",
              "      --fill-color: #D2E3FC;\n",
              "      --hover-bg-color: #434B5C;\n",
              "      --hover-fill-color: #FFFFFF;\n",
              "      --disabled-bg-color: #3B4455;\n",
              "      --disabled-fill-color: #666;\n",
              "  }\n",
              "\n",
              "  .colab-df-quickchart {\n",
              "    background-color: var(--bg-color);\n",
              "    border: none;\n",
              "    border-radius: 50%;\n",
              "    cursor: pointer;\n",
              "    display: none;\n",
              "    fill: var(--fill-color);\n",
              "    height: 32px;\n",
              "    padding: 0;\n",
              "    width: 32px;\n",
              "  }\n",
              "\n",
              "  .colab-df-quickchart:hover {\n",
              "    background-color: var(--hover-bg-color);\n",
              "    box-shadow: 0 1px 2px rgba(60, 64, 67, 0.3), 0 1px 3px 1px rgba(60, 64, 67, 0.15);\n",
              "    fill: var(--button-hover-fill-color);\n",
              "  }\n",
              "\n",
              "  .colab-df-quickchart-complete:disabled,\n",
              "  .colab-df-quickchart-complete:disabled:hover {\n",
              "    background-color: var(--disabled-bg-color);\n",
              "    fill: var(--disabled-fill-color);\n",
              "    box-shadow: none;\n",
              "  }\n",
              "\n",
              "  .colab-df-spinner {\n",
              "    border: 2px solid var(--fill-color);\n",
              "    border-color: transparent;\n",
              "    border-bottom-color: var(--fill-color);\n",
              "    animation:\n",
              "      spin 1s steps(1) infinite;\n",
              "  }\n",
              "\n",
              "  @keyframes spin {\n",
              "    0% {\n",
              "      border-color: transparent;\n",
              "      border-bottom-color: var(--fill-color);\n",
              "      border-left-color: var(--fill-color);\n",
              "    }\n",
              "    20% {\n",
              "      border-color: transparent;\n",
              "      border-left-color: var(--fill-color);\n",
              "      border-top-color: var(--fill-color);\n",
              "    }\n",
              "    30% {\n",
              "      border-color: transparent;\n",
              "      border-left-color: var(--fill-color);\n",
              "      border-top-color: var(--fill-color);\n",
              "      border-right-color: var(--fill-color);\n",
              "    }\n",
              "    40% {\n",
              "      border-color: transparent;\n",
              "      border-right-color: var(--fill-color);\n",
              "      border-top-color: var(--fill-color);\n",
              "    }\n",
              "    60% {\n",
              "      border-color: transparent;\n",
              "      border-right-color: var(--fill-color);\n",
              "    }\n",
              "    80% {\n",
              "      border-color: transparent;\n",
              "      border-right-color: var(--fill-color);\n",
              "      border-bottom-color: var(--fill-color);\n",
              "    }\n",
              "    90% {\n",
              "      border-color: transparent;\n",
              "      border-bottom-color: var(--fill-color);\n",
              "    }\n",
              "  }\n",
              "</style>\n",
              "\n",
              "  <script>\n",
              "    async function quickchart(key) {\n",
              "      const quickchartButtonEl =\n",
              "        document.querySelector('#' + key + ' button');\n",
              "      quickchartButtonEl.disabled = true;  // To prevent multiple clicks.\n",
              "      quickchartButtonEl.classList.add('colab-df-spinner');\n",
              "      try {\n",
              "        const charts = await google.colab.kernel.invokeFunction(\n",
              "            'suggestCharts', [key], {});\n",
              "      } catch (error) {\n",
              "        console.error('Error during call to suggestCharts:', error);\n",
              "      }\n",
              "      quickchartButtonEl.classList.remove('colab-df-spinner');\n",
              "      quickchartButtonEl.classList.add('colab-df-quickchart-complete');\n",
              "    }\n",
              "    (() => {\n",
              "      let quickchartButtonEl =\n",
              "        document.querySelector('#df-bc602b0f-e387-4047-ac57-394a20b0b860 button');\n",
              "      quickchartButtonEl.style.display =\n",
              "        google.colab.kernel.accessAllowed ? 'block' : 'none';\n",
              "    })();\n",
              "  </script>\n",
              "</div>\n",
              "    </div>\n",
              "  </div>\n"
            ],
            "application/vnd.google.colaboratory.intrinsic+json": {
              "type": "dataframe",
              "variable_name": "observed_results",
              "summary": "{\n  \"name\": \"observed_results\",\n  \"rows\": 2,\n  \"fields\": [\n    {\n      \"column\": \"Interact\",\n      \"properties\": {\n        \"dtype\": \"number\",\n        \"std\": 7211,\n        \"min\": 42,\n        \"max\": 10241,\n        \"num_unique_values\": 2,\n        \"samples\": [\n          10241,\n          42\n        ],\n        \"semantic_type\": \"\",\n        \"description\": \"\"\n      }\n    },\n    {\n      \"column\": \"Connect\",\n      \"properties\": {\n        \"dtype\": \"number\",\n        \"std\": 1863,\n        \"min\": 53,\n        \"max\": 2689,\n        \"num_unique_values\": 2,\n        \"samples\": [\n          2689,\n          53\n        ],\n        \"semantic_type\": \"\",\n        \"description\": \"\"\n      }\n    },\n    {\n      \"column\": \"Learn\",\n      \"properties\": {\n        \"dtype\": \"number\",\n        \"std\": 1912,\n        \"min\": 21,\n        \"max\": 2726,\n        \"num_unique_values\": 2,\n        \"samples\": [\n          2726,\n          21\n        ],\n        \"semantic_type\": \"\",\n        \"description\": \"\"\n      }\n    },\n    {\n      \"column\": \"Help\",\n      \"properties\": {\n        \"dtype\": \"number\",\n        \"std\": 2194,\n        \"min\": 38,\n        \"max\": 3142,\n        \"num_unique_values\": 2,\n        \"samples\": [\n          3142,\n          38\n        ],\n        \"semantic_type\": \"\",\n        \"description\": \"\"\n      }\n    },\n    {\n      \"column\": \"Services\",\n      \"properties\": {\n        \"dtype\": \"number\",\n        \"std\": 1395,\n        \"min\": 45,\n        \"max\": 2019,\n        \"num_unique_values\": 2,\n        \"samples\": [\n          2019,\n          45\n        ],\n        \"semantic_type\": \"\",\n        \"description\": \"\"\n      }\n    }\n  ]\n}"
            },
            "application/vnd.google.colaboratory.module+javascript": "\n      import \"https://ssl.gstatic.com/colaboratory/data_table/881c4a0d49046431/data_table.js\";\n\n      const table = window.createDataTable({\n        data: [[\"Click\",\n{\n            'v': 42,\n            'f': \"42\",\n        },\n{\n            'v': 53,\n            'f': \"53\",\n        },\n{\n            'v': 21,\n            'f': \"21\",\n        },\n{\n            'v': 38,\n            'f': \"38\",\n        },\n{\n            'v': 45,\n            'f': \"45\",\n        }],\n [\"No_click\",\n{\n            'v': 10241,\n            'f': \"10241\",\n        },\n{\n            'v': 2689,\n            'f': \"2689\",\n        },\n{\n            'v': 2726,\n            'f': \"2726\",\n        },\n{\n            'v': 3142,\n            'f': \"3142\",\n        },\n{\n            'v': 2019,\n            'f': \"2019\",\n        }]],\n        columns: [[\"string\", \"index\"], [\"number\", \"Interact\"], [\"number\", \"Connect\"], [\"number\", \"Learn\"], [\"number\", \"Help\"], [\"number\", \"Services\"]],\n        columnOptions: [{\"width\": \"1px\", \"className\": \"index_column\"}],\n        rowsPerPage: 25,\n        helpUrl: \"https://colab.research.google.com/notebooks/data_table.ipynb\",\n        suppressOutputScrolling: true,\n        minimumWidth: undefined,\n      });\n\n      function appendQuickchartButton(parentElement) {\n        let quickchartButtonContainerElement = document.createElement('div');\n        quickchartButtonContainerElement.innerHTML = `\n<div id=\"df-2200b941-9591-4a25-baa1-8641fd0aba24\">\n  <button class=\"colab-df-quickchart\" onclick=\"quickchart('df-2200b941-9591-4a25-baa1-8641fd0aba24')\"\n            title=\"Suggest charts\"\n            style=\"display:none;\">\n    \n<svg xmlns=\"http://www.w3.org/2000/svg\" height=\"24px\"viewBox=\"0 0 24 24\"\n     width=\"24px\">\n    <g>\n        <path d=\"M19 3H5c-1.1 0-2 .9-2 2v14c0 1.1.9 2 2 2h14c1.1 0 2-.9 2-2V5c0-1.1-.9-2-2-2zM9 17H7v-7h2v7zm4 0h-2V7h2v10zm4 0h-2v-4h2v4z\"/>\n    </g>\n</svg>\n  </button>\n  \n<style>\n  .colab-df-quickchart {\n      --bg-color: #E8F0FE;\n      --fill-color: #1967D2;\n      --hover-bg-color: #E2EBFA;\n      --hover-fill-color: #174EA6;\n      --disabled-fill-color: #AAA;\n      --disabled-bg-color: #DDD;\n  }\n\n  [theme=dark] .colab-df-quickchart {\n      --bg-color: #3B4455;\n      --fill-color: #D2E3FC;\n      --hover-bg-color: #434B5C;\n      --hover-fill-color: #FFFFFF;\n      --disabled-bg-color: #3B4455;\n      --disabled-fill-color: #666;\n  }\n\n  .colab-df-quickchart {\n    background-color: var(--bg-color);\n    border: none;\n    border-radius: 50%;\n    cursor: pointer;\n    display: none;\n    fill: var(--fill-color);\n    height: 32px;\n    padding: 0;\n    width: 32px;\n  }\n\n  .colab-df-quickchart:hover {\n    background-color: var(--hover-bg-color);\n    box-shadow: 0 1px 2px rgba(60, 64, 67, 0.3), 0 1px 3px 1px rgba(60, 64, 67, 0.15);\n    fill: var(--button-hover-fill-color);\n  }\n\n  .colab-df-quickchart-complete:disabled,\n  .colab-df-quickchart-complete:disabled:hover {\n    background-color: var(--disabled-bg-color);\n    fill: var(--disabled-fill-color);\n    box-shadow: none;\n  }\n\n  .colab-df-spinner {\n    border: 2px solid var(--fill-color);\n    border-color: transparent;\n    border-bottom-color: var(--fill-color);\n    animation:\n      spin 1s steps(1) infinite;\n  }\n\n  @keyframes spin {\n    0% {\n      border-color: transparent;\n      border-bottom-color: var(--fill-color);\n      border-left-color: var(--fill-color);\n    }\n    20% {\n      border-color: transparent;\n      border-left-color: var(--fill-color);\n      border-top-color: var(--fill-color);\n    }\n    30% {\n      border-color: transparent;\n      border-left-color: var(--fill-color);\n      border-top-color: var(--fill-color);\n      border-right-color: var(--fill-color);\n    }\n    40% {\n      border-color: transparent;\n      border-right-color: var(--fill-color);\n      border-top-color: var(--fill-color);\n    }\n    60% {\n      border-color: transparent;\n      border-right-color: var(--fill-color);\n    }\n    80% {\n      border-color: transparent;\n      border-right-color: var(--fill-color);\n      border-bottom-color: var(--fill-color);\n    }\n    90% {\n      border-color: transparent;\n      border-bottom-color: var(--fill-color);\n    }\n  }\n</style>\n\n  <script>\n    async function quickchart(key) {\n      const quickchartButtonEl =\n        document.querySelector('#' + key + ' button');\n      quickchartButtonEl.disabled = true;  // To prevent multiple clicks.\n      quickchartButtonEl.classList.add('colab-df-spinner');\n      try {\n        const charts = await google.colab.kernel.invokeFunction(\n            'suggestCharts', [key], {});\n      } catch (error) {\n        console.error('Error during call to suggestCharts:', error);\n      }\n      quickchartButtonEl.classList.remove('colab-df-spinner');\n      quickchartButtonEl.classList.add('colab-df-quickchart-complete');\n    }\n    (() => {\n      let quickchartButtonEl =\n        document.querySelector('#df-2200b941-9591-4a25-baa1-8641fd0aba24 button');\n      quickchartButtonEl.style.display =\n        google.colab.kernel.accessAllowed ? 'block' : 'none';\n    })();\n  </script>\n</div>`;\n        parentElement.appendChild(quickchartButtonContainerElement);\n      }\n\n      appendQuickchartButton(table);\n    "
          },
          "metadata": {},
          "execution_count": 38
        }
      ]
    },
    {
      "cell_type": "markdown",
      "source": [
        "# State the Null Hypothesis and the Alternative Hypothesis."
      ],
      "metadata": {
        "id": "nWrw3sln00U3"
      }
    },
    {
      "cell_type": "markdown",
      "source": [
        "\n",
        "Null Hypothesis: all versions have the same CTR.\n",
        "\n",
        "Alternative Hypothesis: there is a difference in the CTR for the different versions."
      ],
      "metadata": {
        "id": "ZsCqt0V_1rOv"
      }
    },
    {
      "cell_type": "markdown",
      "source": [
        "# Set Variables alpha"
      ],
      "metadata": {
        "id": "etFF_tal0ScO"
      }
    },
    {
      "cell_type": "code",
      "source": [
        "alpha = 0.1"
      ],
      "metadata": {
        "id": "BrfzkmjK0ZU2"
      },
      "execution_count": 31,
      "outputs": []
    },
    {
      "cell_type": "markdown",
      "source": [
        "# Calculate the test result"
      ],
      "metadata": {
        "id": "LicM1rWf9Aw0"
      }
    },
    {
      "cell_type": "code",
      "source": [
        "chisq, pvalue, df, expected = stats.chi2_contingency(observed_results)"
      ],
      "metadata": {
        "id": "79HPadWZ8qnw"
      },
      "execution_count": 28,
      "outputs": []
    },
    {
      "cell_type": "code",
      "source": [
        "pvalue"
      ],
      "metadata": {
        "colab": {
          "base_uri": "https://localhost:8080/"
        },
        "id": "6H8tNnCn9EWS",
        "outputId": "7df92fc8-8f4f-4590-f208-9eed0183eb78"
      },
      "execution_count": 29,
      "outputs": [
        {
          "output_type": "execute_result",
          "data": {
            "text/plain": [
              "4.852334301093838e-20"
            ]
          },
          "metadata": {},
          "execution_count": 29
        }
      ]
    },
    {
      "cell_type": "code",
      "source": [
        "if pvalue > alpha:\n",
        "  print(\"Do not reject the null hypothesis\")\n",
        "else:\n",
        "  print(\"Reject the null hypothesis\")"
      ],
      "metadata": {
        "colab": {
          "base_uri": "https://localhost:8080/"
        },
        "id": "W4KNc3zN9yk9",
        "outputId": "3d9ba860-b7d6-4240-c5e4-ef0c06c7c663"
      },
      "execution_count": 32,
      "outputs": [
        {
          "output_type": "stream",
          "name": "stdout",
          "text": [
            "Reject the null hypothesis\n"
          ]
        }
      ]
    },
    {
      "cell_type": "markdown",
      "source": [
        "This means that at least one of the five different versions performed significantly better or worse than the others."
      ],
      "metadata": {
        "id": "R1ZTMv469-v6"
      }
    },
    {
      "cell_type": "markdown",
      "source": [
        "# Chi Squared pairwise Test"
      ],
      "metadata": {
        "id": "xhPbB-ha-GX3"
      }
    },
    {
      "cell_type": "markdown",
      "source": [
        "Calculate the conversion rate for eatch options"
      ],
      "metadata": {
        "id": "qGktnGOwFHs1"
      }
    },
    {
      "cell_type": "code",
      "source": [
        "import pandas as pd\n",
        "\n",
        "\n",
        "observation = pd.DataFrame({\n",
        "    'version': [\"Interact\", \"Connect\", \"Learn\", \"Help\", \"Services\"],\n",
        "    'click': [42, 53, 21, 38, 45],\n",
        "    'no_click': [10283, 2742, 2747, 3180, 2064]\n",
        "})\n",
        "\n",
        "# Calculate conversion rate for each version\n",
        "observation['conversion_rate'] = observation['click'] / observation['no_click']\n",
        "\n",
        "observation.sort_values(\"conversion_rate\", ascending= False)\n",
        "# Print the results\n",
        "for version, conversion_rate in zip(observation['version'], observation['conversion_rate']):\n",
        "    print(f\"Version {version} conversion rate: {conversion_rate:.2%}\")\n",
        "\n"
      ],
      "metadata": {
        "colab": {
          "base_uri": "https://localhost:8080/"
        },
        "id": "6XWKsmEUAbkD",
        "outputId": "52b42f89-28d7-4ac2-f747-f67ff49c7a47"
      },
      "execution_count": 52,
      "outputs": [
        {
          "output_type": "stream",
          "name": "stdout",
          "text": [
            "Version Interact conversion rate: 0.41%\n",
            "Version Connect conversion rate: 1.93%\n",
            "Version Learn conversion rate: 0.76%\n",
            "Version Help conversion rate: 1.19%\n",
            "Version Services conversion rate: 2.18%\n"
          ]
        }
      ]
    },
    {
      "cell_type": "code",
      "source": [
        "# click-through rates\n",
        "interact_ctr = interact_clicks / interact_visits\n",
        "connect_ctr = connect_clicks / connect_visits\n",
        "learn_ctr = learn_clicks / learn_visits\n",
        "help_ctr = help_clicks / help_visits\n",
        "services_ctr = services_clicks / services_visits\n",
        "\n",
        "# display as DataFrame\n",
        "rates = [interact_ctr, connect_ctr, learn_ctr, help_ctr, services_ctr]\n",
        "names = [\"Interact\", \"Connect\", \"Learn\", \"Help\", \"Services\"]\n",
        "\n",
        "ctr_df = pd.DataFrame({\"rates\": rates, \"names\": names})\n",
        "ctr_df.sort_values(\"rates\", ascending=False)"
      ],
      "metadata": {
        "id": "ISkcXpCbFPvo"
      },
      "execution_count": null,
      "outputs": []
    },
    {
      "cell_type": "markdown",
      "source": [
        "Post_hoc Test"
      ],
      "metadata": {
        "id": "hAM7YlURGCvD"
      }
    },
    {
      "cell_type": "code",
      "source": [
        "possible_combinations = 10\n",
        "alpha_post_hoc = alpha / possible_combinations\n",
        "alpha_post_hoc"
      ],
      "metadata": {
        "colab": {
          "base_uri": "https://localhost:8080/"
        },
        "id": "jb6glbWCGyOO",
        "outputId": "7c39b0e3-a768-4fe5-f8f1-3e95837cc147"
      },
      "execution_count": 57,
      "outputs": [
        {
          "output_type": "execute_result",
          "data": {
            "text/plain": [
              "0.01"
            ]
          },
          "metadata": {},
          "execution_count": 57
        }
      ]
    },
    {
      "cell_type": "code",
      "source": [
        "# empty dictionary to fill with our results\n",
        "stat_significant_dict = {\n",
        "                        \"Interact\": [],\n",
        "                        \"Connect\": [],\n",
        "                        \"Learn\": [],\n",
        "                        \"Help\": [],\n",
        "                        \"Services\": []\n",
        "                         }\n",
        "\n",
        "# compare each version to each other version\n",
        "for i in observed_results.columns:\n",
        "  for j in observed_results.columns:\n",
        "    # use scipy to find the p-value of each pair\n",
        "    chisq, pvalue, df, expected = stats.chi2_contingency(observed_results.loc[:, [i, j]], correction=False)\n",
        "    # boolean: if the p-value is lower than alpha, our result is statistically significant\n",
        "    stat_significant_dict[i].append(pvalue < alpha_post_hoc)\n",
        "\n",
        "# create a DataFrame of results\n",
        "stat_significant_df = pd.DataFrame(stat_significant_dict,\n",
        "                                   index=observed_results.columns)\n",
        "\n",
        "# create a heatmap from the DataFrame & red/green colour palette\n",
        "red_green_palette = sns.diverging_palette(10, 120, n=2, s=70, l=50)\n",
        "ax = sns.heatmap(stat_significant_df, cmap=red_green_palette)\n",
        "\n",
        "# Manually specify colorbar labelling after it's been generated\n",
        "colorbar = ax.collections[0].colorbar\n",
        "colorbar.set_ticks([0.25, 0.75])\n",
        "colorbar.set_ticklabels(['False', 'True'])\n",
        "\n",
        "# Add a title to the heatmap\n",
        "ax.set_title(\"Statistical Significance in Pairwise Tests: True or False?\", pad=10);"
      ],
      "metadata": {
        "colab": {
          "base_uri": "https://localhost:8080/",
          "height": 458
        },
        "id": "9vYFjX74GpxY",
        "outputId": "a0dd1af6-de42-4fb1-d582-8797e7c64c50"
      },
      "execution_count": 58,
      "outputs": [
        {
          "output_type": "display_data",
          "data": {
            "text/plain": [
              "<Figure size 640x480 with 2 Axes>"
            ],
            "image/png": "[encoded data removed]"
          },
          "metadata": {}
        }
      ]
    },
    {
      "cell_type": "code",
      "source": [
        "stat_significant_dict"
      ],
      "metadata": {
        "colab": {
          "base_uri": "https://localhost:8080/"
        },
        "id": "ZiCOOzAvIoHo",
        "outputId": "d58830f5-0e29-430d-cc60-a72e46e39fcc"
      },
      "execution_count": 60,
      "outputs": [
        {
          "output_type": "execute_result",
          "data": {
            "text/plain": [
              "{'Interact': [False, True, False, True, True],\n",
              " 'Connect': [True, False, True, False, False],\n",
              " 'Learn': [False, True, False, False, True],\n",
              " 'Help': [True, False, False, False, True],\n",
              " 'Services': [True, False, True, True, False]}"
            ]
          },
          "metadata": {},
          "execution_count": 60
        }
      ]
    },
    {
      "cell_type": "markdown",
      "source": [
        "Calculate the P value between each @ version , 10 possibility so alpha = 0,1/10"
      ],
      "metadata": {
        "id": "_liekV6uIpMc"
      }
    },
    {
      "cell_type": "code",
      "source": [
        "import pandas as pd\n",
        "from scipy.stats import chi2_contingency\n",
        "\n",
        "# Original observation data\n",
        "observation = pd.DataFrame({\n",
        "    'version': [\"Interact\", \"Connect\", \"Learn\", \"Help\", \"Services\"],\n",
        "    'click': [42, 53, 21, 38, 45],\n",
        "    'no_click': [10283, 2742, 2747, 3180, 2064]\n",
        "})\n",
        "\n",
        "# Function to perform chi-square test for each pair of versions\n",
        "def chi_square_test(observation, alpha):\n",
        "    versions = observation['version'].tolist()\n",
        "    p_values = []\n",
        "\n",
        "    for i in range(len(versions)):\n",
        "        for j in range(i+1, len(versions)):\n",
        "            version1 = versions[i]\n",
        "            version2 = versions[j]\n",
        "\n",
        "            # Creating contingency table\n",
        "            contingency_table = pd.DataFrame({\n",
        "                version1: observation.loc[observation['version'] == version1, ['click', 'no_click']].values.flatten(),\n",
        "                version2: observation.loc[observation['version'] == version2, ['click', 'no_click']].values.flatten()\n",
        "            }, index=['click', 'no_click'])\n",
        "\n",
        "            # Performing chi-square test\n",
        "            chi2, p, dof, ex = chi2_contingency(contingency_table)\n",
        "\n",
        "            # Adjusting alpha\n",
        "            adjusted_alpha = alpha / 10  # Dividing alpha by 10 as requested\n",
        "\n",
        "            # Comparing p-value with adjusted alpha\n",
        "            if p < adjusted_alpha:\n",
        "                print(f\"Significant difference between {version1} and {version2}: p-value = {p:.4f}\")\n",
        "            else:\n",
        "                print(f\"No significant difference between {version1} and {version2}: p-value = {p:.4f}\")\n",
        "\n",
        "            p_values.append((version1, version2, p))\n",
        "\n",
        "    return p_values\n",
        "\n",
        "# Running chi-square test\n",
        "alpha = 0.1\n",
        "results = chi_square_test(observation, alpha)\n",
        "\n"
      ],
      "metadata": {
        "colab": {
          "base_uri": "https://localhost:8080/"
        },
        "id": "by5gJON5-I1N",
        "outputId": "a60e45b9-3c7f-4874-d738-4c85a9aa32d8"
      },
      "execution_count": 64,
      "outputs": [
        {
          "output_type": "stream",
          "name": "stdout",
          "text": [
            "Significant difference between Interact and Connect: p-value = 0.0000\n",
            "No significant difference between Interact and Learn: p-value = 0.0263\n",
            "Significant difference between Interact and Help: p-value = 0.0000\n",
            "Significant difference between Interact and Services: p-value = 0.0000\n",
            "Significant difference between Connect and Learn: p-value = 0.0003\n",
            "No significant difference between Connect and Help: p-value = 0.0307\n",
            "No significant difference between Connect and Services: p-value = 0.6275\n",
            "No significant difference between Learn and Help: p-value = 0.1292\n",
            "Significant difference between Learn and Services: p-value = 0.0001\n",
            "Significant difference between Help and Services: p-value = 0.0085\n"
          ]
        }
      ]
    }
  ]
}