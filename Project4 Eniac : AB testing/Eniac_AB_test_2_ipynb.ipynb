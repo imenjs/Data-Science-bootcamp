{
  "nbformat": 4,
  "nbformat_minor": 0,
  "metadata": {
    "colab": {
      "provenance": [],
      "authorship_tag": "ABX9TyNhbpZYEABM9giZ8SQ36wq8",
      "include_colab_link": true
    },
    "kernelspec": {
      "name": "python3",
      "display_name": "Python 3"
    },
    "language_info": {
      "name": "python"
    }
  },
  "cells": [
    {
      "cell_type": "markdown",
      "metadata": {
        "id": "view-in-github",
        "colab_type": "text"
      },
      "source": [
        "<a href=\"https://colab.research.google.com/github/imenjs/Data-Science-bootcamp/blob/main/Project4%20Eniac%20%3A%20AB%20testing/Eniac_AB_test_2_ipynb.ipynb\" target=\"_parent\"><img src=\"https://colab.research.google.com/assets/colab-badge.svg\" alt=\"Open In Colab\"/></a>"
      ]
    },
    {
      "cell_type": "markdown",
      "source": [
        "Eniac's website team settled on 4 different new versions to test against the original “Interact” button:\n",
        "\n",
        "Connect\n",
        "\n",
        "Learn\n",
        "\n",
        "Help\n",
        "\n",
        "Services\n",
        "\n",
        "\n",
        "The metrics that were deemed relevant enough to be tracked were the following:\n",
        "\n",
        "Click-through rate (CTR) for the homepage : Amount of clicks on the button divided by the total visits to the page.\n",
        "\n",
        "Drop-off rate for the category pages: Percentage of visitors who exit the site from a given category page (like Interact, Connect, Learn, etc.) without exploring any of its subpages. A lower drop-off rate is preferable\n",
        "\n",
        "Homepage-return rate for the category pages : Measures how often users who visit specific category pages (Interact, Connect, Learn, etc.) from the library homepage end up returning to the homepage. If they frequently return to the homepage,  Ideally, we want to minimize the homepage-return rate, which would indicate that users are finding what they need on the first try.\n",
        "\n",
        "*  it was decided that for a version to be considered superior, a minimum increase in click-through rate of 30% had to be detected.\n",
        "\n",
        "\n",
        "* The desired Statistical Significance was chosen to be 90%\n",
        "\n",
        "* Currently, the CTR for Interact sits at around 2%, and the page has around 1650 visitors every day.\n",
        "\n",
        "* The length of the experiment was established at 21 days:"
      ],
      "metadata": {
        "id": "gboQS8sZOip4"
      }
    },
    {
      "cell_type": "code",
      "execution_count": null,
      "metadata": {
        "id": "ykTkeh9QOZaw"
      },
      "outputs": [],
      "source": []
    },
    {
      "cell_type": "code",
      "source": [],
      "metadata": {
        "id": "jejJ7E_pP1PX"
      },
      "execution_count": null,
      "outputs": []
    }
  ]
}