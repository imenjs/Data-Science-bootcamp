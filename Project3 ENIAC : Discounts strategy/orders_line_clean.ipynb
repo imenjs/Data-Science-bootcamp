{
 "cells": [
  {
   "cell_type": "code",
   "execution_count": 10,
   "id": "dc1ebf67-c844-4f3b-85b0-5b4d813f2cfb",
   "metadata": {},
   "outputs": [],
   "source": [
    "import pandas as pd;\n",
    "pd.options.mode.copy_on_write = True "
   ]
  },
  {
   "cell_type": "code",
   "execution_count": 11,
   "id": "00afef2e-9515-4ee3-b23d-ddb02a94260f",
   "metadata": {
    "tags": []
   },
   "outputs": [],
   "source": [
    "orders_line_clean = pd.read_csv('orders_line_clean.csv', parse_dates=['date'], dtype={'id': int,'id_order': int,'product_quantity': int, 'unit_price': float, 'product_id': str})\n",
    "\n",
    "orders_line=orders_line_clean.copy()"
   ]
  },
  {
   "cell_type": "code",
   "execution_count": 12,
   "id": "84dc0084-42e2-4cda-9e71-2c188c1b0ae4",
   "metadata": {
    "tags": []
   },
   "outputs": [
    {
     "name": "stdout",
     "output_type": "stream",
     "text": [
      "<class 'pandas.core.frame.DataFrame'>\n",
      "RangeIndex: 216250 entries, 0 to 216249\n",
      "Data columns (total 6 columns):\n",
      " #   Column            Non-Null Count   Dtype         \n",
      "---  ------            --------------   -----         \n",
      " 0   id                216250 non-null  int32         \n",
      " 1   id_order          216250 non-null  int32         \n",
      " 2   product_quantity  216250 non-null  int32         \n",
      " 3   product_id        216250 non-null  object        \n",
      " 4   unit_price        216250 non-null  float64       \n",
      " 5   date              216250 non-null  datetime64[ns]\n",
      "dtypes: datetime64[ns](1), float64(1), int32(3), object(1)\n",
      "memory usage: 7.4+ MB\n"
     ]
    }
   ],
   "source": [
    "orders_line.info()"
   ]
  }
 ],
 "metadata": {
  "kernelspec": {
   "display_name": "Python 3 (ipykernel)",
   "language": "python",
   "name": "python3"
  },
  "language_info": {
   "codemirror_mode": {
    "name": "ipython",
    "version": 3
   },
   "file_extension": ".py",
   "mimetype": "text/x-python",
   "name": "python",
   "nbconvert_exporter": "python",
   "pygments_lexer": "ipython3",
   "version": "3.11.5"
  }
 },
 "nbformat": 4,
 "nbformat_minor": 5
}
