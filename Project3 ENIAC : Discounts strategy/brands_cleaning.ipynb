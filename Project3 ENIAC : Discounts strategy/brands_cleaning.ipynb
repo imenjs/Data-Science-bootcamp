{
 "cells": [
  {
   "cell_type": "markdown",
   "id": "a044f3a3-a259-4a59-906c-71420d25466b",
   "metadata": {},
   "source": [
    "********import brands ds *************"
   ]
  },
  {
   "cell_type": "code",
   "execution_count": 3,
   "id": "ceec765c-4d28-4e70-856c-1d72b043714c",
   "metadata": {
    "tags": []
   },
   "outputs": [],
   "source": [
    "import pandas as pd;\n",
    "pd.options.mode.copy_on_write = True "
   ]
  },
  {
   "cell_type": "code",
   "execution_count": 4,
   "id": "cc7ee52f-769e-4903-80e7-d6d8fa2b45ed",
   "metadata": {
    "tags": []
   },
   "outputs": [],
   "source": [
    "brands_clean = pd.read_csv('https://raw.githubusercontent.com/WBSCodingSchool/wbscs_data/main/brands.csv')\n",
    "brands=brands_clean.copy()"
   ]
  },
  {
   "cell_type": "code",
   "execution_count": 5,
   "id": "70572f10-3ca9-474f-a9b8-7c5b08bca127",
   "metadata": {
    "tags": []
   },
   "outputs": [
    {
     "name": "stdout",
     "output_type": "stream",
     "text": [
      "<class 'pandas.core.frame.DataFrame'>\n",
      "RangeIndex: 187 entries, 0 to 186\n",
      "Data columns (total 2 columns):\n",
      " #   Column  Non-Null Count  Dtype \n",
      "---  ------  --------------  ----- \n",
      " 0   short   187 non-null    object\n",
      " 1   long    187 non-null    object\n",
      "dtypes: object(2)\n",
      "memory usage: 3.1+ KB\n"
     ]
    }
   ],
   "source": [
    "brands.info()"
   ]
  },
  {
   "cell_type": "code",
   "execution_count": 6,
   "id": "810bce10-05d7-47bd-838f-ebe428b0ff1b",
   "metadata": {
    "tags": []
   },
   "outputs": [
    {
     "data": {
      "text/html": [
       "<div>\n",
       "<style scoped>\n",
       "    .dataframe tbody tr th:only-of-type {\n",
       "        vertical-align: middle;\n",
       "    }\n",
       "\n",
       "    .dataframe tbody tr th {\n",
       "        vertical-align: top;\n",
       "    }\n",
       "\n",
       "    .dataframe thead th {\n",
       "        text-align: right;\n",
       "    }\n",
       "</style>\n",
       "<table border=\"1\" class=\"dataframe\">\n",
       "  <thead>\n",
       "    <tr style=\"text-align: right;\">\n",
       "      <th></th>\n",
       "      <th>short</th>\n",
       "      <th>long</th>\n",
       "    </tr>\n",
       "  </thead>\n",
       "  <tbody>\n",
       "    <tr>\n",
       "      <th>21</th>\n",
       "      <td>CEL</td>\n",
       "      <td>Celly</td>\n",
       "    </tr>\n",
       "    <tr>\n",
       "      <th>126</th>\n",
       "      <td>POL</td>\n",
       "      <td>Polaroid</td>\n",
       "    </tr>\n",
       "    <tr>\n",
       "      <th>127</th>\n",
       "      <td>PQI</td>\n",
       "      <td>Pqi</td>\n",
       "    </tr>\n",
       "    <tr>\n",
       "      <th>146</th>\n",
       "      <td>SNA</td>\n",
       "      <td>Sena</td>\n",
       "    </tr>\n",
       "    <tr>\n",
       "      <th>135</th>\n",
       "      <td>REP</td>\n",
       "      <td>Repair</td>\n",
       "    </tr>\n",
       "    <tr>\n",
       "      <th>179</th>\n",
       "      <td>WIT</td>\n",
       "      <td>Withings</td>\n",
       "    </tr>\n",
       "    <tr>\n",
       "      <th>108</th>\n",
       "      <td>NOD</td>\n",
       "      <td>Nodon</td>\n",
       "    </tr>\n",
       "    <tr>\n",
       "      <th>83</th>\n",
       "      <td>LOG</td>\n",
       "      <td>Logitech</td>\n",
       "    </tr>\n",
       "    <tr>\n",
       "      <th>4</th>\n",
       "      <td>AKI</td>\n",
       "      <td>Akitio</td>\n",
       "    </tr>\n",
       "    <tr>\n",
       "      <th>53</th>\n",
       "      <td>HOW</td>\n",
       "      <td>Honeywell</td>\n",
       "    </tr>\n",
       "  </tbody>\n",
       "</table>\n",
       "</div>"
      ],
      "text/plain": [
       "    short       long\n",
       "21    CEL      Celly\n",
       "126   POL   Polaroid\n",
       "127   PQI        Pqi\n",
       "146   SNA       Sena\n",
       "135   REP     Repair\n",
       "179   WIT   Withings\n",
       "108   NOD      Nodon\n",
       "83    LOG   Logitech\n",
       "4     AKI     Akitio\n",
       "53    HOW  Honeywell"
      ]
     },
     "execution_count": 6,
     "metadata": {},
     "output_type": "execute_result"
    }
   ],
   "source": [
    "brands.sample(10)"
   ]
  },
  {
   "cell_type": "markdown",
   "id": "bef4a9b9-f126-42a2-88e6-36b86cd0fc44",
   "metadata": {},
   "source": [
    "********save brands_ clean********"
   ]
  },
  {
   "cell_type": "code",
   "execution_count": 7,
   "id": "91d85011-27eb-4e04-ab8f-648b20c895d1",
   "metadata": {},
   "outputs": [],
   "source": [
    "brands.to_csv('brands_clean.csv', index=False)\n"
   ]
  },
  {
   "cell_type": "raw",
   "id": "4ddd5a5f-55eb-4da5-9478-1113309d7d5c",
   "metadata": {},
   "source": []
  }
 ],
 "metadata": {
  "kernelspec": {
   "display_name": "Python 3 (ipykernel)",
   "language": "python",
   "name": "python3"
  },
  "language_info": {
   "codemirror_mode": {
    "name": "ipython",
    "version": 3
   },
   "file_extension": ".py",
   "mimetype": "text/x-python",
   "name": "python",
   "nbconvert_exporter": "python",
   "pygments_lexer": "ipython3",
   "version": "3.11.5"
  }
 },
 "nbformat": 4,
 "nbformat_minor": 5
}
