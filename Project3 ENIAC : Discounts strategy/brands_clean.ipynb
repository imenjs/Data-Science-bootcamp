{
 "cells": [
  {
   "cell_type": "markdown",
   "id": "54a01de9-a351-42b8-a792-793507346211",
   "metadata": {},
   "source": [
    "***import brands_Clean DF *****"
   ]
  },
  {
   "cell_type": "code",
   "execution_count": 2,
   "id": "58d9acab-182e-4359-908e-7a680538776e",
   "metadata": {},
   "outputs": [],
   "source": [
    "import pandas as pd;\n",
    "pd.options.mode.copy_on_write = True "
   ]
  },
  {
   "cell_type": "code",
   "execution_count": 3,
   "id": "67ee4d82-094a-4c92-b675-c151b4fb9ef3",
   "metadata": {},
   "outputs": [],
   "source": [
    "brands_clean = pd.read_csv('brands_clean.csv')\n",
    "\n",
    "brands = brands_clean.copy()"
   ]
  },
  {
   "cell_type": "code",
   "execution_count": 4,
   "id": "08f8db30-574a-4820-940a-6a26f128eafa",
   "metadata": {
    "tags": []
   },
   "outputs": [
    {
     "name": "stdout",
     "output_type": "stream",
     "text": [
      "<class 'pandas.core.frame.DataFrame'>\n",
      "RangeIndex: 187 entries, 0 to 186\n",
      "Data columns (total 2 columns):\n",
      " #   Column  Non-Null Count  Dtype \n",
      "---  ------  --------------  ----- \n",
      " 0   short   187 non-null    object\n",
      " 1   long    187 non-null    object\n",
      "dtypes: object(2)\n",
      "memory usage: 3.1+ KB\n"
     ]
    }
   ],
   "source": [
    "brands.info()"
   ]
  }
 ],
 "metadata": {
  "kernelspec": {
   "display_name": "Python 3 (ipykernel)",
   "language": "python",
   "name": "python3"
  },
  "language_info": {
   "codemirror_mode": {
    "name": "ipython",
    "version": 3
   },
   "file_extension": ".py",
   "mimetype": "text/x-python",
   "name": "python",
   "nbconvert_exporter": "python",
   "pygments_lexer": "ipython3",
   "version": "3.11.5"
  }
 },
 "nbformat": 4,
 "nbformat_minor": 5
}
