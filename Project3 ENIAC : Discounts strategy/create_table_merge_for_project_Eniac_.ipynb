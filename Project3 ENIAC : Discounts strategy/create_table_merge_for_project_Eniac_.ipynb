{
  "nbformat": 4,
  "nbformat_minor": 0,
  "metadata": {
    "colab": {
      "provenance": []
    },
    "kernelspec": {
      "name": "python3",
      "display_name": "Python 3"
    },
    "language_info": {
      "name": "python"
    }
  },
  "cells": [
    {
      "cell_type": "markdown",
      "source": [
        "rename the SKU colum to product Id and mer DF to create Merged_ table This will helpfull with visulasation"
      ],
      "metadata": {
        "id": "rzniWe9OGPWB"
      }
    },
    {
      "cell_type": "markdown",
      "source": [
        "# Import Library\n"
      ],
      "metadata": {
        "id": "Am_xeqNwGIj2"
      }
    },
    {
      "cell_type": "code",
      "execution_count": null,
      "metadata": {
        "id": "5H8li-1Z_h9-"
      },
      "outputs": [],
      "source": [
        "import pandas as pd"
      ]
    },
    {
      "cell_type": "markdown",
      "source": [
        "# Import Data frame"
      ],
      "metadata": {
        "id": "hzlJEOXpGoVF"
      }
    },
    {
      "cell_type": "code",
      "source": [
        "products_cl=pd.read_csv('/content/drive/My Drive/product_category.csv')"
      ],
      "metadata": {
        "id": "eEXRBYwXa05D"
      },
      "execution_count": null,
      "outputs": []
    },
    {
      "cell_type": "code",
      "source": [
        "products_cl.head()"
      ],
      "metadata": {
        "id": "R4CWSlESb2cd"
      },
      "execution_count": null,
      "outputs": []
    },
    {
      "cell_type": "code",
      "source": [
        "# products_qu.csv\n",
        "url = \"https://drive.google.com/file/d/1P8ltTRLoW-bLF8IK2JbYKroJ6YeZgSqb/view?usp=drive_link\"\n",
        "path = \"https://drive.google.com/uc?export=download&id=\"+url.split(\"/\")[-2]\n",
        "products_cl = pd.read_csv(path)\n",
        "products = products_cl.copy()"
      ],
      "metadata": {
        "id": "a_vQAeOIAqbs"
      },
      "execution_count": null,
      "outputs": []
    },
    {
      "cell_type": "code",
      "source": [
        "# orders.csv\n",
        "url = \"https://drive.google.com/file/d/1MHNnTluIioAXv_bo89hS8Aq72IOV7uyw/view?usp=drive_link\"\n",
        "path = \"https://drive.google.com/uc?export=download&id=\"+url.split(\"/\")[-2]\n",
        "orders_cl = pd.read_csv(path, parse_dates=['created_date'])\n",
        "orders = orders_cl.copy()"
      ],
      "metadata": {
        "id": "R4fFVisQA21w"
      },
      "execution_count": null,
      "outputs": []
    },
    {
      "cell_type": "code",
      "source": [
        "# orders_line_qu.csv\n",
        "url = \"https://drive.google.com/file/d/18JUzfgHCqIYthdCJyBQZvvgZhYWJ79X3/view?usp=drive_link\"\n",
        "path = \"https://drive.google.com/uc?export=download&id=\"+url.split(\"/\")[-2]\n",
        "orders_line_cl = pd.read_csv(path, parse_dates=['date'])\n",
        "orders_line = orders_line_cl.copy()"
      ],
      "metadata": {
        "id": "EqDRTTCkBTgE"
      },
      "execution_count": null,
      "outputs": []
    },
    {
      "cell_type": "code",
      "source": [
        "\n",
        "# brands_qu.csv\n",
        "url = \"https://drive.google.com/file/d/1t4Tg7y3yuy9sfAcE5tTxXLG_kZgt2XSb/view?usp=sharing\"\n",
        "path = \"https://drive.google.com/uc?export=download&id=\"+url.split(\"/\")[-2]\n",
        "brands_clean = pd.read_csv(path)\n",
        "brands = brands_clean.copy()"
      ],
      "metadata": {
        "id": "O9L_MNGYP1Xp"
      },
      "execution_count": null,
      "outputs": []
    },
    {
      "cell_type": "markdown",
      "source": [
        "# Rename and remove empty column"
      ],
      "metadata": {
        "id": "TQMiJXxsGvIW"
      }
    },
    {
      "cell_type": "code",
      "source": [
        "products.info()"
      ],
      "metadata": {
        "id": "SWSPKSFmFeKG"
      },
      "execution_count": null,
      "outputs": []
    },
    {
      "cell_type": "code",
      "source": [
        "orders_line.head()"
      ],
      "metadata": {
        "id": "O7FHSQP4Ld9q"
      },
      "execution_count": null,
      "outputs": []
    },
    {
      "cell_type": "code",
      "source": [
        "orders_line.head(2)"
      ],
      "metadata": {
        "id": "a3vcDWhhDDBS"
      },
      "execution_count": null,
      "outputs": []
    },
    {
      "cell_type": "code",
      "source": [
        "products.head(2)"
      ],
      "metadata": {
        "id": "0MGsPQJdE0kj"
      },
      "execution_count": null,
      "outputs": []
    },
    {
      "cell_type": "code",
      "source": [
        "products = products.drop(columns=['type'])"
      ],
      "metadata": {
        "id": "eGGLdEQOJFba"
      },
      "execution_count": null,
      "outputs": []
    },
    {
      "cell_type": "code",
      "source": [
        "orders_line = orders_line.drop(columns=['product_id'])\n",
        "\n",
        "orders_line = orders_line.rename(columns={'sku': 'product_id'})"
      ],
      "metadata": {
        "id": "O2LXFQyMF2ws"
      },
      "execution_count": null,
      "outputs": []
    },
    {
      "cell_type": "code",
      "source": [
        "products = products.rename(columns={\"price\" : \"original_price\"})"
      ],
      "metadata": {
        "id": "JovSVWcGm5na"
      },
      "execution_count": null,
      "outputs": []
    },
    {
      "cell_type": "code",
      "source": [
        "products = products.rename(columns={'sku': 'product_id'})"
      ],
      "metadata": {
        "id": "WvoH3-vaF-Gl"
      },
      "execution_count": null,
      "outputs": []
    },
    {
      "cell_type": "code",
      "source": [
        "orders_line[\"short\"] = orders_line[\"product_id\"].str[:3]"
      ],
      "metadata": {
        "id": "xOg5ysBZQbyY"
      },
      "execution_count": null,
      "outputs": []
    },
    {
      "cell_type": "markdown",
      "source": [
        "# Merge and sort the DF"
      ],
      "metadata": {
        "id": "Ra1q35DAHASw"
      }
    },
    {
      "cell_type": "code",
      "source": [
        "Merged_table = orders_line.merge(products, how= \"left\", on = \"product_id\")\n",
        "\n",
        "Merged_table[\"discounts\"]= Merged_table[\"original_price\"] - Merged_table[\"unit_price\"]"
      ],
      "metadata": {
        "id": "PlyFWOfrGNnQ"
      },
      "execution_count": null,
      "outputs": []
    },
    {
      "cell_type": "code",
      "source": [
        "Merged_table['discounts' ]"
      ],
      "metadata": {
        "id": "4DcygK9EMLst"
      },
      "execution_count": null,
      "outputs": []
    },
    {
      "cell_type": "code",
      "source": [
        "Merged_table.info()"
      ],
      "metadata": {
        "id": "88QTyqTYIst2"
      },
      "execution_count": null,
      "outputs": []
    },
    {
      "cell_type": "code",
      "source": [
        "Merged_table_sorted = Merged_table.sort_values(by=\"discounts\", ascending=False)\n",
        "Merged_table_sorted.head(20)\n"
      ],
      "metadata": {
        "id": "Skn8IavXR48M"
      },
      "execution_count": null,
      "outputs": []
    },
    {
      "cell_type": "code",
      "source": [
        "merged_table_filtered.to_csv('Merged_table.csv', index=False)\n",
        "\n",
        "\n",
        "from google.colab import drive\n",
        "drive.mount('/content/drive')\n",
        "\n",
        " #Move the CSV file to Google Drive\n",
        "!mv Merged_table.csv /content/drive/MyDrive/"
      ],
      "metadata": {
        "colab": {
          "base_uri": "https://localhost:8080/"
        },
        "id": "rb4RX7uEKhRk",
        "outputId": "2e34b272-8301-4aef-8e40-919feb40ec48"
      },
      "execution_count": null,
      "outputs": [
        {
          "output_type": "stream",
          "name": "stdout",
          "text": [
            "Drive already mounted at /content/drive; to attempt to forcibly remount, call drive.mount(\"/content/drive\", force_remount=True).\n"
          ]
        }
      ]
    },
    {
      "cell_type": "code",
      "source": [
        "Merged_table.sample(10)"
      ],
      "metadata": {
        "id": "QR8qdumQTPw8"
      },
      "execution_count": null,
      "outputs": []
    },
    {
      "cell_type": "markdown",
      "source": [
        "# Remove outlier"
      ],
      "metadata": {
        "id": "cZT8zpX3HIbS"
      }
    },
    {
      "cell_type": "code",
      "source": [
        "# Calculate quartiles using describe method\n",
        "quartiles = Merged_table['discounts'].describe(percentiles=[.25, .75])\n",
        "\n",
        "# Extract quartile values\n",
        "Q1 = quartiles['25%']\n",
        "Q3 = quartiles['75%']\n",
        "\n",
        "# Calculate interquartile range (IQR)\n",
        "IQR = Q3 - Q1\n",
        "\n",
        "# Define upper and lower bounds for outliers\n",
        "lower_bound = Q1 - 1.5 * IQR\n",
        "upper_bound = Q3 + 1.5 * IQR\n",
        "\n",
        "# Remove outliers\n",
        "merged_table_filtered = Merged_table[(Merged_table['discounts'] >= lower_bound) & (Merged_table['discounts'] <= upper_bound)]\n",
        "\n",
        "# Count the number of rows removed as outliers\n",
        "outliers_removed = len(Merged_table) - len(merged_table_filtered)\n",
        "print(\"Number of outliers removed:\", outliers_removed)\n"
      ],
      "metadata": {
        "colab": {
          "base_uri": "https://localhost:8080/"
        },
        "id": "gC2vNhQQNVXN",
        "outputId": "1a28f31c-2be4-446b-917b-e446c35191ca"
      },
      "execution_count": null,
      "outputs": [
        {
          "output_type": "stream",
          "name": "stdout",
          "text": [
            "Number of outliers removed: 4436\n"
          ]
        }
      ]
    },
    {
      "cell_type": "code",
      "source": [
        "positive_discounts = merged_table_filtered[merged_table_filtered['discounts'] == 0]\n",
        "positive_discounts"
      ],
      "metadata": {
        "id": "H8dGMYQzNpbj"
      },
      "execution_count": null,
      "outputs": []
    },
    {
      "cell_type": "code",
      "source": [
        "merged_table_filtered1 = merged_table_filtered.sort_values(by=\"discounts\", ascending=False)\n",
        "merged_table_filtered1.head(20)"
      ],
      "metadata": {
        "id": "YueZoD-Zap7d"
      },
      "execution_count": null,
      "outputs": []
    }
  ]
}