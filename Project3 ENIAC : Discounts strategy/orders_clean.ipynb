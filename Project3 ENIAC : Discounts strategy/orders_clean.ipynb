{
 "cells": [
  {
   "cell_type": "code",
   "execution_count": 1,
   "id": "c4142101-d919-47d3-acc2-41ca4855f273",
   "metadata": {
    "tags": []
   },
   "outputs": [],
   "source": [
    "import pandas as pd;\n",
    "pd.options.mode.copy_on_write = True "
   ]
  },
  {
   "cell_type": "code",
   "execution_count": 24,
   "id": "b8278fb8-f85d-4cd3-882c-3215d1f64cb2",
   "metadata": {
    "tags": []
   },
   "outputs": [],
   "source": [
    "#orders_clean = pd.read_csv('orders_clean.csv')\n",
    "\n",
    "orders_clean = pd.read_csv('orders_clean.csv', parse_dates=['created_date'], dtype={'order_id': int, 'total_paid': float, 'status': str})\n",
    "\n",
    "orders=orders_clean.copy()"
   ]
  },
  {
   "cell_type": "code",
   "execution_count": 26,
   "id": "c8b0542a-8bd4-4fc7-9359-6d12ee615a71",
   "metadata": {
    "tags": []
   },
   "outputs": [
    {
     "name": "stdout",
     "output_type": "stream",
     "text": [
      "<class 'pandas.core.frame.DataFrame'>\n",
      "RangeIndex: 226904 entries, 0 to 226903\n",
      "Data columns (total 4 columns):\n",
      " #   Column        Non-Null Count   Dtype         \n",
      "---  ------        --------------   -----         \n",
      " 0   order_id      226904 non-null  int32         \n",
      " 1   created_date  226904 non-null  datetime64[ns]\n",
      " 2   total_paid    226904 non-null  float64       \n",
      " 3   status        226904 non-null  object        \n",
      "dtypes: datetime64[ns](1), float64(1), int32(1), object(1)\n",
      "memory usage: 6.1+ MB\n"
     ]
    }
   ],
   "source": [
    "orders.info()"
   ]
  },
  {
   "cell_type": "code",
   "execution_count": null,
   "id": "dfef38f4-1935-4384-af67-8576275f7466",
   "metadata": {},
   "outputs": [],
   "source": []
  },
  {
   "cell_type": "code",
   "execution_count": 20,
   "id": "7a396350-c2a4-4187-b314-69a037856b13",
   "metadata": {
    "tags": []
   },
   "outputs": [],
   "source": [
    "#orders_clean['created_date'] = pd.to_datetime(orders_clean['created_date'])\n",
    "\n",
    "# Save DataFrame to CSV format\n",
    "orders_clean.to_csv('orders_clean.csv', index=False)"
   ]
  }
 ],
 "metadata": {
  "kernelspec": {
   "display_name": "Python 3 (ipykernel)",
   "language": "python",
   "name": "python3"
  },
  "language_info": {
   "codemirror_mode": {
    "name": "ipython",
    "version": 3
   },
   "file_extension": ".py",
   "mimetype": "text/x-python",
   "name": "python",
   "nbconvert_exporter": "python",
   "pygments_lexer": "ipython3",
   "version": "3.11.5"
  }
 },
 "nbformat": 4,
 "nbformat_minor": 5
}
