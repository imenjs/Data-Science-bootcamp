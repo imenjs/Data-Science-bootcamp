{
 "cells": [
  {
   "cell_type": "code",
   "execution_count": 2,
   "id": "e17fca9b-1124-4bee-a332-0e2279ab89e9",
   "metadata": {
    "tags": []
   },
   "outputs": [],
   "source": [
    "import pandas as pd;\n",
    "pd.options.mode.copy_on_write = True "
   ]
  },
  {
   "cell_type": "code",
   "execution_count": 3,
   "id": "504396a3-c3f1-43f3-a91e-a36fbeebcbc7",
   "metadata": {
    "tags": []
   },
   "outputs": [],
   "source": [
    "products_clean = pd.read_csv('products_clean.csv')\n",
    "\n",
    "products=products_clean.copy()"
   ]
  },
  {
   "cell_type": "code",
   "execution_count": 4,
   "id": "c07461b6-46cf-403b-9485-a00310d4f2cf",
   "metadata": {
    "tags": []
   },
   "outputs": [
    {
     "name": "stdout",
     "output_type": "stream",
     "text": [
      "<class 'pandas.core.frame.DataFrame'>\n",
      "RangeIndex: 10104 entries, 0 to 10103\n",
      "Data columns (total 6 columns):\n",
      " #   Column      Non-Null Count  Dtype  \n",
      "---  ------      --------------  -----  \n",
      " 0   product_id  10104 non-null  object \n",
      " 1   name        10104 non-null  object \n",
      " 2   desc        10104 non-null  object \n",
      " 3   price       10104 non-null  float64\n",
      " 4   in_stock    10104 non-null  int64  \n",
      " 5   type        10104 non-null  object \n",
      "dtypes: float64(1), int64(1), object(4)\n",
      "memory usage: 473.8+ KB\n"
     ]
    }
   ],
   "source": [
    "products.info()"
   ]
  },
  {
   "cell_type": "code",
   "execution_count": null,
   "id": "bad21eb1-cf33-454a-86ad-ac9115f7043e",
   "metadata": {},
   "outputs": [],
   "source": [
    "orders['created_date'] = pd.to_datetime(orders['created_date'])\n",
    "\n",
    "# Save DataFrame to CSV format\n",
    "product_clean.to_csv('products_clean.csv', index=False)"
   ]
  }
 ],
 "metadata": {
  "kernelspec": {
   "display_name": "Python 3 (ipykernel)",
   "language": "python",
   "name": "python3"
  },
  "language_info": {
   "codemirror_mode": {
    "name": "ipython",
    "version": 3
   },
   "file_extension": ".py",
   "mimetype": "text/x-python",
   "name": "python",
   "nbconvert_exporter": "python",
   "pygments_lexer": "ipython3",
   "version": "3.11.5"
  },
  "toc-showmarkdowntxt": false
 },
 "nbformat": 4,
 "nbformat_minor": 5
}
