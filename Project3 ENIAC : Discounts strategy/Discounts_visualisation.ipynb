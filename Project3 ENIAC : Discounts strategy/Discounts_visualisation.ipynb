{
  "nbformat": 4,
  "nbformat_minor": 0,
  "metadata": {
    "colab": {
      "provenance": [],
      "toc_visible": true
    },
    "kernelspec": {
      "name": "python3",
      "display_name": "Python 3"
    },
    "language_info": {
      "name": "python"
    }
  },
  "cells": [
    {
      "cell_type": "markdown",
      "source": [
        "# After Cleaning the table and created a merged table now it is table to start visualisation our Data"
      ],
      "metadata": {
        "id": "rt7pKTJ72egP"
      }
    },
    {
      "cell_type": "markdown",
      "source": [
        "# *    Import All needed library"
      ],
      "metadata": {
        "id": "N0YH98MJ_Nqe"
      }
    },
    {
      "cell_type": "code",
      "source": [
        "import pandas as pd\n",
        "import matplotlib.pyplot as plt\n",
        "import seaborn as sns"
      ],
      "metadata": {
        "id": "ZZYji7x39qxM"
      },
      "execution_count": 6,
      "outputs": []
    },
    {
      "cell_type": "markdown",
      "source": [
        "# *    Import DF"
      ],
      "metadata": {
        "id": "ATyVsuAn_X2f"
      }
    },
    {
      "cell_type": "markdown",
      "source": [
        "\n",
        "\n",
        "*    Import table merged that was created before by merging the relevant data in DF : order, order_line and products  \n",
        "*   import table Brand\n",
        "\n",
        "    \n",
        "\n"
      ],
      "metadata": {
        "id": "S9f6CF-z98Om"
      }
    },
    {
      "cell_type": "code",
      "source": [
        "\n",
        "\n",
        "url = \"https://drive.google.com/file/d/1FShGauxCE1bSvIlWAuomEfNgd6QgNwaj/view?usp=sharing\"\n",
        "path = \"https://drive.google.com/uc?export=download&id=\"+url.split(\"/\")[-2]\n",
        "merged_data = pd.read_csv(path, parse_dates=['date'])\n",
        "new_data = merged_data.copy()"
      ],
      "metadata": {
        "id": "E8brAIAmbU5z"
      },
      "execution_count": 2,
      "outputs": []
    },
    {
      "cell_type": "code",
      "source": [
        "# brands_qu.csv\n",
        "url = \"https://drive.google.com/file/d/1t4Tg7y3yuy9sfAcE5tTxXLG_kZgt2XSb/view?usp=sharing\"\n",
        "path = \"https://drive.google.com/uc?export=download&id=\"+url.split(\"/\")[-2]\n",
        "brands_clean = pd.read_csv(path)\n",
        "brands = brands_clean.copy()"
      ],
      "metadata": {
        "id": "fe67w5V33sSX"
      },
      "execution_count": 3,
      "outputs": []
    },
    {
      "cell_type": "code",
      "source": [
        "new_data.loc[new_data[\"category\"] == \"other\", \"category\"] = \"accesories\""
      ],
      "metadata": {
        "id": "CCNt98Yccdkj"
      },
      "execution_count": 29,
      "outputs": []
    },
    {
      "cell_type": "markdown",
      "source": [
        "# *    Discount average by Season"
      ],
      "metadata": {
        "id": "IDNfsPH0_67J"
      }
    },
    {
      "cell_type": "code",
      "source": [
        "\n",
        "\n",
        "new_data['month'] = new_data['date'].dt.month\n",
        "\n",
        "# Group by month and calculate average discount\n",
        "avg_discount_by_month = new_data.groupby('month')['discounts'].mean().reset_index()\n",
        "\n",
        "# Plot using Seaborn\n",
        "sns.set_theme(style=\"whitegrid\")\n",
        "plt.figure(figsize=(10, 6))\n",
        "sns.lineplot(data=avg_discount_by_month, x='month', y='discounts', marker='o')\n",
        "plt.title('Average Discount Over the Months')\n",
        "plt.xlabel('Month')\n",
        "plt.ylabel('Average Discount')\n",
        "plt.xticks(range(1, 13), labels=['Jan', 'Feb', 'Mar', 'Apr', 'May', 'Jun', 'Jul', 'Aug', 'Sep', 'Oct', 'Nov', 'Dec'])\n",
        "plt.show()\n"
      ],
      "metadata": {
        "id": "InJvMerlonWn"
      },
      "execution_count": null,
      "outputs": []
    },
    {
      "cell_type": "markdown",
      "source": [
        "# *    Revenue by Season"
      ],
      "metadata": {
        "id": "jQK5FxFlAD5D"
      }
    },
    {
      "cell_type": "code",
      "source": [
        "\n",
        "new_data['season'] = new_data['date'].dt.month.map({1: 'Winter', 2: 'Winter', 3: 'Spring', 4: 'Spring',\n",
        "                                                    5: 'Spring', 6: 'Summer', 7: 'Summer', 8: 'Summer',\n",
        "                                                    9: 'Fall', 10: 'Fall', 11: 'Fall', 12: 'Winter'})\n",
        "\n",
        "# Group by season and sum revenue\n",
        "revenue_by_season = new_data.groupby('season')['unit_price'].sum().sort_values(ascending=False)\n",
        "\n",
        "# Plot using seaborn\n",
        "plt.figure(figsize=(10, 6))\n",
        "sns.barplot(x=revenue_by_season.index, y=revenue_by_season.values, palette='Greens')\n",
        "plt.grid=False\n",
        "plt.title('Revenue by Season')\n",
        "plt.xlabel('Season')\n",
        "plt.ylabel('Revenue')\n",
        "plt.xticks(rotation=45)\n",
        "\n",
        "plt.show()\n"
      ],
      "metadata": {
        "id": "hIwYNlEdqV6f"
      },
      "execution_count": null,
      "outputs": []
    },
    {
      "cell_type": "code",
      "source": [
        "revenue_by_season\n"
      ],
      "metadata": {
        "id": "3juGuKKbnPG7"
      },
      "execution_count": null,
      "outputs": []
    },
    {
      "cell_type": "code",
      "source": [
        "import matplotlib.pyplot as plt\n",
        "import seaborn as sns\n",
        "\n",
        "# Set the seaborn style to white without grid\n",
        "sns.set_style(\"white\")\n",
        "\n",
        "new_data['season'] = new_data['date'].dt.month.map({1: 'Winter', 2: 'Winter', 3: 'Spring', 4: 'Spring',\n",
        "                                                    5: 'Spring', 6: 'Summer', 7: 'Summer', 8: 'Summer',\n",
        "                                                    9: 'Fall', 10: 'Fall', 11: 'Fall', 12: 'Winter'})\n",
        "\n",
        "# Group by season and sum revenue\n",
        "revenue_by_season = new_data.groupby('season')['unit_price'].sum().sort_values(ascending=False)\n",
        "\n",
        "# Plot using seaborn\n",
        "plt.figure(figsize=(10, 6))\n",
        "sns.barplot(x=revenue_by_season.index, y=revenue_by_season.values, palette='Greens')\n",
        "plt.title('Revenue by Season')\n",
        "plt.xlabel('Season')\n",
        "plt.ylabel('Revenue')\n",
        "plt.xticks(rotation=45)\n",
        "\n",
        "# Annotate the value of the Winter bar\n",
        "winter_revenue = revenue_by_season['Winter']\n",
        "plt.annotate(f'{winter_revenue:.2f}', xy=('Winter', winter_revenue), xytext=(0, 10), textcoords='offset points',\n",
        "             ha='center', va='bottom')\n",
        "\n",
        "# Remove the y-axis\n",
        "plt.gca().axes.get_yaxis().set_visible(False)\n",
        "\n",
        "plt.show()\n"
      ],
      "metadata": {
        "id": "xmsf_uiOoxYa"
      },
      "execution_count": null,
      "outputs": []
    },
    {
      "cell_type": "markdown",
      "source": [
        "# * top selling category"
      ],
      "metadata": {
        "id": "FK89KdN2BPeN"
      }
    },
    {
      "cell_type": "code",
      "source": [
        "\n",
        "top_categories = new_data.groupby('category')['product_quantity'].sum()\n",
        "\n",
        "\n",
        "top_categories = top_categories.sort_values(ascending=False)\n",
        "\n",
        "\n",
        "top_10_categories = top_categories.head(30)\n",
        "\n",
        "print(top_10_categories)\n"
      ],
      "metadata": {
        "id": "QYCZ29h9sA_f"
      },
      "execution_count": null,
      "outputs": []
    },
    {
      "cell_type": "markdown",
      "source": [
        "# * total product sold by season"
      ],
      "metadata": {
        "id": "JvUtPIY3BdWc"
      }
    },
    {
      "cell_type": "code",
      "source": [
        "\n",
        "new_data['season'] = new_data['date'].dt.month.map({1:'Winter', 2:'Winter', 3:'Spring', 4:'Spring', 5:'Spring', 6:'Summer', 7:'Summer', 8:'Summer', 9:'Fall', 10:'Fall', 11:'Fall', 12:'Winter'})\n",
        "\n",
        "products_by_season = new_data.groupby('season')['product_quantity'].sum()\n",
        "\n",
        "\n",
        "products_by_season = products_by_season.sort_values(ascending=False)\n",
        "\n",
        "#print(products_by_season)\n",
        "\n",
        "plt.figure(figsize=(10, 6))\n",
        "sns.barplot(x=products_by_season.index, y=products_by_season.values, palette='Greens')\n",
        "plt.xlabel('Season')\n",
        "plt.ylabel('Total Quantity Sold')\n",
        "plt.title('Total Quantity of Products Sold by Season')\n",
        "plt.xticks(rotation=45)\n",
        "plt.show()\n"
      ],
      "metadata": {
        "colab": {
          "base_uri": "https://localhost:8080/",
          "height": 701
        },
        "id": "203875_gu34O",
        "outputId": "ae19dd04-a826-474d-e409-68cfc81570d3"
      },
      "execution_count": 15,
      "outputs": [
        {
          "output_type": "stream",
          "name": "stderr",
          "text": [
            "<ipython-input-15-bb4637398946>:11: FutureWarning: \n",
            "\n",
            "Passing `palette` without assigning `hue` is deprecated and will be removed in v0.14.0. Assign the `x` variable to `hue` and set `legend=False` for the same effect.\n",
            "\n",
            "  sns.barplot(x=products_by_season.index, y=products_by_season.values, palette='Greens')\n"
          ]
        },
        {
          "output_type": "display_data",
          "data": {
            "text/plain": [
              "<Figure size 1000x600 with 1 Axes>"
            ],
            "image/png": "[encoded data removed]"
          },
          "metadata": {}
        }
      ]
    },
    {
      "cell_type": "markdown",
      "source": [
        "# * average discount by price category"
      ],
      "metadata": {
        "id": "39KnuCF5BneD"
      }
    },
    {
      "cell_type": "code",
      "source": [
        "new_data.sample(10)"
      ],
      "metadata": {
        "id": "2wZy7pmOaLAt"
      },
      "execution_count": null,
      "outputs": []
    },
    {
      "cell_type": "code",
      "source": [
        "\n",
        "\n",
        "new_data['discount_percentage'] = (new_data['discounts'] / new_data['original_price']) * 100\n",
        "\n",
        "price_ranges = [0, 300, 700, 1600, float('inf')]\n",
        "price_labels = ['not expensive', 'mid_expensive', 'expensive', 'very expensive']\n",
        "\n",
        "new_data['price_category'] = pd.cut(new_data['original_price'], bins=price_ranges, labels=price_labels, right=False)\n",
        "\n",
        "avg_discount_percentage = new_data.groupby('price_category')['discount_percentage'].mean()\n",
        "\n",
        "# Create a pie chart\n",
        "import matplotlib.pyplot as plt\n",
        "\n",
        "# Assuming avg_discount_percentage is a pandas Series\n",
        "plt.figure(figsize=(8, 8))\n",
        "avg_discount_percentage.plot(kind='pie', autopct='%1.1f%%', colors=sns.color_palette('viridis', len(avg_discount_percentage)))\n",
        "plt.title('Average Discount Percentage by Price Category')\n",
        "plt.ylabel('')  # Remove the ylabel\n",
        "plt.axis('equal')  # Equal aspect ratio ensures that pie is drawn as a circle\n",
        "plt.show()\n",
        "\n",
        "\n",
        "\n"
      ],
      "metadata": {
        "colab": {
          "base_uri": "https://localhost:8080/",
          "height": 680
        },
        "id": "vOyuhcjz-XwH",
        "outputId": "b9201e40-f7cf-4741-e57d-9a302fdb07ea"
      },
      "execution_count": 14,
      "outputs": [
        {
          "output_type": "display_data",
          "data": {
            "text/plain": [
              "<Figure size 800x800 with 1 Axes>"
            ],
            "image/png": "[encoded data removed]"
          },
          "metadata": {}
        }
      ]
    },
    {
      "cell_type": "code",
      "source": [
        "avg_discount_percentage\n"
      ],
      "metadata": {
        "colab": {
          "base_uri": "https://localhost:8080/"
        },
        "id": "y8sFy49zi1V5",
        "outputId": "88696b4f-756e-4f4c-b73b-d0d756008162"
      },
      "execution_count": 16,
      "outputs": [
        {
          "output_type": "execute_result",
          "data": {
            "text/plain": [
              "price_category\n",
              "not expensive     23.046595\n",
              "mid_expensive      8.803378\n",
              "expensive          3.350217\n",
              "very expensive          NaN\n",
              "Name: discount_percentage, dtype: float64"
            ]
          },
          "metadata": {},
          "execution_count": 16
        }
      ]
    },
    {
      "cell_type": "code",
      "source": [
        "import matplotlib.pyplot as plt\n",
        "import seaborn as sns\n",
        "\n",
        "# Set the style to whitegrid to remove grid lines\n",
        "sns.set_style(\"whitegrid\")\n",
        "\n",
        "new_data['discount_percentage'] = (new_data['discounts'] / new_data['original_price']) * 100\n",
        "\n",
        "price_ranges = [0, 200, 700, 1500, float('inf')]\n",
        "price_labels = ['not expensive', 'mid_expensive', 'expensive', 'very expensive']\n",
        "\n",
        "new_data['price_category'] = pd.cut(new_data['original_price'], bins=price_ranges, labels=price_labels, right=False)\n",
        "\n",
        "avg_discount_percentage = new_data.groupby('price_category')['discount_percentage'].mean()\n",
        "\n",
        "plt.figure(figsize=(10, 6))\n",
        "sns.barplot(x=avg_discount_percentage.index, y=avg_discount_percentage.values, palette='Greens')\n",
        "plt.title('Average Discount by Price Category')\n",
        "plt.xlabel('Price Category')\n",
        "plt.ylabel('Average Discount Percentage')\n",
        "plt.xticks(rotation=45)\n",
        "\n",
        "# Remove the top and right spines\n",
        "sns.despine()\n",
        "\n",
        "plt.tight_layout()\n",
        "plt.grid(False)\n",
        "plt.show()\n"
      ],
      "metadata": {
        "id": "lY4V1dgIymia"
      },
      "execution_count": null,
      "outputs": []
    },
    {
      "cell_type": "markdown",
      "source": [
        "# * revenue with discounts vs revenue without discounts"
      ],
      "metadata": {
        "id": "-g2B0cseB4_3"
      }
    },
    {
      "cell_type": "code",
      "source": [
        "\n",
        "# Group by month and calculate average revenue with and without discounts\n",
        "revenue_with_discounts = new_data.groupby('month')['unit_price'].mean() * new_data.groupby('month')['product_quantity'].sum()\n",
        "revenue_without_discounts = new_data.groupby('month')['original_price'].mean() * new_data.groupby('month')['product_quantity'].sum()\n",
        "\n",
        "# Plotting the lines\n",
        "plt.figure(figsize=(10, 6))\n",
        "plt.plot(revenue_with_discounts.index, revenue_with_discounts.values, label='With Discounts', marker='o')\n",
        "plt.plot(revenue_without_discounts.index, revenue_without_discounts.values, label='Without Discounts', marker='o')\n",
        "\n",
        "# Add labels and title\n",
        "plt.title('Average Revenue by Month')\n",
        "plt.xlabel('Month')\n",
        "plt.ylabel('Average Revenue')\n",
        "plt.xticks(revenue_with_discounts.index)  # Set the x-axis ticks to be the months\n",
        "plt.legend()  # Show legend\n",
        "plt.grid(False)\n",
        "plt.show()\n",
        "\n"
      ],
      "metadata": {
        "id": "JNSoWtpC0tBF"
      },
      "execution_count": null,
      "outputs": []
    },
    {
      "cell_type": "markdown",
      "source": [
        "******** top 15 brands *******"
      ],
      "metadata": {
        "id": "FOO9ZG9x5Qlz"
      }
    },
    {
      "cell_type": "markdown",
      "source": [
        "# * top 15 brands\n"
      ],
      "metadata": {
        "id": "M8DsnQJECTH5"
      }
    },
    {
      "cell_type": "code",
      "source": [
        "\n",
        "merged_df = pd.merge(new_data, brands, how='left', on='short')\n",
        "\n",
        "\n",
        "revenue_by_brand = merged_df.groupby('long')['unit_price'].sum()\n",
        "\n",
        "\n",
        "top_15_brands = revenue_by_brand.nlargest(15)\n",
        "\n",
        "\n",
        "plt.figure(figsize=(12, 8))\n",
        "top_15_brands.plot(kind='bar', color='skyblue')\n",
        "plt.title('Top 15 Brands with Most Revenue')\n",
        "plt.xlabel('Brand')\n",
        "plt.ylabel('Total Revenue')\n",
        "plt.xticks(rotation=45, ha='right')\n",
        "plt.grid(axis='y', linestyle='--', alpha=0.7)\n",
        "plt.show()\n"
      ],
      "metadata": {
        "id": "0ZKsu4QO5Z-0"
      },
      "execution_count": null,
      "outputs": []
    },
    {
      "cell_type": "markdown",
      "source": [
        "# * top 15 prodcut with most revenue"
      ],
      "metadata": {
        "id": "PwqX8bwpChY-"
      }
    },
    {
      "cell_type": "code",
      "source": [
        "\n",
        "merged_df = pd.merge(new_data, brands, how='left', on='short')\n",
        "\n",
        "\n",
        "revenue_by_brand = merged_df.groupby('name')['unit_price'].sum()\n",
        "\n",
        "\n",
        "top_15_brands = revenue_by_brand.nlargest(15)\n",
        "\n",
        "\n",
        "plt.figure(figsize=(12, 8))\n",
        "top_15_brands.plot(kind='bar', color='skyblue')\n",
        "plt.title('Top 15 Brands with Most Revenue')\n",
        "plt.xlabel('Brand')\n",
        "plt.ylabel('Total Revenue')\n",
        "plt.xticks(rotation=45, ha='right')\n",
        "plt.grid(axis='y', linestyle='--', alpha=0.7)\n",
        "plt.show()"
      ],
      "metadata": {
        "id": "slBhpE2vFZ_B"
      },
      "execution_count": null,
      "outputs": []
    },
    {
      "cell_type": "markdown",
      "source": [
        "# * average discounts percentage by top 15 category"
      ],
      "metadata": {
        "id": "eUuqwrpBCrb2"
      }
    },
    {
      "cell_type": "code",
      "source": [
        "new_data.head()"
      ],
      "metadata": {
        "id": "uDCja-YuesQR"
      },
      "execution_count": null,
      "outputs": []
    },
    {
      "cell_type": "code",
      "source": [
        "merged_df = pd.merge(new_data, brands, how='left', on='short')\n",
        "\n",
        "merged_df['discount_percentage'] = (merged_df['discounts'] / merged_df['original_price']) * 100\n",
        "\n",
        "# Group by brand and calculate the total revenue and average discount percentage\n",
        "brand_revenue_discount = merged_df.groupby('long').agg({'original_price': 'sum', 'discount_percentage': 'mean'})\n",
        "\n",
        "# Get the top 15 brands with the highest total revenue\n",
        "top_15_brands_revenue = brand_revenue_discount['original_price'].nlargest(15)\n",
        "\n",
        "# Filter the merged DataFrame to include only the top 15 brands\n",
        "top_15_brands_merged = merged_df[merged_df['long'].isin(top_15_brands_revenue.index)]\n",
        "\n",
        "# Group by brand and calculate the average discount percentage\n",
        "average_discount_percentage_by_brand = top_15_brands_merged.groupby('long')['discount_percentage'].mean()\n",
        "\n",
        "# Plot the average discount percentage for the top 15 brands\n",
        "plt.figure(figsize=(12, 8))\n",
        "average_discount_percentage_by_brand.plot(kind='bar', color='skyblue')\n",
        "plt.title('Average Discount Percentage by Top 15 Brands in Revenues')\n",
        "plt.xlabel('Brand')\n",
        "plt.ylabel('Average Discount Percentage (%)')\n",
        "plt.xticks(rotation=45, ha='right')\n",
        "plt.grid(axis='y', linestyle='--', alpha=0.7)\n",
        "plt.show()\n",
        "\n"
      ],
      "metadata": {
        "id": "_1LiRblE6qbH"
      },
      "execution_count": null,
      "outputs": []
    },
    {
      "cell_type": "markdown",
      "source": [
        "# * item sold with and without discount per category"
      ],
      "metadata": {
        "id": "CnpybIobEBx5"
      }
    },
    {
      "cell_type": "code",
      "source": [
        "# Calculate the total number of products sold\n",
        "total_products_sold = new_data['product_quantity'].sum()\n",
        "\n",
        "# Count the number of products sold with and without discounts\n",
        "products_sold_with_discount = new_data[new_data['discounts'] != 0]['product_quantity'].sum()\n",
        "products_sold_without_discount = new_data[new_data['discounts'] == 0]['product_quantity'].sum()\n",
        "\n",
        "# Calculate the percentage of products sold with and without discounts\n",
        "percentage_with_discount = (products_sold_with_discount / total_products_sold) * 100\n",
        "percentage_without_discount = (products_sold_without_discount / total_products_sold) * 100\n",
        "\n",
        "# Print or visualize the results\n",
        "print(\"Total number of products sold:\", total_products_sold)\n",
        "print(\"Number of products sold with discount:\", products_sold_with_discount)\n",
        "print(\"Number of products sold without discount:\", products_sold_without_discount)\n",
        "print(\"Percentage of products sold with discount:\", percentage_with_discount)\n",
        "print(\"Percentage of products sold without discount:\", percentage_without_discount)\n",
        "\n"
      ],
      "metadata": {
        "id": "Me78bVmoLFqD"
      },
      "execution_count": null,
      "outputs": []
    },
    {
      "cell_type": "code",
      "source": [
        "new_data.info()"
      ],
      "metadata": {
        "id": "S51LZcgMOrRG"
      },
      "execution_count": null,
      "outputs": []
    },
    {
      "cell_type": "code",
      "source": [
        "avg_discount= new_data.discount_percentage.mean()\n",
        "avg_discount"
      ],
      "metadata": {
        "id": "dxlXF2z8IGzs"
      },
      "execution_count": null,
      "outputs": []
    },
    {
      "cell_type": "code",
      "source": [
        "category_revenue = new_data.groupby('category')['unit_price'].sum()\n",
        "\n",
        "#  Sort the categories based on total revenue and select the top 15 categories\n",
        "top_15_categories = category_revenue.nlargest(15).index\n",
        "\n",
        "#  Filter the DataFrame to include only the selected top 15 categories\n",
        "filtered_data = new_data[new_data['category'].isin(top_15_categories)]\n",
        "\n",
        "#  Group the filtered DataFrame by category and discount status\n",
        "discount_counts = filtered_data.groupby(['category', 'discounts']).size().unstack(fill_value=0)\n",
        "\n",
        "\n",
        "#Count the number of products sold with and without discounts within each category\n",
        "discount_counts['total'] = discount_counts.sum(axis=1)#.sort_values()\n",
        "discount_counts['without_discount'] = discount_counts[0]\n",
        "discount_counts['with_discount'] = discount_counts['total'] - discount_counts['without_discount']\n",
        "\n",
        "print(discount_counts[['with_discount', 'without_discount']])\n",
        "import matplotlib.pyplot as plt\n",
        "\n",
        "# Plotting the results\n",
        "discount_counts[['with_discount', 'without_discount']].plot(kind='bar', stacked=True, figsize=(10, 6), grid=False)\n",
        "plt.title('Number of Products Sold with and without Discounts for Top 15 Revenue Categories')\n",
        "plt.xlabel('Category')\n",
        "plt.ylabel('Number of Products Sold')\n",
        "plt.xticks(rotation=45, ha='right')\n",
        "plt.legend(title='Discount Status', loc='upper right')\n",
        "#plt.grid(False)\n",
        "plt.tight_layout()\n",
        "plt.show()\n",
        "\n"
      ],
      "metadata": {
        "id": "25oFlC79dooa"
      },
      "execution_count": null,
      "outputs": []
    },
    {
      "cell_type": "code",
      "source": [
        "import matplotlib.pyplot as plt\n",
        "\n",
        "# Plotting the results with green color\n",
        "discount_counts[['with_discount', 'without_discount']].plot(kind='bar', stacked=True, figsize=(10, 6), color=['lightgreen', 'green'], grid=False)\n",
        "\n",
        "# Adding title, labels, and legend\n",
        "plt.title('Most Product in top 15 category are sold with discounts')\n",
        "plt.xlabel('Category')\n",
        "plt.ylabel('Number of Products Sold')\n",
        "plt.xticks(rotation=45, ha='right')\n",
        "plt.legend(title='Discount Status', loc='upper right')\n",
        "\n",
        "# Adjusting layout and displaying the plot\n",
        "plt.tight_layout()\n",
        "plt.show()\n"
      ],
      "metadata": {
        "id": "v3mVxyqehY8L"
      },
      "execution_count": null,
      "outputs": []
    },
    {
      "cell_type": "code",
      "source": [
        "new_data.info()"
      ],
      "metadata": {
        "id": "PTIlyzCLCUp7"
      },
      "execution_count": null,
      "outputs": []
    },
    {
      "cell_type": "code",
      "source": [
        "import matplotlib.pyplot as plt\n",
        "import seaborn as sns\n",
        "\n",
        "# Define your custom color palette with light green and green shades\n",
        "custom_palette = ['#90EE90', '#008000']\n",
        "\n",
        "# Plotting the results\n",
        "ax = discount_counts[['with_discount', 'without_discount']].plot(kind='bar', figsize=(10, 6), width=0.4, color=custom_palette, grid=False)\n",
        "plt.title('Number of Products Sold with and without Discounts for Top 15 Revenue Categories')\n",
        "plt.xlabel('Category')\n",
        "plt.ylabel('Number of Products Sold')\n",
        "plt.xticks(rotation=45, ha='right')\n",
        "plt.legend(title='Discount Status', loc='upper right')\n",
        "plt.tight_layout()\n",
        "\n",
        "# Adjusting x-axis position for the second set of bars\n",
        "for bar in ax.patches[len(discount_counts):]:\n",
        "    bar.set_x(bar.get_x() + 0.4)\n",
        "\n",
        "plt.show()\n"
      ],
      "metadata": {
        "id": "KNoR_K8Z8BMu"
      },
      "execution_count": null,
      "outputs": []
    },
    {
      "cell_type": "code",
      "source": [
        "# Importing the necessary color palette\n",
        "from matplotlib.cm import Greens\n",
        "\n",
        "discount_counts[['with_discount', 'without_discount']].plot(kind='line', figsize=(10, 6), color=[Greens(0.5), Greens(0.9)], grid=False)\n",
        "plt.title('Number of Products Sold with and without Discounts for Top 15 Revenue Categories')\n",
        "plt.xlabel('Category')\n",
        "plt.ylabel('Number of Products Sold')\n",
        "plt.xticks(rotation=45, ha='right')\n",
        "plt.legend(title='Discount Status', loc='upper right')\n",
        "plt.tight_layout()\n",
        "plt.show()\n"
      ],
      "metadata": {
        "id": "fQ1uMuvldvY9"
      },
      "execution_count": null,
      "outputs": []
    },
    {
      "cell_type": "code",
      "source": [
        "new_data.info()\n"
      ],
      "metadata": {
        "id": "AQO8fJoMXs5c"
      },
      "execution_count": null,
      "outputs": []
    }
  ]
}