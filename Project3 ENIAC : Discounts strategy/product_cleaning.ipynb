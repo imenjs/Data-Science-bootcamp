{
 "cells": [
  {
   "cell_type": "code",
   "execution_count": null,
   "id": "603a5da1-fe25-46c4-8789-9956db0795aa",
   "metadata": {
    "tags": []
   },
   "outputs": [],
   "source": [
    "import pandas as pd;\n",
    "\n",
    "pd.options.mode.copy_on_write = True "
   ]
  },
  {
   "cell_type": "markdown",
   "id": "a14051f3-d902-4e5e-9598-5f5c3fc5b6f0",
   "metadata": {},
   "source": [
    "**** import Data Frame and library ****"
   ]
  },
  {
   "cell_type": "code",
   "execution_count": null,
   "id": "dc64f03a-dffb-4e69-8253-dd08527a7074",
   "metadata": {},
   "outputs": [],
   "source": [
    "products_df = pd.read_csv('https://raw.githubusercontent.com/WBSCodingSchool/wbscs_data/main/products.csv')"
   ]
  },
  {
   "cell_type": "code",
   "execution_count": null,
   "id": "54d51458-6544-4ccd-ab95-916e2a7e852a",
   "metadata": {
    "tags": []
   },
   "outputs": [],
   "source": [
    "orders_df = pd.read_csv('https://raw.githubusercontent.com/WBSCodingSchool/wbscs_data/main/orders.csv')\n",
    "\n",
    "products_df = pd.read_csv('https://raw.githubusercontent.com/WBSCodingSchool/wbscs_data/main/products.csv')\n",
    "\n",
    "brands_df = pd.read_csv('https://raw.githubusercontent.com/WBSCodingSchool/wbscs_data/main/brands.csv')\n",
    "\n",
    "orders_line_df = pd.read_csv('https://raw.githubusercontent.com/WBSCodingSchool/wbscs_data/main/orderlines.csv')"
   ]
  },
  {
   "cell_type": "code",
   "execution_count": null,
   "id": "bb13be24-1c64-4df7-b7b4-3273252a6ada",
   "metadata": {},
   "outputs": [],
   "source": []
  },
  {
   "cell_type": "markdown",
   "id": "2edf4f38-a5f0-4341-b208-21b6411e9b01",
   "metadata": {
    "tags": []
   },
   "source": [
    "**** Head, info, sample to check the data and data type ****"
   ]
  },
  {
   "cell_type": "code",
   "execution_count": null,
   "id": "fc6a3691-2810-49a3-b2d2-1ffe2769f194",
   "metadata": {
    "tags": []
   },
   "outputs": [],
   "source": [
    "orders_line.info()"
   ]
  },
  {
   "cell_type": "code",
   "execution_count": null,
   "id": "395bd9a2-0ce4-4c83-bbd0-b8409ddcf389",
   "metadata": {
    "tags": []
   },
   "outputs": [],
   "source": [
    "products.info()"
   ]
  },
  {
   "cell_type": "code",
   "execution_count": null,
   "id": "a5182a97-af49-4f54-81c7-35db6390ea9d",
   "metadata": {
    "tags": []
   },
   "outputs": [],
   "source": [
    "brands.info()"
   ]
  },
  {
   "cell_type": "code",
   "execution_count": null,
   "id": "adb60ce4-8c50-464c-b6c2-60646e80beac",
   "metadata": {
    "tags": []
   },
   "outputs": [],
   "source": [
    "orders.info()"
   ]
  },
  {
   "cell_type": "markdown",
   "id": "00983db3-cd0d-4e89-88f9-4646383fe538",
   "metadata": {},
   "source": [
    "**** Copy of all tables ****"
   ]
  },
  {
   "cell_type": "code",
   "execution_count": null,
   "id": "6cad7448-3e1e-44a0-b540-727bf1a30b45",
   "metadata": {
    "tags": []
   },
   "outputs": [],
   "source": [
    "brands = brands_df.copy()\n",
    "\n",
    "products = products_df.copy()\n",
    "\n",
    "orders = orders_df.copy()\n",
    "\n",
    "orders_line = orders_line_df.copy()"
   ]
  },
  {
   "cell_type": "code",
   "execution_count": null,
   "id": "b9a83a17-2e3b-402f-a3dc-56ec1a3d4eb5",
   "metadata": {
    "tags": []
   },
   "outputs": [],
   "source": [
    "orders_line.sample(20)"
   ]
  },
  {
   "cell_type": "code",
   "execution_count": null,
   "id": "9b2c6a35-17a4-4f76-9ba3-4192cfb6cd4e",
   "metadata": {},
   "outputs": [],
   "source": []
  },
  {
   "cell_type": "code",
   "execution_count": null,
   "id": "dcf22e62-f567-4d73-b15c-a4043f4ce321",
   "metadata": {},
   "outputs": [],
   "source": [
    "# rename column\n",
    "#df_50.rename(columns={'product_quantity': 'quantity', 'sku': 'product_code'}, inplace=True)\n"
   ]
  },
  {
   "cell_type": "markdown",
   "id": "e1753615-7243-4159-865c-83d60b98a8c4",
   "metadata": {},
   "source": [
    "**** table products ****"
   ]
  },
  {
   "cell_type": "code",
   "execution_count": null,
   "id": "0a568b05-2519-4a84-b921-07f5bac6911c",
   "metadata": {
    "tags": []
   },
   "outputs": [],
   "source": [
    "products.duplicated().sum()"
   ]
  },
  {
   "cell_type": "code",
   "execution_count": null,
   "id": "cc3ea68d-cd39-4fa2-9e1c-05560a7dbc61",
   "metadata": {
    "tags": []
   },
   "outputs": [],
   "source": [
    "products = products.drop_duplicates(keep='first')"
   ]
  },
  {
   "cell_type": "markdown",
   "id": "45f1f2d0-c012-4b4e-98a5-847e6dcdae76",
   "metadata": {},
   "source": [
    "*** check for nulls and tow dots in the data types for Products DF ***"
   ]
  },
  {
   "cell_type": "code",
   "execution_count": null,
   "id": "8aef0cc0-7c0f-4920-808a-000f8b2278fe",
   "metadata": {
    "tags": []
   },
   "outputs": [],
   "source": [
    "# calculate the percentage of two dot in the table\n",
    "two_dot_percentage_production = ((products.price.str.contains(\"\\d+\\.\\d+\\.\\d+\").value_counts()[1] / products.shape[0])*100).round(2)\n",
    "print(f\"The 2 dot problem represents {two_dot_percentage_production}% of the rows in our DataFrame\")"
   ]
  },
  {
   "cell_type": "code",
   "execution_count": null,
   "id": "3fe4b199-ec47-4ef8-bda0-32d1117a4e71",
   "metadata": {
    "tags": []
   },
   "outputs": [],
   "source": [
    "products.price.str.contains(\"\\d+\\.\\d+\\.\\d+\").value_counts()"
   ]
  },
  {
   "cell_type": "code",
   "execution_count": null,
   "id": "bdc8ebe5-3056-4f67-b0ca-5c391c872724",
   "metadata": {
    "tags": []
   },
   "outputs": [],
   "source": [
    "products.promo_price.str.contains(\"\\d+\\.\\d+\\.\\d+\").value_counts()"
   ]
  },
  {
   "cell_type": "code",
   "execution_count": null,
   "id": "c44d410a-ad88-4e24-a789-93af370e40dd",
   "metadata": {
    "tags": []
   },
   "outputs": [],
   "source": [
    "# remove the tow dot lines \n",
    "\n",
    "rows_with_two_dots = products['price'].str.count('\\.') == 2\n",
    "\n",
    "# select the rows where the price column does not contain two dots\n",
    "products = products[~rows_with_two_dots]\n",
    "\n",
    "# Print the percentage of rows affected\n",
    "two_dot_percentage_production = ((rows_with_two_dots.sum() / products.shape[0]) * 100).round(2)\n",
    "print(f\"The 2 dot problem represents {two_dot_percentage_production}% of the rows in our DataFrame\")\n"
   ]
  },
  {
   "cell_type": "markdown",
   "id": "b10802f8-881a-4d90-b5c4-c85ef7ff3d98",
   "metadata": {},
   "source": [
    "**** product price change to float****"
   ]
  },
  {
   "cell_type": "code",
   "execution_count": null,
   "id": "c5dad297-3684-403e-afcd-23e4673d6313",
   "metadata": {
    "tags": []
   },
   "outputs": [],
   "source": [
    "products[\"price\"] = pd.to_numeric(products[\"price\"])"
   ]
  },
  {
   "cell_type": "markdown",
   "id": "6b93154b-8dc5-429e-a88f-157968baef44",
   "metadata": {},
   "source": [
    "**** rename products sku  ****"
   ]
  },
  {
   "cell_type": "code",
   "execution_count": null,
   "id": "129bbcdf-6a4b-47b9-bffc-4ae098d10590",
   "metadata": {
    "tags": []
   },
   "outputs": [],
   "source": [
    "products = products.rename(columns={'sku': 'product_id'})"
   ]
  },
  {
   "cell_type": "code",
   "execution_count": null,
   "id": "f92abb34-ac20-44a1-b44f-04c706f691cf",
   "metadata": {
    "tags": []
   },
   "outputs": [],
   "source": [
    "products.info()"
   ]
  },
  {
   "cell_type": "code",
   "execution_count": null,
   "id": "9d7dadc5-3a36-466b-b717-dd4c545f6791",
   "metadata": {},
   "outputs": [],
   "source": [
    "**** remove promo_price column ****"
   ]
  },
  {
   "cell_type": "code",
   "execution_count": null,
   "id": "67023371-0b2a-4e37-8537-8b7facd8541a",
   "metadata": {
    "tags": []
   },
   "outputs": [],
   "source": [
    "products = products.drop(columns=['promo_price'])"
   ]
  },
  {
   "cell_type": "code",
   "execution_count": null,
   "id": "2341a901-1c6e-47fb-a5fc-53e7f869c198",
   "metadata": {
    "tags": []
   },
   "outputs": [],
   "source": [
    "products=products.dropna()"
   ]
  },
  {
   "cell_type": "markdown",
   "id": "f2f6cc32-e271-497c-88a5-7df221f070a5",
   "metadata": {},
   "source": [
    "**** null values percentage in orders and orders line ****"
   ]
  },
  {
   "cell_type": "code",
   "execution_count": null,
   "id": "b8db156e-fda4-4682-9242-10d2c6a2f702",
   "metadata": {
    "tags": []
   },
   "outputs": [],
   "source": [
    "orders.total_paid.isna().value_counts(normalize=True)"
   ]
  },
  {
   "cell_type": "code",
   "execution_count": null,
   "id": "80581a4f-2922-4500-88da-fcfb71ec48ec",
   "metadata": {
    "tags": []
   },
   "outputs": [],
   "source": [
    "orders.total_paid.isna().value_counts(normalize=True)[0] * 100"
   ]
  },
  {
   "cell_type": "code",
   "execution_count": null,
   "id": "24cdd77c-db77-4524-931d-36627cd47863",
   "metadata": {
    "tags": []
   },
   "outputs": [],
   "source": [
    "orders.total_paid.notna().value_counts(normalize=True)[0] * 100"
   ]
  },
  {
   "cell_type": "markdown",
   "id": "4274364b-6057-494a-8d0b-c30d893eb754",
   "metadata": {},
   "source": [
    "**** delete the rows with null value orders table as we have enough data ****"
   ]
  },
  {
   "cell_type": "code",
   "execution_count": null,
   "id": "af055341-da59-47cf-8988-6a93822dd895",
   "metadata": {
    "tags": []
   },
   "outputs": [],
   "source": [
    "orders = orders.loc[~orders.total_paid.isna(), :]"
   ]
  },
  {
   "cell_type": "markdown",
   "id": "e4eab954-15d0-49f4-907e-eb42a1c68dda",
   "metadata": {},
   "source": [
    "**** change Date type and flot ****"
   ]
  },
  {
   "cell_type": "code",
   "execution_count": null,
   "id": "6138acb0-4384-45ee-9dd8-0361b251f8b0",
   "metadata": {
    "tags": []
   },
   "outputs": [],
   "source": [
    "orders_line[\"date\"] = pd.to_datetime(orders_line[\"date\"])"
   ]
  },
  {
   "cell_type": "code",
   "execution_count": null,
   "id": "f28cbed0-9e7f-4ba3-820b-416ab2c24024",
   "metadata": {
    "tags": []
   },
   "outputs": [],
   "source": [
    "orders[\"created_date\"] = pd.to_datetime(orders[\"created_date\"])"
   ]
  },
  {
   "cell_type": "code",
   "execution_count": null,
   "id": "68a919d4-ed2f-42fc-812f-c5e4c67e7d16",
   "metadata": {
    "tags": []
   },
   "outputs": [],
   "source": [
    "orders_line.info()"
   ]
  },
  {
   "cell_type": "code",
   "execution_count": null,
   "id": "af820bc2-21d3-411e-a7d0-4ebf910ce8eb",
   "metadata": {
    "tags": []
   },
   "outputs": [],
   "source": [
    "orders_line.unit_price.str.contains(\"\\d+\\.\\d+\\.\\d+\").value_counts()"
   ]
  },
  {
   "cell_type": "code",
   "execution_count": null,
   "id": "4cd89748-2954-4ea1-adcc-2c4990af754e",
   "metadata": {
    "tags": []
   },
   "outputs": [],
   "source": [
    "two_dot_percentage = ((orders_line.unit_price.str.contains(\"\\d+\\.\\d+\\.\\d+\").value_counts()[1] / orders_line.shape[0])*100).round(2)\n",
    "print(f\"The 2 dot problem represents {two_dot_percentage}% of the rows in our DataFrame\")"
   ]
  },
  {
   "cell_type": "code",
   "execution_count": null,
   "id": "7bde9ab7-7ce2-42cd-a6d6-1a4332217a13",
   "metadata": {
    "tags": []
   },
   "outputs": [],
   "source": [
    "two_dot_order_ids_list = orders_line.loc[orders_line.unit_price.str.contains(\"\\d+\\.\\d+\\.\\d+\"), \"id_order\"]\n",
    "orders_line = orders_line.loc[~orders_line.id_order.isin(two_dot_order_ids_list)]"
   ]
  },
  {
   "cell_type": "code",
   "execution_count": null,
   "id": "a742c19a-b646-4394-9c79-74afa098a618",
   "metadata": {
    "tags": []
   },
   "outputs": [],
   "source": [
    "orders_line[\"unit_price\"] = pd.to_numeric(orders_line[\"unit_price\"])"
   ]
  },
  {
   "cell_type": "markdown",
   "id": "1eea1b8d-3122-4c59-8fee-39c42b213df8",
   "metadata": {},
   "source": [
    "**** rename the column  in table Order_line ****"
   ]
  },
  {
   "cell_type": "code",
   "execution_count": null,
   "id": "473e4195-3bd5-4a7d-ab64-99d88895a459",
   "metadata": {
    "tags": []
   },
   "outputs": [],
   "source": [
    "orders_line = orders_line.drop(columns=['product_id'])\n",
    "\n",
    "orders_line = orders_line.rename(columns={'sku': 'product_id'})"
   ]
  },
  {
   "cell_type": "markdown",
   "id": "02d0ecda-c32f-453f-85f3-5a56dbb8fa84",
   "metadata": {},
   "source": [
    "**** fill in the missing price with unit_prices****"
   ]
  },
  {
   "cell_type": "code",
   "execution_count": null,
   "id": "105b1502-db11-4599-8272-fe632001db54",
   "metadata": {
    "tags": []
   },
   "outputs": [],
   "source": [
    "# no need for this code as the price is not the price unit \n",
    "#merged_table = products.merge(orders_line, on='product_id', how='left')\n",
    "\n",
    "#products['price'].fillna(merged_table['unit_price'], inplace=True)\n"
   ]
  },
  {
   "cell_type": "code",
   "execution_count": null,
   "id": "519fc9ac-bdee-4cd3-b5e8-1b9db1610396",
   "metadata": {
    "tags": []
   },
   "outputs": [],
   "source": [
    "orders_line.info()"
   ]
  },
  {
   "cell_type": "code",
   "execution_count": null,
   "id": "8c639576-01ba-4c1b-a69e-e703bfdebb1b",
   "metadata": {
    "tags": []
   },
   "outputs": [],
   "source": [
    "products = products.loc[~products.desc.isna(), :]"
   ]
  },
  {
   "cell_type": "code",
   "execution_count": null,
   "id": "c8435e91-e501-48aa-bb93-acd8aeb6cb6d",
   "metadata": {},
   "outputs": [],
   "source": []
  },
  {
   "cell_type": "code",
   "execution_count": null,
   "id": "97efa31e-23b5-4069-a151-91ef181c8123",
   "metadata": {
    "tags": []
   },
   "outputs": [],
   "source": [
    "products.loc[products[\"product_id\"]== \"JBL0122\"]"
   ]
  },
  {
   "cell_type": "markdown",
   "id": "7af49022-873c-49f1-a554-f7c87631dec0",
   "metadata": {},
   "source": [
    "***** save the new table localy ******"
   ]
  },
  {
   "cell_type": "code",
   "execution_count": null,
   "id": "9a4881fa-9fa4-4a5c-8272-c7110ee7dc48",
   "metadata": {
    "tags": []
   },
   "outputs": [],
   "source": [
    "products.to_csv('products_clean.csv', index=False)"
   ]
  }
 ],
 "metadata": {
  "kernelspec": {
   "display_name": "Python 3 (ipykernel)",
   "language": "python",
   "name": "python3"
  },
  "language_info": {
   "codemirror_mode": {
    "name": "ipython",
    "version": 3
   },
   "file_extension": ".py",
   "mimetype": "text/x-python",
   "name": "python",
   "nbconvert_exporter": "python",
   "pygments_lexer": "ipython3",
   "version": "3.11.5"
  },
  "toc-autonumbering": false,
  "toc-showmarkdowntxt": true
 },
 "nbformat": 4,
 "nbformat_minor": 5
}
