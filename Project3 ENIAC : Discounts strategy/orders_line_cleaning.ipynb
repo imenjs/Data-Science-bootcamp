{
 "cells": [
  {
   "cell_type": "markdown",
   "id": "98d8c4ab-315c-4e68-99b7-b0d41284cae4",
   "metadata": {},
   "source": [
    "***** import orderline table ****"
   ]
  },
  {
   "cell_type": "code",
   "execution_count": 3,
   "id": "6c1a4a70-cb3c-48f3-8d3d-352219e3e656",
   "metadata": {
    "tags": []
   },
   "outputs": [],
   "source": [
    "import pandas as pd;\n",
    "pd.options.mode.copy_on_write = True "
   ]
  },
  {
   "cell_type": "code",
   "execution_count": 15,
   "id": "5a193bfd-3d0a-45f7-8f90-2bae09aa03b3",
   "metadata": {
    "tags": []
   },
   "outputs": [],
   "source": [
    "orders_line_clean = pd.read_csv('https://raw.githubusercontent.com/WBSCodingSchool/wbscs_data/main/orderlines.csv')\n",
    "orders_line=orders_line_clean.copy()"
   ]
  },
  {
   "cell_type": "code",
   "execution_count": 16,
   "id": "efe19134-b73a-4823-86b3-d71205fe8165",
   "metadata": {
    "tags": []
   },
   "outputs": [
    {
     "data": {
      "text/html": [
       "<div>\n",
       "<style scoped>\n",
       "    .dataframe tbody tr th:only-of-type {\n",
       "        vertical-align: middle;\n",
       "    }\n",
       "\n",
       "    .dataframe tbody tr th {\n",
       "        vertical-align: top;\n",
       "    }\n",
       "\n",
       "    .dataframe thead th {\n",
       "        text-align: right;\n",
       "    }\n",
       "</style>\n",
       "<table border=\"1\" class=\"dataframe\">\n",
       "  <thead>\n",
       "    <tr style=\"text-align: right;\">\n",
       "      <th></th>\n",
       "      <th>id</th>\n",
       "      <th>id_order</th>\n",
       "      <th>product_id</th>\n",
       "      <th>product_quantity</th>\n",
       "      <th>sku</th>\n",
       "      <th>unit_price</th>\n",
       "      <th>date</th>\n",
       "    </tr>\n",
       "  </thead>\n",
       "  <tbody>\n",
       "    <tr>\n",
       "      <th>0</th>\n",
       "      <td>1119109</td>\n",
       "      <td>299539</td>\n",
       "      <td>0</td>\n",
       "      <td>1</td>\n",
       "      <td>OTT0133</td>\n",
       "      <td>18.99</td>\n",
       "      <td>2017-01-01 00:07:19</td>\n",
       "    </tr>\n",
       "  </tbody>\n",
       "</table>\n",
       "</div>"
      ],
      "text/plain": [
       "        id  id_order  product_id  product_quantity      sku unit_price  \\\n",
       "0  1119109    299539           0                 1  OTT0133      18.99   \n",
       "\n",
       "                  date  \n",
       "0  2017-01-01 00:07:19  "
      ]
     },
     "execution_count": 16,
     "metadata": {},
     "output_type": "execute_result"
    }
   ],
   "source": [
    "orders_line.head(1)"
   ]
  },
  {
   "cell_type": "markdown",
   "id": "1e202dfc-8986-4363-9071-cdbacbfa7f57",
   "metadata": {},
   "source": [
    "***** remove column product_id *****"
   ]
  },
  {
   "cell_type": "code",
   "execution_count": 17,
   "id": "0d2976c0-48fa-4ccd-9af2-c6fdba0ddffe",
   "metadata": {
    "tags": []
   },
   "outputs": [],
   "source": [
    "orders_line = orders_line.drop(columns=\"product_id\")"
   ]
  },
  {
   "cell_type": "markdown",
   "id": "71c0393b-80eb-4672-bc09-ca4cb749064c",
   "metadata": {},
   "source": [
    "**** rename column sku to product_id ******"
   ]
  },
  {
   "cell_type": "code",
   "execution_count": 18,
   "id": "08f0a3f5-fb87-4790-9c6a-79350047d5af",
   "metadata": {
    "tags": []
   },
   "outputs": [],
   "source": [
    "orders_line = orders_line.rename(columns={'sku': 'product_id'})"
   ]
  },
  {
   "cell_type": "code",
   "execution_count": 19,
   "id": "9a068034-1e8a-4df9-93fa-c2648dfd660a",
   "metadata": {
    "tags": []
   },
   "outputs": [
    {
     "name": "stdout",
     "output_type": "stream",
     "text": [
      "<class 'pandas.core.frame.DataFrame'>\n",
      "RangeIndex: 293983 entries, 0 to 293982\n",
      "Data columns (total 6 columns):\n",
      " #   Column            Non-Null Count   Dtype \n",
      "---  ------            --------------   ----- \n",
      " 0   id                293983 non-null  int64 \n",
      " 1   id_order          293983 non-null  int64 \n",
      " 2   product_quantity  293983 non-null  int64 \n",
      " 3   product_id        293983 non-null  object\n",
      " 4   unit_price        293983 non-null  object\n",
      " 5   date              293983 non-null  object\n",
      "dtypes: int64(3), object(3)\n",
      "memory usage: 13.5+ MB\n"
     ]
    }
   ],
   "source": [
    "orders_line.info()"
   ]
  },
  {
   "cell_type": "markdown",
   "id": "b52db431-2a07-42ad-8967-eac87a95170c",
   "metadata": {},
   "source": [
    "*****change created date to datetime type and remove null values*****"
   ]
  },
  {
   "cell_type": "code",
   "execution_count": 20,
   "id": "e97f6111-cd88-4b75-8f6f-4f7b5c7dc4ce",
   "metadata": {
    "tags": []
   },
   "outputs": [],
   "source": [
    "\n",
    "orders_line[\"date\"] = pd.to_datetime(orders_line[\"date\"])"
   ]
  },
  {
   "cell_type": "markdown",
   "id": "9a78fb4c-a5b8-410d-a332-9b19f33b53b5",
   "metadata": {},
   "source": [
    "**** change price to float  ****"
   ]
  },
  {
   "cell_type": "code",
   "execution_count": 21,
   "id": "58aa7694-9639-4462-99d0-dbc47a7a6a8e",
   "metadata": {
    "tags": []
   },
   "outputs": [],
   "source": [
    "two_dot_order_ids_list = orders_line.loc[orders_line.unit_price.str.contains(\"\\d+\\.\\d+\\.\\d+\"), \"id_order\"]\n",
    "orders_line = orders_line.loc[~orders_line.id_order.isin(two_dot_order_ids_list)]\n",
    "\n",
    "orders_line[\"unit_price\"] = pd.to_numeric(orders_line[\"unit_price\"])\n"
   ]
  },
  {
   "cell_type": "code",
   "execution_count": null,
   "id": "f636a74f-0b16-4e80-9452-06ff6a062ee4",
   "metadata": {},
   "outputs": [],
   "source": [
    "***** Export the clean orders_line DF *****"
   ]
  },
  {
   "cell_type": "code",
   "execution_count": 22,
   "id": "1d453137-83ae-4562-8194-3d0ae10f7365",
   "metadata": {
    "tags": []
   },
   "outputs": [],
   "source": [
    "orders_line.to_csv('orders_line_clean.csv', index=False, date_format='%Y-%m-%d %H:%M:%S')"
   ]
  }
 ],
 "metadata": {
  "kernelspec": {
   "display_name": "Python 3 (ipykernel)",
   "language": "python",
   "name": "python3"
  },
  "language_info": {
   "codemirror_mode": {
    "name": "ipython",
    "version": 3
   },
   "file_extension": ".py",
   "mimetype": "text/x-python",
   "name": "python",
   "nbconvert_exporter": "python",
   "pygments_lexer": "ipython3",
   "version": "3.11.5"
  }
 },
 "nbformat": 4,
 "nbformat_minor": 5
}
