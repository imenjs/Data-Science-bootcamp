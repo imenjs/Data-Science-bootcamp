{
 "cells": [
  {
   "cell_type": "markdown",
   "id": "4914680c-9c6c-4f94-9a6f-c968a5950d79",
   "metadata": {},
   "source": [
    "**** Import Data and make copies ***"
   ]
  },
  {
   "cell_type": "code",
   "execution_count": 23,
   "id": "116a13d9-d1d5-42c4-bfe6-c69ee82fd223",
   "metadata": {},
   "outputs": [],
   "source": [
    "import pandas as pd;\n",
    "\n",
    "pd.options.mode.copy_on_write = True "
   ]
  },
  {
   "cell_type": "code",
   "execution_count": 24,
   "id": "dcbac9a9-09a3-4125-9707-f2ce72c3f434",
   "metadata": {
    "tags": []
   },
   "outputs": [],
   "source": [
    "orders_df = pd.read_csv('https://raw.githubusercontent.com/WBSCodingSchool/wbscs_data/main/orders.csv')"
   ]
  },
  {
   "cell_type": "code",
   "execution_count": 25,
   "id": "fb6d253c-a2a7-4542-91ca-cc2599d607bf",
   "metadata": {
    "tags": []
   },
   "outputs": [],
   "source": [
    "orders=orders_df.copy()"
   ]
  },
  {
   "cell_type": "code",
   "execution_count": 26,
   "id": "f19abdeb-f854-4389-8f99-41316e5eb0af",
   "metadata": {
    "tags": []
   },
   "outputs": [
    {
     "name": "stdout",
     "output_type": "stream",
     "text": [
      "<class 'pandas.core.frame.DataFrame'>\n",
      "RangeIndex: 226909 entries, 0 to 226908\n",
      "Data columns (total 4 columns):\n",
      " #   Column        Non-Null Count   Dtype  \n",
      "---  ------        --------------   -----  \n",
      " 0   order_id      226909 non-null  int64  \n",
      " 1   created_date  226909 non-null  object \n",
      " 2   total_paid    226904 non-null  float64\n",
      " 3   state         226909 non-null  object \n",
      "dtypes: float64(1), int64(1), object(2)\n",
      "memory usage: 6.9+ MB\n"
     ]
    }
   ],
   "source": [
    "orders.info()"
   ]
  },
  {
   "cell_type": "markdown",
   "id": "94c7643e-64cc-48a0-97c3-e29f98a003f7",
   "metadata": {},
   "source": [
    "****rename column state****"
   ]
  },
  {
   "cell_type": "code",
   "execution_count": 27,
   "id": "b5655df2-00d2-4a65-9d3b-b6c6c3dc0d5d",
   "metadata": {
    "tags": []
   },
   "outputs": [],
   "source": [
    "orders = orders.rename(columns={'state': 'status'})"
   ]
  },
  {
   "cell_type": "markdown",
   "id": "cf77a416-2eb9-4b2e-a86e-7752f3a83846",
   "metadata": {},
   "source": [
    "*****change created date to datetime type and remove null values*****"
   ]
  },
  {
   "cell_type": "raw",
   "id": "1921e0f4-d0a6-42f6-be1b-efcff2643c79",
   "metadata": {},
   "source": []
  },
  {
   "cell_type": "code",
   "execution_count": 28,
   "id": "98bf59b7-b2f1-4539-91ef-a8984a3650aa",
   "metadata": {
    "tags": []
   },
   "outputs": [],
   "source": [
    "orders = orders.loc[~orders.total_paid.isna(), :]\n",
    "orders[\"created_date\"] = pd.to_datetime(orders[\"created_date\"])\n"
   ]
  },
  {
   "cell_type": "code",
   "execution_count": 29,
   "id": "ca4e154f-0988-4616-9339-6cac54df372c",
   "metadata": {
    "tags": []
   },
   "outputs": [
    {
     "name": "stdout",
     "output_type": "stream",
     "text": [
      "<class 'pandas.core.frame.DataFrame'>\n",
      "Index: 226904 entries, 0 to 226908\n",
      "Data columns (total 4 columns):\n",
      " #   Column        Non-Null Count   Dtype         \n",
      "---  ------        --------------   -----         \n",
      " 0   order_id      226904 non-null  int64         \n",
      " 1   created_date  226904 non-null  datetime64[ns]\n",
      " 2   total_paid    226904 non-null  float64       \n",
      " 3   status        226904 non-null  object        \n",
      "dtypes: datetime64[ns](1), float64(1), int64(1), object(1)\n",
      "memory usage: 8.7+ MB\n"
     ]
    }
   ],
   "source": [
    "orders.info()"
   ]
  },
  {
   "cell_type": "code",
   "execution_count": null,
   "id": "153547c4-1d3d-4e4f-8c08-41b122fc177a",
   "metadata": {},
   "outputs": [],
   "source": [
    "***** save the new table localy ******"
   ]
  },
  {
   "cell_type": "code",
   "execution_count": 39,
   "id": "1d738c2a-ea08-44ef-b76f-8da55d320154",
   "metadata": {
    "tags": []
   },
   "outputs": [],
   "source": [
    "#orders.to_csv('orders_clean.csv', index=False)\n"
   ]
  },
  {
   "cell_type": "code",
   "execution_count": 34,
   "id": "241d182e-e84c-49fd-bb0a-f8eca4361e25",
   "metadata": {
    "tags": []
   },
   "outputs": [],
   "source": [
    "\n",
    "orders.to_csv('orders_clean.csv', index=False, date_format='%Y-%m-%d %H:%M:%S')\n",
    "\n"
   ]
  },
  {
   "cell_type": "code",
   "execution_count": 36,
   "id": "f86ed49c-dc6c-4077-beda-41bcdcf605c3",
   "metadata": {
    "tags": []
   },
   "outputs": [],
   "source": [
    "# Save to HDF5 format\n",
    "#orders.to_hdf('orders_clean.h5', key='orders', mode='w')\n"
   ]
  },
  {
   "cell_type": "code",
   "execution_count": 40,
   "id": "ff127cad-669a-4284-ac3f-fbe32823144e",
   "metadata": {
    "tags": []
   },
   "outputs": [
    {
     "name": "stdout",
     "output_type": "stream",
     "text": [
      "<class 'pandas.core.frame.DataFrame'>\n",
      "Index: 226904 entries, 0 to 226908\n",
      "Data columns (total 4 columns):\n",
      " #   Column        Non-Null Count   Dtype         \n",
      "---  ------        --------------   -----         \n",
      " 0   order_id      226904 non-null  int64         \n",
      " 1   created_date  226904 non-null  datetime64[ns]\n",
      " 2   total_paid    226904 non-null  float64       \n",
      " 3   status        226904 non-null  object        \n",
      "dtypes: datetime64[ns](1), float64(1), int64(1), object(1)\n",
      "memory usage: 8.7+ MB\n"
     ]
    }
   ],
   "source": [
    "orders.info()"
   ]
  },
  {
   "cell_type": "code",
   "execution_count": 1,
   "id": "558dfa4c-9dbc-4e4a-9c83-6ad181612f06",
   "metadata": {
    "tags": []
   },
   "outputs": [
    {
     "ename": "NameError",
     "evalue": "name 'orders_line' is not defined",
     "output_type": "error",
     "traceback": [
      "\u001b[1;31m---------------------------------------------------------------------------\u001b[0m",
      "\u001b[1;31mNameError\u001b[0m                                 Traceback (most recent call last)",
      "Cell \u001b[1;32mIn[1], line 1\u001b[0m\n\u001b[1;32m----> 1\u001b[0m orders_line\u001b[38;5;241m.\u001b[39minfo()\n",
      "\u001b[1;31mNameError\u001b[0m: name 'orders_line' is not defined"
     ]
    }
   ],
   "source": [
    "orders_line.info()"
   ]
  }
 ],
 "metadata": {
  "kernelspec": {
   "display_name": "Python 3 (ipykernel)",
   "language": "python",
   "name": "python3"
  },
  "language_info": {
   "codemirror_mode": {
    "name": "ipython",
    "version": 3
   },
   "file_extension": ".py",
   "mimetype": "text/x-python",
   "name": "python",
   "nbconvert_exporter": "python",
   "pygments_lexer": "ipython3",
   "version": "3.11.5"
  },
  "toc-showmarkdowntxt": true
 },
 "nbformat": 4,
 "nbformat_minor": 5
}
