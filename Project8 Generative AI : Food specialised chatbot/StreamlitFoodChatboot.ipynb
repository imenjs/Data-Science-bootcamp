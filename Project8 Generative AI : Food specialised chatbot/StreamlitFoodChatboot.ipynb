{
  "cells": [
    {
      "cell_type": "code",
      "execution_count": null,
      "metadata": {
        "id": "7MC8Le7HAr1H"
      },
      "outputs": [],
      "source": [
        "!pip install streamlit"
      ]
    },
    {
      "cell_type": "code",
      "execution_count": null,
      "metadata": {
        "id": "YIawD653sl2Z"
      },
      "outputs": [],
      "source": [
        "!pip install -qqq streamlit --progress-bar off\n",
        "!npm install -qqq localtunnel --progress-bar off"
      ]
    },
    {
      "cell_type": "code",
      "execution_count": null,
      "metadata": {
        "colab": {
          "background_save": true
        },
        "id": "A_wVJmaquDes"
      },
      "outputs": [],
      "source": [
        "!pip3 install -qqq langchain --progress-bar off\n",
        "!pip3 install -qqq llama-cpp-python --progress-bar off\n",
        "!pip3 install -qqq sentence_transformers --progress-bar off\n",
        "!pip3 install -qqq faiss-gpu --progress-bar off\n",
        "\n",
        "!huggingface-cli download TheBloke/Mistral-7B-Instruct-v0.1-GGUF mistral-7b-instruct-v0.1.Q4_K_M.gguf --local-dir . --local-dir-use-symlinks False"
      ]
    },
    {
      "cell_type": "code",
      "execution_count": null,
      "metadata": {
        "id": "VJ3o3xyjuTVk"
      },
      "outputs": [],
      "source": [
        "!pip install PyPDF2\n",
        "!pip install pypdf"
      ]
    },
    {
      "cell_type": "code",
      "execution_count": null,
      "metadata": {
        "id": "CXA8eex1uJQn"
      },
      "outputs": [],
      "source": [
        "from langchain_community.document_loaders import PyPDFLoader\n",
        "from langchain.text_splitter import RecursiveCharacterTextSplitter\n",
        "\n",
        "# List of file paths for the five PDFs\n",
        "pdf_files = [\n",
        "    \"/content/Chicken-Recipes-obooko-fd0004.pdf\",\n",
        "    \"/content/Cookie-Jar-obooko-fd0018.pdf\",\n",
        "    \"/content/InfantFood-obooko-fd0006.pdf\",\n",
        "    \"/content/KidsRecipes-obooko-fd0002.pdf\",\n",
        "    \"/content/homemade-jam-recipes-obooko.pdf\"\n",
        "]\n",
        "\n",
        "# Initialize an empty list to store the pages from all PDFs\n",
        "all_pages = []\n",
        "\n",
        "# Iterate over each PDF file\n",
        "for file_path in pdf_files:\n",
        "    # Load the PDF file using PyPDFLoader\n",
        "    loader = PyPDFLoader(file_path)\n",
        "    # Load and split the pages from the PDF\n",
        "    pages = loader.load_and_split()\n",
        "    # Extend the list of all pages with the pages from the current PDF\n",
        "    all_pages.extend(pages)\n",
        "\n",
        "# Now, the all_pages list contains all the pages from the five PDFs\n",
        "\n",
        "# Split the text into chunks\n",
        "text_splitter = RecursiveCharacterTextSplitter(chunk_size=2000, chunk_overlap=300)\n",
        "docs = text_splitter.split_documents(all_pages)\n",
        "\n",
        "# Now, the docs variable contains the text split into chunks\n"
      ]
    },
    {
      "cell_type": "code",
      "execution_count": null,
      "metadata": {
        "id": "0C7EOfAxufBa"
      },
      "outputs": [],
      "source": [
        "%%writefile rag_app.py\n",
        "\n",
        "from langchain.llms import LlamaCpp\n",
        "from langchain.vectorstores import FAISS\n",
        "from langchain.prompts import PromptTemplate\n",
        "from langchain.chains import ConversationalRetrievalChain\n",
        "from langchain.embeddings import HuggingFaceEmbeddings\n",
        "from langchain.memory import ConversationBufferMemory\n",
        "import streamlit as st\n",
        "\n",
        "from langchain.text_splitter import RecursiveCharacterTextSplitter\n",
        "\n",
        "\n",
        "\n",
        "from langchain_community.document_loaders import PyPDFLoader\n",
        "from langchain.text_splitter import RecursiveCharacterTextSplitter\n",
        "\n",
        "# List of file paths for the five PDFs\n",
        "pdf_files = [\n",
        "    \"/content/Chicken-Recipes-obooko-fd0004.pdf\",\n",
        "    \"/content/Cookie-Jar-obooko-fd0018.pdf\",\n",
        "    \"/content/InfantFood-obooko-fd0006.pdf\",\n",
        "    \"/content/KidsRecipes-obooko-fd0002.pdf\",\n",
        "    \"/content/homemade-jam-recipes-obooko.pdf\"\n",
        "]\n",
        "\n",
        "# Initialize an empty list to store the pages from all PDFs\n",
        "all_pages = []\n",
        "\n",
        "# Iterate over each PDF file\n",
        "for file_path in pdf_files:\n",
        "    # Load the PDF file using PyPDFLoader\n",
        "    loader = PyPDFLoader(file_path)\n",
        "    # Load and split the pages from the PDF\n",
        "    pages = loader.load_and_split()\n",
        "    # Extend the list of all pages with the pages from the current PDF\n",
        "    all_pages.extend(pages)\n",
        "\n",
        "# Now, the all_pages list contains all the pages from the five PDFs\n",
        "\n",
        "# Split the text into chunks\n",
        "text_splitter = RecursiveCharacterTextSplitter(chunk_size=1000, chunk_overlap=200)\n",
        "docs = text_splitter.split_documents(all_pages)\n",
        "\n",
        "# Now, the docs variable contains the text split into chunks\n",
        "\n",
        "\n",
        "\n",
        "# llm\n",
        "llm = LlamaCpp(model_path=\"/content/mistral-7b-instruct-v0.1.Q4_K_M.gguf\",\n",
        "               max_tokens=2000,\n",
        "               temperature=0.7,\n",
        "               top_p=0.7,\n",
        "               n_gpu_layers=-1,\n",
        "               n_ctx=2048)\n",
        "\n",
        "# splitting\n",
        "#text_splitter = RecursiveCharacterTextSplitter(chunk_size=1000,\n",
        "                                               #chunk_overlap=200)\n",
        "\n",
        "#docs = text_splitter.split_documents(all_pages)\n",
        "\n",
        "# embeddings\n",
        "embedding_model = \"sentence-transformers/all-MiniLM-l6-v2\"\n",
        "embeddings_folder = \"/content/\"\n",
        "\n",
        "embeddings = HuggingFaceEmbeddings(model_name=embedding_model,\n",
        "                                   cache_folder=embeddings_folder)\n",
        "\n",
        "# vector database\n",
        "vector_db = FAISS.from_documents(docs, embeddings)\n",
        "\n",
        "memory = ConversationBufferMemory(memory_key='chat_history',\n",
        "                                  return_messages=True,\n",
        "                                  output_key='answer',  # Ensure this is 'answer'\n",
        "                                  chat_history=[],\n",
        "                                  max_history_size=1000)\n",
        "\n",
        "# prompt\n",
        "\n",
        "# Define prompt template using combined_pdf_text as context\n",
        "\n",
        "template = \"\"\"\n",
        "<s> [INST]\n",
        "You are a polite and professional question-answering AI assistant. You must provide a helpful response to the user.\n",
        "\n",
        "In your response, PLEASE ALWAYS:\n",
        "  (0) Be a detail-oriented reader: read the question and context and understand both before answering\n",
        "  (1) Start your answer with a friendly tone, and reiterate the question so the user is sure you understood it\n",
        "  (2) Provide a concise and to-the-point answer. Avoid lengthy explanations unless necessary.\n",
        "  (3) If you can't find the answer, respond with an explanation, starting with: \"I couldn't find the answer in the information I have access to\".\n",
        "  (4) Ensure your answer answers the question, is helpful, professional, and formatted to be easily readable.\n",
        "[/INST]\n",
        "[INST]\n",
        "Answer the following question using the context provided.\n",
        "The question is surrounded by the tags <q> </q>.\n",
        "The context is surrounded by the tags <c> </c>.\n",
        "<q>\n",
        "{question}\n",
        "</q>\n",
        "<c>\n",
        "{context}\n",
        "</c>\n",
        "[/INST]\n",
        "</s>\n",
        "[INST]\n",
        "Model's Opinion or Feeling:\n",
        "[INST]\n",
        "If you're asking about my opinion or feeling, please note that I am not a human. I provide responses based on the information available to me and do not have personal opinions or feelings.\n",
        "\"\"\"\n",
        "\n",
        "\n",
        "\n",
        "\n",
        "prompt = PromptTemplate(template=template,\n",
        "                        input_variables=[\"context\", \"question\"])\n",
        "\n",
        "# chain\n",
        "# chain\n",
        "chain = ConversationalRetrievalChain.from_llm(llm,\n",
        "                                              retriever=vector_db.as_retriever(search_kwargs={\"k\": 3}),\n",
        "                                              memory=memory,\n",
        "                                              return_source_documents=False,\n",
        "                                              combine_docs_chain_kwargs={\"prompt\": prompt})\n",
        "\n",
        "\n",
        "\n",
        "\n",
        "\n",
        "##### streamlit #####\n",
        "\n",
        "st.title(\"Welcome Food Lovers\")\n",
        "\n",
        "# Initialise chat history\n",
        "# Chat history saves the previous messages to be displayed\n",
        "if \"messages\" not in st.session_state:\n",
        "    st.session_state.messages = []\n",
        "\n",
        "# Display chat messages from history on app rerun\n",
        "for message in st.session_state.messages:\n",
        "    with st.chat_message(message[\"role\"]):\n",
        "        st.markdown(message[\"content\"])\n",
        "\n",
        "# React to user input\n",
        "if prompt := st.chat_input(\"What do you wanna eat today! #ConversationalRetrievalChain\"):\n",
        "\n",
        "    # Display user message in chat message container\n",
        "    st.chat_message(\"user\").markdown(prompt)\n",
        "\n",
        "    # Add user message to chat history\n",
        "    st.session_state.messages.append({\"role\": \"user\", \"content\": prompt})\n",
        "\n",
        "    # Begin spinner before answering question so it's there for the duration\n",
        "    with st.spinner(\"Going down the rabbithole for answers...\"):\n",
        "\n",
        "        # send question to chain to get answer\n",
        "        answer = chain(prompt)\n",
        "\n",
        "        # extract answer from dictionary returned by chain\n",
        "        response = answer[\"answer\"]\n",
        "\n",
        "        # Display chatbot response in chat message container\n",
        "        with st.chat_message(\"assistant\"):\n",
        "            st.markdown(answer[\"answer\"])\n",
        "\n",
        "        # Add assistant response to chat history\n",
        "        st.session_state.messages.append({\"role\": \"assistant\", \"content\": response})"
      ]
    },
    {
      "cell_type": "code",
      "execution_count": null,
      "metadata": {
        "colab": {
          "base_uri": "https://localhost:8080/"
        },
        "id": "clbjg3lPxIYm",
        "outputId": "b0a2cc1f-6c9f-4f92-df9a-9cad01dfdd44"
      },
      "outputs": [
        {
          "name": "stdout",
          "output_type": "stream",
          "text": [
            "34.82.101.238\n",
            "\u001b[K\u001b[?25hnpx: installed 22 in 3.268s\n",
            "your url is: https://cool-dots-speak.loca.lt\n"
          ]
        }
      ],
      "source": [
        "!streamlit run rag_app.py &>/content/logs.txt & npx localtunnel --port 8501 & curl ipv4.icanhazip.com"
      ]
    }
  ],
  "metadata": {
    "colab": {
      "provenance": []
    },
    "kernelspec": {
      "display_name": "Python 3",
      "name": "python3"
    },
    "language_info": {
      "name": "python"
    }
  },
  "nbformat": 4,
  "nbformat_minor": 0
}