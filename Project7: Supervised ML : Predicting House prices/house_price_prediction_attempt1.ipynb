{
  "nbformat": 4,
  "nbformat_minor": 0,
  "metadata": {
    "colab": {
      "provenance": [],
      "toc_visible": true
    },
    "kernelspec": {
      "name": "python3",
      "display_name": "Python 3"
    },
    "language_info": {
      "name": "python"
    }
  },
  "cells": [
    {
      "cell_type": "markdown",
      "source": [],
      "metadata": {
        "id": "rBNGWUHEyEjq"
      }
    },
    {
      "cell_type": "markdown",
      "source": [
        "# Import library and function and DF"
      ],
      "metadata": {
        "id": "_OpkJEJRQuNN"
      }
    },
    {
      "cell_type": "code",
      "source": [
        "pip install lazypredict"
      ],
      "metadata": {
        "colab": {
          "base_uri": "https://localhost:8080/"
        },
        "id": "Fq2stPqasmSZ",
        "outputId": "0ba4ac43-8c0d-407f-c94f-0af698f42219"
      },
      "execution_count": null,
      "outputs": [
        {
          "output_type": "stream",
          "name": "stdout",
          "text": [
            "Requirement already satisfied: lazypredict in /usr/local/lib/python3.10/dist-packages (0.2.12)\n",
            "Requirement already satisfied: click in /usr/local/lib/python3.10/dist-packages (from lazypredict) (8.1.7)\n",
            "Requirement already satisfied: scikit-learn in /usr/local/lib/python3.10/dist-packages (from lazypredict) (1.2.2)\n",
            "Requirement already satisfied: pandas in /usr/local/lib/python3.10/dist-packages (from lazypredict) (2.0.3)\n",
            "Requirement already satisfied: tqdm in /usr/local/lib/python3.10/dist-packages (from lazypredict) (4.66.2)\n",
            "Requirement already satisfied: joblib in /usr/local/lib/python3.10/dist-packages (from lazypredict) (1.3.2)\n",
            "Requirement already satisfied: lightgbm in /usr/local/lib/python3.10/dist-packages (from lazypredict) (4.1.0)\n",
            "Requirement already satisfied: xgboost in /usr/local/lib/python3.10/dist-packages (from lazypredict) (2.0.3)\n",
            "Requirement already satisfied: numpy in /usr/local/lib/python3.10/dist-packages (from lightgbm->lazypredict) (1.25.2)\n",
            "Requirement already satisfied: scipy in /usr/local/lib/python3.10/dist-packages (from lightgbm->lazypredict) (1.11.4)\n",
            "Requirement already satisfied: python-dateutil>=2.8.2 in /usr/local/lib/python3.10/dist-packages (from pandas->lazypredict) (2.8.2)\n",
            "Requirement already satisfied: pytz>=2020.1 in /usr/local/lib/python3.10/dist-packages (from pandas->lazypredict) (2023.4)\n",
            "Requirement already satisfied: tzdata>=2022.1 in /usr/local/lib/python3.10/dist-packages (from pandas->lazypredict) (2024.1)\n",
            "Requirement already satisfied: threadpoolctl>=2.0.0 in /usr/local/lib/python3.10/dist-packages (from scikit-learn->lazypredict) (3.4.0)\n",
            "Requirement already satisfied: six>=1.5 in /usr/local/lib/python3.10/dist-packages (from python-dateutil>=2.8.2->pandas->lazypredict) (1.16.0)\n"
          ]
        }
      ]
    },
    {
      "cell_type": "code",
      "source": [
        "import pandas as pd\n",
        "import seaborn as sns\n",
        "import numpy as np\n",
        "import matplotlib.pyplot as plt\n",
        "from sklearn.model_selection import train_test_split\n",
        "from sklearn.compose import ColumnTransformer\n",
        "from sklearn.preprocessing import OrdinalEncoder, StandardScaler\n",
        "from sklearn.pipeline import make_pipeline\n",
        "from sklearn.tree import DecisionTreeRegressor\n",
        "from sklearn.linear_model import LinearRegression, SGDRegressor\n",
        "from sklearn.preprocessing import StandardScaler\n",
        "from sklearn.impute import SimpleImputer\n",
        "from sklearn.pipeline import Pipeline\n",
        "from sklearn.ensemble import RandomForestRegressor\n",
        "from sklearn.metrics import mean_squared_error\n",
        "from sklearn.preprocessing import OneHotEncoder\n",
        "from lazypredict.Supervised import LazyRegressor\n",
        "from sklearn.compose import ColumnTransformer, make_column_transformer\n",
        "from sklearn.compose import make_column_selector as selector\n",
        "from sklearn.tree import DecisionTreeRegressor\n",
        "from sklearn.linear_model import LinearRegression, SGDRegressor"
      ],
      "metadata": {
        "id": "kB5sp2TtjQah"
      },
      "execution_count": null,
      "outputs": []
    },
    {
      "cell_type": "code",
      "execution_count": null,
      "metadata": {
        "colab": {
          "base_uri": "https://localhost:8080/",
          "height": 73
        },
        "id": "MPOzLuyVBZwG",
        "outputId": "f2ca6b30-c0c8-4474-c52d-f8a3a6f33aac"
      },
      "outputs": [
        {
          "output_type": "display_data",
          "data": {
            "text/plain": [
              "<IPython.core.display.HTML object>"
            ],
            "text/html": [
              "\n",
              "     <input type=\"file\" id=\"files-3be55ae0-d9f1-49af-8aad-72f384219f74\" name=\"files[]\" multiple disabled\n",
              "        style=\"border:none\" />\n",
              "     <output id=\"result-3be55ae0-d9f1-49af-8aad-72f384219f74\">\n",
              "      Upload widget is only available when the cell has been executed in the\n",
              "      current browser session. Please rerun this cell to enable.\n",
              "      </output>\n",
              "      <script>// Copyright 2017 Google LLC\n",
              "//\n",
              "// Licensed under the Apache License, Version 2.0 (the \"License\");\n",
              "// you may not use this file except in compliance with the License.\n",
              "// You may obtain a copy of the License at\n",
              "//\n",
              "//      http://www.apache.org/licenses/LICENSE-2.0\n",
              "//\n",
              "// Unless required by applicable law or agreed to in writing, software\n",
              "// distributed under the License is distributed on an \"AS IS\" BASIS,\n",
              "// WITHOUT WARRANTIES OR CONDITIONS OF ANY KIND, either express or implied.\n",
              "// See the License for the specific language governing permissions and\n",
              "// limitations under the License.\n",
              "\n",
              "/**\n",
              " * @fileoverview Helpers for google.colab Python module.\n",
              " */\n",
              "(function(scope) {\n",
              "function span(text, styleAttributes = {}) {\n",
              "  const element = document.createElement('span');\n",
              "  element.textContent = text;\n",
              "  for (const key of Object.keys(styleAttributes)) {\n",
              "    element.style[key] = styleAttributes[key];\n",
              "  }\n",
              "  return element;\n",
              "}\n",
              "\n",
              "// Max number of bytes which will be uploaded at a time.\n",
              "const MAX_PAYLOAD_SIZE = 100 * 1024;\n",
              "\n",
              "function _uploadFiles(inputId, outputId) {\n",
              "  const steps = uploadFilesStep(inputId, outputId);\n",
              "  const outputElement = document.getElementById(outputId);\n",
              "  // Cache steps on the outputElement to make it available for the next call\n",
              "  // to uploadFilesContinue from Python.\n",
              "  outputElement.steps = steps;\n",
              "\n",
              "  return _uploadFilesContinue(outputId);\n",
              "}\n",
              "\n",
              "// This is roughly an async generator (not supported in the browser yet),\n",
              "// where there are multiple asynchronous steps and the Python side is going\n",
              "// to poll for completion of each step.\n",
              "// This uses a Promise to block the python side on completion of each step,\n",
              "// then passes the result of the previous step as the input to the next step.\n",
              "function _uploadFilesContinue(outputId) {\n",
              "  const outputElement = document.getElementById(outputId);\n",
              "  const steps = outputElement.steps;\n",
              "\n",
              "  const next = steps.next(outputElement.lastPromiseValue);\n",
              "  return Promise.resolve(next.value.promise).then((value) => {\n",
              "    // Cache the last promise value to make it available to the next\n",
              "    // step of the generator.\n",
              "    outputElement.lastPromiseValue = value;\n",
              "    return next.value.response;\n",
              "  });\n",
              "}\n",
              "\n",
              "/**\n",
              " * Generator function which is called between each async step of the upload\n",
              " * process.\n",
              " * @param {string} inputId Element ID of the input file picker element.\n",
              " * @param {string} outputId Element ID of the output display.\n",
              " * @return {!Iterable<!Object>} Iterable of next steps.\n",
              " */\n",
              "function* uploadFilesStep(inputId, outputId) {\n",
              "  const inputElement = document.getElementById(inputId);\n",
              "  inputElement.disabled = false;\n",
              "\n",
              "  const outputElement = document.getElementById(outputId);\n",
              "  outputElement.innerHTML = '';\n",
              "\n",
              "  const pickedPromise = new Promise((resolve) => {\n",
              "    inputElement.addEventListener('change', (e) => {\n",
              "      resolve(e.target.files);\n",
              "    });\n",
              "  });\n",
              "\n",
              "  const cancel = document.createElement('button');\n",
              "  inputElement.parentElement.appendChild(cancel);\n",
              "  cancel.textContent = 'Cancel upload';\n",
              "  const cancelPromise = new Promise((resolve) => {\n",
              "    cancel.onclick = () => {\n",
              "      resolve(null);\n",
              "    };\n",
              "  });\n",
              "\n",
              "  // Wait for the user to pick the files.\n",
              "  const files = yield {\n",
              "    promise: Promise.race([pickedPromise, cancelPromise]),\n",
              "    response: {\n",
              "      action: 'starting',\n",
              "    }\n",
              "  };\n",
              "\n",
              "  cancel.remove();\n",
              "\n",
              "  // Disable the input element since further picks are not allowed.\n",
              "  inputElement.disabled = true;\n",
              "\n",
              "  if (!files) {\n",
              "    return {\n",
              "      response: {\n",
              "        action: 'complete',\n",
              "      }\n",
              "    };\n",
              "  }\n",
              "\n",
              "  for (const file of files) {\n",
              "    const li = document.createElement('li');\n",
              "    li.append(span(file.name, {fontWeight: 'bold'}));\n",
              "    li.append(span(\n",
              "        `(${file.type || 'n/a'}) - ${file.size} bytes, ` +\n",
              "        `last modified: ${\n",
              "            file.lastModifiedDate ? file.lastModifiedDate.toLocaleDateString() :\n",
              "                                    'n/a'} - `));\n",
              "    const percent = span('0% done');\n",
              "    li.appendChild(percent);\n",
              "\n",
              "    outputElement.appendChild(li);\n",
              "\n",
              "    const fileDataPromise = new Promise((resolve) => {\n",
              "      const reader = new FileReader();\n",
              "      reader.onload = (e) => {\n",
              "        resolve(e.target.result);\n",
              "      };\n",
              "      reader.readAsArrayBuffer(file);\n",
              "    });\n",
              "    // Wait for the data to be ready.\n",
              "    let fileData = yield {\n",
              "      promise: fileDataPromise,\n",
              "      response: {\n",
              "        action: 'continue',\n",
              "      }\n",
              "    };\n",
              "\n",
              "    // Use a chunked sending to avoid message size limits. See b/62115660.\n",
              "    let position = 0;\n",
              "    do {\n",
              "      const length = Math.min(fileData.byteLength - position, MAX_PAYLOAD_SIZE);\n",
              "      const chunk = new Uint8Array(fileData, position, length);\n",
              "      position += length;\n",
              "\n",
              "      const base64 = btoa(String.fromCharCode.apply(null, chunk));\n",
              "      yield {\n",
              "        response: {\n",
              "          action: 'append',\n",
              "          file: file.name,\n",
              "          data: base64,\n",
              "        },\n",
              "      };\n",
              "\n",
              "      let percentDone = fileData.byteLength === 0 ?\n",
              "          100 :\n",
              "          Math.round((position / fileData.byteLength) * 100);\n",
              "      percent.textContent = `${percentDone}% done`;\n",
              "\n",
              "    } while (position < fileData.byteLength);\n",
              "  }\n",
              "\n",
              "  // All done.\n",
              "  yield {\n",
              "    response: {\n",
              "      action: 'complete',\n",
              "    }\n",
              "  };\n",
              "}\n",
              "\n",
              "scope.google = scope.google || {};\n",
              "scope.google.colab = scope.google.colab || {};\n",
              "scope.google.colab._files = {\n",
              "  _uploadFiles,\n",
              "  _uploadFilesContinue,\n",
              "};\n",
              "})(self);\n",
              "</script> "
            ]
          },
          "metadata": {}
        },
        {
          "output_type": "stream",
          "name": "stdout",
          "text": [
            "Saving housing_iteration_6_regression.csv to housing_iteration_6_regression (2).csv\n"
          ]
        }
      ],
      "source": [
        "import pandas as pd\n",
        "from google.colab import files\n",
        "\n",
        "# Upload the CSV file\n",
        "uploaded = files.upload()\n",
        "\n",
        "# Get the filename\n",
        "filename = next(iter(uploaded))\n",
        "\n",
        "# Read the CSV file into a DataFrame\n",
        "house_data_df = pd.read_csv(filename)"
      ]
    },
    {
      "cell_type": "markdown",
      "source": [
        "# Data Cleaning"
      ],
      "metadata": {
        "id": "GUT1YMwbQ7ua"
      }
    },
    {
      "cell_type": "code",
      "source": [
        "house_data_df= house_data_df.drop_duplicates()"
      ],
      "metadata": {
        "id": "IgDgBTibO2cB"
      },
      "execution_count": null,
      "outputs": []
    },
    {
      "cell_type": "code",
      "source": [
        "house_df = house_data_df.copy()"
      ],
      "metadata": {
        "id": "WTMpbde0-uFA"
      },
      "execution_count": null,
      "outputs": []
    },
    {
      "cell_type": "code",
      "source": [
        "house_df = house_df.rename(columns=lambda x: x.strip())"
      ],
      "metadata": {
        "id": "A6OLs5B4XlBC"
      },
      "execution_count": null,
      "outputs": []
    },
    {
      "cell_type": "code",
      "source": [
        "pd.set_option('display.max_colwidth', 1000)"
      ],
      "metadata": {
        "id": "k4d7XX9NLklV"
      },
      "execution_count": null,
      "outputs": []
    },
    {
      "cell_type": "code",
      "source": [
        "#columns_to_drop = [\"Id\",\"Alley\", \"MasVnrType\", \"FireplaceQu\", \"PoolQC\", \"Fence\", \"MiscFeature\"]\n",
        "#columns_to_drop = [\"Id\"]\n",
        "#house_df = house_df.drop(columns=columns_to_drop)\n"
      ],
      "metadata": {
        "id": "8Bub1GCdK4jF"
      },
      "execution_count": null,
      "outputs": []
    },
    {
      "cell_type": "code",
      "source": [
        "house_data_df.info()"
      ],
      "metadata": {
        "id": "95uAFrG7_Cmh",
        "colab": {
          "base_uri": "https://localhost:8080/"
        },
        "outputId": "c87714e0-34c0-4458-84b7-cb69fcb17fc1"
      },
      "execution_count": null,
      "outputs": [
        {
          "output_type": "stream",
          "name": "stdout",
          "text": [
            "<class 'pandas.core.frame.DataFrame'>\n",
            "RangeIndex: 1460 entries, 0 to 1459\n",
            "Data columns (total 81 columns):\n",
            " #   Column         Non-Null Count  Dtype  \n",
            "---  ------         --------------  -----  \n",
            " 0   Id             1460 non-null   int64  \n",
            " 1   MSSubClass     1460 non-null   int64  \n",
            " 2   MSZoning       1460 non-null   object \n",
            " 3   LotFrontage    1201 non-null   float64\n",
            " 4   LotArea        1460 non-null   int64  \n",
            " 5   Street         1460 non-null   object \n",
            " 6   Alley          91 non-null     object \n",
            " 7   LotShape       1460 non-null   object \n",
            " 8   LandContour    1460 non-null   object \n",
            " 9   Utilities      1460 non-null   object \n",
            " 10  LotConfig      1460 non-null   object \n",
            " 11  LandSlope      1460 non-null   object \n",
            " 12  Neighborhood   1460 non-null   object \n",
            " 13  Condition1     1460 non-null   object \n",
            " 14  Condition2     1460 non-null   object \n",
            " 15  BldgType       1460 non-null   object \n",
            " 16  HouseStyle     1460 non-null   object \n",
            " 17  OverallQual    1460 non-null   int64  \n",
            " 18  OverallCond    1460 non-null   int64  \n",
            " 19  YearBuilt      1460 non-null   int64  \n",
            " 20  YearRemodAdd   1460 non-null   int64  \n",
            " 21  RoofStyle      1460 non-null   object \n",
            " 22  RoofMatl       1460 non-null   object \n",
            " 23  Exterior1st    1460 non-null   object \n",
            " 24  Exterior2nd    1460 non-null   object \n",
            " 25  MasVnrType     588 non-null    object \n",
            " 26  MasVnrArea     1452 non-null   float64\n",
            " 27  ExterQual      1460 non-null   object \n",
            " 28  ExterCond      1460 non-null   object \n",
            " 29  Foundation     1460 non-null   object \n",
            " 30  BsmtQual       1423 non-null   object \n",
            " 31  BsmtCond       1423 non-null   object \n",
            " 32  BsmtExposure   1422 non-null   object \n",
            " 33  BsmtFinType1   1423 non-null   object \n",
            " 34  BsmtFinSF1     1460 non-null   int64  \n",
            " 35  BsmtFinType2   1422 non-null   object \n",
            " 36  BsmtFinSF2     1460 non-null   int64  \n",
            " 37  BsmtUnfSF      1460 non-null   int64  \n",
            " 38  TotalBsmtSF    1460 non-null   int64  \n",
            " 39  Heating        1460 non-null   object \n",
            " 40  HeatingQC      1460 non-null   object \n",
            " 41  CentralAir     1460 non-null   object \n",
            " 42  Electrical     1459 non-null   object \n",
            " 43  1stFlrSF       1460 non-null   int64  \n",
            " 44  2ndFlrSF       1460 non-null   int64  \n",
            " 45  LowQualFinSF   1460 non-null   int64  \n",
            " 46  GrLivArea      1460 non-null   int64  \n",
            " 47  BsmtFullBath   1460 non-null   int64  \n",
            " 48  BsmtHalfBath   1460 non-null   int64  \n",
            " 49  FullBath       1460 non-null   int64  \n",
            " 50  HalfBath       1460 non-null   int64  \n",
            " 51  BedroomAbvGr   1460 non-null   int64  \n",
            " 52  KitchenAbvGr   1460 non-null   int64  \n",
            " 53  KitchenQual    1460 non-null   object \n",
            " 54  TotRmsAbvGrd   1460 non-null   int64  \n",
            " 55  Functional     1460 non-null   object \n",
            " 56  Fireplaces     1460 non-null   int64  \n",
            " 57  FireplaceQu    770 non-null    object \n",
            " 58  GarageType     1379 non-null   object \n",
            " 59  GarageYrBlt    1379 non-null   float64\n",
            " 60  GarageFinish   1379 non-null   object \n",
            " 61  GarageCars     1460 non-null   int64  \n",
            " 62  GarageArea     1460 non-null   int64  \n",
            " 63  GarageQual     1379 non-null   object \n",
            " 64  GarageCond     1379 non-null   object \n",
            " 65  PavedDrive     1460 non-null   object \n",
            " 66  WoodDeckSF     1460 non-null   int64  \n",
            " 67  OpenPorchSF    1460 non-null   int64  \n",
            " 68  EnclosedPorch  1460 non-null   int64  \n",
            " 69  3SsnPorch      1460 non-null   int64  \n",
            " 70  ScreenPorch    1460 non-null   int64  \n",
            " 71  PoolArea       1460 non-null   int64  \n",
            " 72  PoolQC         7 non-null      object \n",
            " 73  Fence          281 non-null    object \n",
            " 74  MiscFeature    54 non-null     object \n",
            " 75  MiscVal        1460 non-null   int64  \n",
            " 76  MoSold         1460 non-null   int64  \n",
            " 77  YrSold         1460 non-null   int64  \n",
            " 78  SaleType       1460 non-null   object \n",
            " 79  SaleCondition  1460 non-null   object \n",
            " 80  SalePrice      1460 non-null   int64  \n",
            "dtypes: float64(3), int64(35), object(43)\n",
            "memory usage: 924.0+ KB\n"
          ]
        }
      ]
    },
    {
      "cell_type": "code",
      "source": [
        "house_df[\"SalePrice\"]"
      ],
      "metadata": {
        "id": "YiB1f935jez3",
        "colab": {
          "base_uri": "https://localhost:8080/"
        },
        "outputId": "773c0508-6f16-4beb-b990-4593fd33744e"
      },
      "execution_count": null,
      "outputs": [
        {
          "output_type": "execute_result",
          "data": {
            "text/plain": [
              "0       208500\n",
              "1       181500\n",
              "2       223500\n",
              "3       140000\n",
              "4       250000\n",
              "         ...  \n",
              "1455    175000\n",
              "1456    210000\n",
              "1457    266500\n",
              "1458    142125\n",
              "1459    147500\n",
              "Name: SalePrice, Length: 1460, dtype: int64"
            ]
          },
          "metadata": {},
          "execution_count": 53
        }
      ]
    },
    {
      "cell_type": "code",
      "source": [
        "house_df.sample(10)"
      ],
      "metadata": {
        "id": "mwVyr7xrl4mt",
        "colab": {
          "base_uri": "https://localhost:8080/",
          "height": 412
        },
        "outputId": "749d7e89-7760-4a05-974b-70d5bf9da859"
      },
      "execution_count": null,
      "outputs": [
        {
          "output_type": "execute_result",
          "data": {
            "text/plain": [
              "        Id  MSSubClass MSZoning  LotFrontage  LotArea Street Alley LotShape  \\\n",
              "576    577          50       RL        52.00     6292   Pave   NaN      Reg   \n",
              "742    743          20       RL        65.00     8450   Pave   NaN      Reg   \n",
              "156    157          20       RL        60.00     7200   Pave   NaN      Reg   \n",
              "44      45          20       RL        70.00     7945   Pave   NaN      Reg   \n",
              "1284  1285          50       RL        50.00     9638   Pave   NaN      Reg   \n",
              "914    915         160       FV        30.00     3000   Pave  Pave      Reg   \n",
              "520    521         190       RL        60.00    10800   Pave  Grvl      Reg   \n",
              "1099  1100          20       RL        82.00    11880   Pave   NaN      IR1   \n",
              "990    991          60       RL        82.00     9452   Pave   NaN      Reg   \n",
              "290    291          60       RL       120.00    15611   Pave   NaN      Reg   \n",
              "\n",
              "     LandContour Utilities  ... PoolArea PoolQC  Fence MiscFeature MiscVal  \\\n",
              "576          Lvl    AllPub  ...        0    NaN    NaN         NaN       0   \n",
              "742          Lvl    AllPub  ...        0    NaN  GdPrv         NaN       0   \n",
              "156          Lvl    AllPub  ...        0    NaN    NaN         NaN       0   \n",
              "44           Lvl    AllPub  ...        0    NaN    NaN         NaN       0   \n",
              "1284         Lvl    AllPub  ...        0    NaN    NaN         NaN       0   \n",
              "914          Lvl    AllPub  ...        0    NaN    NaN         NaN       0   \n",
              "520          Lvl    AllPub  ...        0    NaN    NaN         NaN       0   \n",
              "1099         Lvl    AllPub  ...        0    NaN    NaN         NaN       0   \n",
              "990          Lvl    AllPub  ...        0    NaN    NaN         NaN       0   \n",
              "290          Lvl    AllPub  ...        0    NaN    NaN         NaN       0   \n",
              "\n",
              "     MoSold YrSold  SaleType  SaleCondition  SalePrice  \n",
              "576       8   2009        WD         Normal     145000  \n",
              "742      12   2007        WD         Normal     179000  \n",
              "156       6   2006        WD         Normal     109500  \n",
              "44        5   2006        WD         Normal     141000  \n",
              "1284      3   2010        WD         Normal     169000  \n",
              "914       6   2009       New        Partial     173733  \n",
              "520       8   2008        WD         Normal     106250  \n",
              "1099      4   2009       COD        Abnorml     157000  \n",
              "990       6   2006        WD         Normal     348000  \n",
              "290       7   2006       New        Partial     233230  \n",
              "\n",
              "[10 rows x 81 columns]"
            ],
            "text/html": [
              "\n",
              "  <div id=\"df-9cdbe878-af23-4d73-badc-1972a4726b85\" class=\"colab-df-container\">\n",
              "    <div>\n",
              "<style scoped>\n",
              "    .dataframe tbody tr th:only-of-type {\n",
              "        vertical-align: middle;\n",
              "    }\n",
              "\n",
              "    .dataframe tbody tr th {\n",
              "        vertical-align: top;\n",
              "    }\n",
              "\n",
              "    .dataframe thead th {\n",
              "        text-align: right;\n",
              "    }\n",
              "</style>\n",
              "<table border=\"1\" class=\"dataframe\">\n",
              "  <thead>\n",
              "    <tr style=\"text-align: right;\">\n",
              "      <th></th>\n",
              "      <th>Id</th>\n",
              "      <th>MSSubClass</th>\n",
              "      <th>MSZoning</th>\n",
              "      <th>LotFrontage</th>\n",
              "      <th>LotArea</th>\n",
              "      <th>Street</th>\n",
              "      <th>Alley</th>\n",
              "      <th>LotShape</th>\n",
              "      <th>LandContour</th>\n",
              "      <th>Utilities</th>\n",
              "      <th>...</th>\n",
              "      <th>PoolArea</th>\n",
              "      <th>PoolQC</th>\n",
              "      <th>Fence</th>\n",
              "      <th>MiscFeature</th>\n",
              "      <th>MiscVal</th>\n",
              "      <th>MoSold</th>\n",
              "      <th>YrSold</th>\n",
              "      <th>SaleType</th>\n",
              "      <th>SaleCondition</th>\n",
              "      <th>SalePrice</th>\n",
              "    </tr>\n",
              "  </thead>\n",
              "  <tbody>\n",
              "    <tr>\n",
              "      <th>576</th>\n",
              "      <td>577</td>\n",
              "      <td>50</td>\n",
              "      <td>RL</td>\n",
              "      <td>52.00</td>\n",
              "      <td>6292</td>\n",
              "      <td>Pave</td>\n",
              "      <td>NaN</td>\n",
              "      <td>Reg</td>\n",
              "      <td>Lvl</td>\n",
              "      <td>AllPub</td>\n",
              "      <td>...</td>\n",
              "      <td>0</td>\n",
              "      <td>NaN</td>\n",
              "      <td>NaN</td>\n",
              "      <td>NaN</td>\n",
              "      <td>0</td>\n",
              "      <td>8</td>\n",
              "      <td>2009</td>\n",
              "      <td>WD</td>\n",
              "      <td>Normal</td>\n",
              "      <td>145000</td>\n",
              "    </tr>\n",
              "    <tr>\n",
              "      <th>742</th>\n",
              "      <td>743</td>\n",
              "      <td>20</td>\n",
              "      <td>RL</td>\n",
              "      <td>65.00</td>\n",
              "      <td>8450</td>\n",
              "      <td>Pave</td>\n",
              "      <td>NaN</td>\n",
              "      <td>Reg</td>\n",
              "      <td>Lvl</td>\n",
              "      <td>AllPub</td>\n",
              "      <td>...</td>\n",
              "      <td>0</td>\n",
              "      <td>NaN</td>\n",
              "      <td>GdPrv</td>\n",
              "      <td>NaN</td>\n",
              "      <td>0</td>\n",
              "      <td>12</td>\n",
              "      <td>2007</td>\n",
              "      <td>WD</td>\n",
              "      <td>Normal</td>\n",
              "      <td>179000</td>\n",
              "    </tr>\n",
              "    <tr>\n",
              "      <th>156</th>\n",
              "      <td>157</td>\n",
              "      <td>20</td>\n",
              "      <td>RL</td>\n",
              "      <td>60.00</td>\n",
              "      <td>7200</td>\n",
              "      <td>Pave</td>\n",
              "      <td>NaN</td>\n",
              "      <td>Reg</td>\n",
              "      <td>Lvl</td>\n",
              "      <td>AllPub</td>\n",
              "      <td>...</td>\n",
              "      <td>0</td>\n",
              "      <td>NaN</td>\n",
              "      <td>NaN</td>\n",
              "      <td>NaN</td>\n",
              "      <td>0</td>\n",
              "      <td>6</td>\n",
              "      <td>2006</td>\n",
              "      <td>WD</td>\n",
              "      <td>Normal</td>\n",
              "      <td>109500</td>\n",
              "    </tr>\n",
              "    <tr>\n",
              "      <th>44</th>\n",
              "      <td>45</td>\n",
              "      <td>20</td>\n",
              "      <td>RL</td>\n",
              "      <td>70.00</td>\n",
              "      <td>7945</td>\n",
              "      <td>Pave</td>\n",
              "      <td>NaN</td>\n",
              "      <td>Reg</td>\n",
              "      <td>Lvl</td>\n",
              "      <td>AllPub</td>\n",
              "      <td>...</td>\n",
              "      <td>0</td>\n",
              "      <td>NaN</td>\n",
              "      <td>NaN</td>\n",
              "      <td>NaN</td>\n",
              "      <td>0</td>\n",
              "      <td>5</td>\n",
              "      <td>2006</td>\n",
              "      <td>WD</td>\n",
              "      <td>Normal</td>\n",
              "      <td>141000</td>\n",
              "    </tr>\n",
              "    <tr>\n",
              "      <th>1284</th>\n",
              "      <td>1285</td>\n",
              "      <td>50</td>\n",
              "      <td>RL</td>\n",
              "      <td>50.00</td>\n",
              "      <td>9638</td>\n",
              "      <td>Pave</td>\n",
              "      <td>NaN</td>\n",
              "      <td>Reg</td>\n",
              "      <td>Lvl</td>\n",
              "      <td>AllPub</td>\n",
              "      <td>...</td>\n",
              "      <td>0</td>\n",
              "      <td>NaN</td>\n",
              "      <td>NaN</td>\n",
              "      <td>NaN</td>\n",
              "      <td>0</td>\n",
              "      <td>3</td>\n",
              "      <td>2010</td>\n",
              "      <td>WD</td>\n",
              "      <td>Normal</td>\n",
              "      <td>169000</td>\n",
              "    </tr>\n",
              "    <tr>\n",
              "      <th>914</th>\n",
              "      <td>915</td>\n",
              "      <td>160</td>\n",
              "      <td>FV</td>\n",
              "      <td>30.00</td>\n",
              "      <td>3000</td>\n",
              "      <td>Pave</td>\n",
              "      <td>Pave</td>\n",
              "      <td>Reg</td>\n",
              "      <td>Lvl</td>\n",
              "      <td>AllPub</td>\n",
              "      <td>...</td>\n",
              "      <td>0</td>\n",
              "      <td>NaN</td>\n",
              "      <td>NaN</td>\n",
              "      <td>NaN</td>\n",
              "      <td>0</td>\n",
              "      <td>6</td>\n",
              "      <td>2009</td>\n",
              "      <td>New</td>\n",
              "      <td>Partial</td>\n",
              "      <td>173733</td>\n",
              "    </tr>\n",
              "    <tr>\n",
              "      <th>520</th>\n",
              "      <td>521</td>\n",
              "      <td>190</td>\n",
              "      <td>RL</td>\n",
              "      <td>60.00</td>\n",
              "      <td>10800</td>\n",
              "      <td>Pave</td>\n",
              "      <td>Grvl</td>\n",
              "      <td>Reg</td>\n",
              "      <td>Lvl</td>\n",
              "      <td>AllPub</td>\n",
              "      <td>...</td>\n",
              "      <td>0</td>\n",
              "      <td>NaN</td>\n",
              "      <td>NaN</td>\n",
              "      <td>NaN</td>\n",
              "      <td>0</td>\n",
              "      <td>8</td>\n",
              "      <td>2008</td>\n",
              "      <td>WD</td>\n",
              "      <td>Normal</td>\n",
              "      <td>106250</td>\n",
              "    </tr>\n",
              "    <tr>\n",
              "      <th>1099</th>\n",
              "      <td>1100</td>\n",
              "      <td>20</td>\n",
              "      <td>RL</td>\n",
              "      <td>82.00</td>\n",
              "      <td>11880</td>\n",
              "      <td>Pave</td>\n",
              "      <td>NaN</td>\n",
              "      <td>IR1</td>\n",
              "      <td>Lvl</td>\n",
              "      <td>AllPub</td>\n",
              "      <td>...</td>\n",
              "      <td>0</td>\n",
              "      <td>NaN</td>\n",
              "      <td>NaN</td>\n",
              "      <td>NaN</td>\n",
              "      <td>0</td>\n",
              "      <td>4</td>\n",
              "      <td>2009</td>\n",
              "      <td>COD</td>\n",
              "      <td>Abnorml</td>\n",
              "      <td>157000</td>\n",
              "    </tr>\n",
              "    <tr>\n",
              "      <th>990</th>\n",
              "      <td>991</td>\n",
              "      <td>60</td>\n",
              "      <td>RL</td>\n",
              "      <td>82.00</td>\n",
              "      <td>9452</td>\n",
              "      <td>Pave</td>\n",
              "      <td>NaN</td>\n",
              "      <td>Reg</td>\n",
              "      <td>Lvl</td>\n",
              "      <td>AllPub</td>\n",
              "      <td>...</td>\n",
              "      <td>0</td>\n",
              "      <td>NaN</td>\n",
              "      <td>NaN</td>\n",
              "      <td>NaN</td>\n",
              "      <td>0</td>\n",
              "      <td>6</td>\n",
              "      <td>2006</td>\n",
              "      <td>WD</td>\n",
              "      <td>Normal</td>\n",
              "      <td>348000</td>\n",
              "    </tr>\n",
              "    <tr>\n",
              "      <th>290</th>\n",
              "      <td>291</td>\n",
              "      <td>60</td>\n",
              "      <td>RL</td>\n",
              "      <td>120.00</td>\n",
              "      <td>15611</td>\n",
              "      <td>Pave</td>\n",
              "      <td>NaN</td>\n",
              "      <td>Reg</td>\n",
              "      <td>Lvl</td>\n",
              "      <td>AllPub</td>\n",
              "      <td>...</td>\n",
              "      <td>0</td>\n",
              "      <td>NaN</td>\n",
              "      <td>NaN</td>\n",
              "      <td>NaN</td>\n",
              "      <td>0</td>\n",
              "      <td>7</td>\n",
              "      <td>2006</td>\n",
              "      <td>New</td>\n",
              "      <td>Partial</td>\n",
              "      <td>233230</td>\n",
              "    </tr>\n",
              "  </tbody>\n",
              "</table>\n",
              "<p>10 rows × 81 columns</p>\n",
              "</div>\n",
              "    <div class=\"colab-df-buttons\">\n",
              "\n",
              "  <div class=\"colab-df-container\">\n",
              "    <button class=\"colab-df-convert\" onclick=\"convertToInteractive('df-9cdbe878-af23-4d73-badc-1972a4726b85')\"\n",
              "            title=\"Convert this dataframe to an interactive table.\"\n",
              "            style=\"display:none;\">\n",
              "\n",
              "  <svg xmlns=\"http://www.w3.org/2000/svg\" height=\"24px\" viewBox=\"0 -960 960 960\">\n",
              "    <path d=\"M120-120v-720h720v720H120Zm60-500h600v-160H180v160Zm220 220h160v-160H400v160Zm0 220h160v-160H400v160ZM180-400h160v-160H180v160Zm440 0h160v-160H620v160ZM180-180h160v-160H180v160Zm440 0h160v-160H620v160Z\"/>\n",
              "  </svg>\n",
              "    </button>\n",
              "\n",
              "  <style>\n",
              "    .colab-df-container {\n",
              "      display:flex;\n",
              "      gap: 12px;\n",
              "    }\n",
              "\n",
              "    .colab-df-convert {\n",
              "      background-color: #E8F0FE;\n",
              "      border: none;\n",
              "      border-radius: 50%;\n",
              "      cursor: pointer;\n",
              "      display: none;\n",
              "      fill: #1967D2;\n",
              "      height: 32px;\n",
              "      padding: 0 0 0 0;\n",
              "      width: 32px;\n",
              "    }\n",
              "\n",
              "    .colab-df-convert:hover {\n",
              "      background-color: #E2EBFA;\n",
              "      box-shadow: 0px 1px 2px rgba(60, 64, 67, 0.3), 0px 1px 3px 1px rgba(60, 64, 67, 0.15);\n",
              "      fill: #174EA6;\n",
              "    }\n",
              "\n",
              "    .colab-df-buttons div {\n",
              "      margin-bottom: 4px;\n",
              "    }\n",
              "\n",
              "    [theme=dark] .colab-df-convert {\n",
              "      background-color: #3B4455;\n",
              "      fill: #D2E3FC;\n",
              "    }\n",
              "\n",
              "    [theme=dark] .colab-df-convert:hover {\n",
              "      background-color: #434B5C;\n",
              "      box-shadow: 0px 1px 3px 1px rgba(0, 0, 0, 0.15);\n",
              "      filter: drop-shadow(0px 1px 2px rgba(0, 0, 0, 0.3));\n",
              "      fill: #FFFFFF;\n",
              "    }\n",
              "  </style>\n",
              "\n",
              "    <script>\n",
              "      const buttonEl =\n",
              "        document.querySelector('#df-9cdbe878-af23-4d73-badc-1972a4726b85 button.colab-df-convert');\n",
              "      buttonEl.style.display =\n",
              "        google.colab.kernel.accessAllowed ? 'block' : 'none';\n",
              "\n",
              "      async function convertToInteractive(key) {\n",
              "        const element = document.querySelector('#df-9cdbe878-af23-4d73-badc-1972a4726b85');\n",
              "        const dataTable =\n",
              "          await google.colab.kernel.invokeFunction('convertToInteractive',\n",
              "                                                    [key], {});\n",
              "        if (!dataTable) return;\n",
              "\n",
              "        const docLinkHtml = 'Like what you see? Visit the ' +\n",
              "          '<a target=\"_blank\" href=https://colab.research.google.com/notebooks/data_table.ipynb>data table notebook</a>'\n",
              "          + ' to learn more about interactive tables.';\n",
              "        element.innerHTML = '';\n",
              "        dataTable['output_type'] = 'display_data';\n",
              "        await google.colab.output.renderOutput(dataTable, element);\n",
              "        const docLink = document.createElement('div');\n",
              "        docLink.innerHTML = docLinkHtml;\n",
              "        element.appendChild(docLink);\n",
              "      }\n",
              "    </script>\n",
              "  </div>\n",
              "\n",
              "\n",
              "<div id=\"df-1a411c68-4e9f-4b8b-8889-0fd6e3c5e16b\">\n",
              "  <button class=\"colab-df-quickchart\" onclick=\"quickchart('df-1a411c68-4e9f-4b8b-8889-0fd6e3c5e16b')\"\n",
              "            title=\"Suggest charts\"\n",
              "            style=\"display:none;\">\n",
              "\n",
              "<svg xmlns=\"http://www.w3.org/2000/svg\" height=\"24px\"viewBox=\"0 0 24 24\"\n",
              "     width=\"24px\">\n",
              "    <g>\n",
              "        <path d=\"M19 3H5c-1.1 0-2 .9-2 2v14c0 1.1.9 2 2 2h14c1.1 0 2-.9 2-2V5c0-1.1-.9-2-2-2zM9 17H7v-7h2v7zm4 0h-2V7h2v10zm4 0h-2v-4h2v4z\"/>\n",
              "    </g>\n",
              "</svg>\n",
              "  </button>\n",
              "\n",
              "<style>\n",
              "  .colab-df-quickchart {\n",
              "      --bg-color: #E8F0FE;\n",
              "      --fill-color: #1967D2;\n",
              "      --hover-bg-color: #E2EBFA;\n",
              "      --hover-fill-color: #174EA6;\n",
              "      --disabled-fill-color: #AAA;\n",
              "      --disabled-bg-color: #DDD;\n",
              "  }\n",
              "\n",
              "  [theme=dark] .colab-df-quickchart {\n",
              "      --bg-color: #3B4455;\n",
              "      --fill-color: #D2E3FC;\n",
              "      --hover-bg-color: #434B5C;\n",
              "      --hover-fill-color: #FFFFFF;\n",
              "      --disabled-bg-color: #3B4455;\n",
              "      --disabled-fill-color: #666;\n",
              "  }\n",
              "\n",
              "  .colab-df-quickchart {\n",
              "    background-color: var(--bg-color);\n",
              "    border: none;\n",
              "    border-radius: 50%;\n",
              "    cursor: pointer;\n",
              "    display: none;\n",
              "    fill: var(--fill-color);\n",
              "    height: 32px;\n",
              "    padding: 0;\n",
              "    width: 32px;\n",
              "  }\n",
              "\n",
              "  .colab-df-quickchart:hover {\n",
              "    background-color: var(--hover-bg-color);\n",
              "    box-shadow: 0 1px 2px rgba(60, 64, 67, 0.3), 0 1px 3px 1px rgba(60, 64, 67, 0.15);\n",
              "    fill: var(--button-hover-fill-color);\n",
              "  }\n",
              "\n",
              "  .colab-df-quickchart-complete:disabled,\n",
              "  .colab-df-quickchart-complete:disabled:hover {\n",
              "    background-color: var(--disabled-bg-color);\n",
              "    fill: var(--disabled-fill-color);\n",
              "    box-shadow: none;\n",
              "  }\n",
              "\n",
              "  .colab-df-spinner {\n",
              "    border: 2px solid var(--fill-color);\n",
              "    border-color: transparent;\n",
              "    border-bottom-color: var(--fill-color);\n",
              "    animation:\n",
              "      spin 1s steps(1) infinite;\n",
              "  }\n",
              "\n",
              "  @keyframes spin {\n",
              "    0% {\n",
              "      border-color: transparent;\n",
              "      border-bottom-color: var(--fill-color);\n",
              "      border-left-color: var(--fill-color);\n",
              "    }\n",
              "    20% {\n",
              "      border-color: transparent;\n",
              "      border-left-color: var(--fill-color);\n",
              "      border-top-color: var(--fill-color);\n",
              "    }\n",
              "    30% {\n",
              "      border-color: transparent;\n",
              "      border-left-color: var(--fill-color);\n",
              "      border-top-color: var(--fill-color);\n",
              "      border-right-color: var(--fill-color);\n",
              "    }\n",
              "    40% {\n",
              "      border-color: transparent;\n",
              "      border-right-color: var(--fill-color);\n",
              "      border-top-color: var(--fill-color);\n",
              "    }\n",
              "    60% {\n",
              "      border-color: transparent;\n",
              "      border-right-color: var(--fill-color);\n",
              "    }\n",
              "    80% {\n",
              "      border-color: transparent;\n",
              "      border-right-color: var(--fill-color);\n",
              "      border-bottom-color: var(--fill-color);\n",
              "    }\n",
              "    90% {\n",
              "      border-color: transparent;\n",
              "      border-bottom-color: var(--fill-color);\n",
              "    }\n",
              "  }\n",
              "</style>\n",
              "\n",
              "  <script>\n",
              "    async function quickchart(key) {\n",
              "      const quickchartButtonEl =\n",
              "        document.querySelector('#' + key + ' button');\n",
              "      quickchartButtonEl.disabled = true;  // To prevent multiple clicks.\n",
              "      quickchartButtonEl.classList.add('colab-df-spinner');\n",
              "      try {\n",
              "        const charts = await google.colab.kernel.invokeFunction(\n",
              "            'suggestCharts', [key], {});\n",
              "      } catch (error) {\n",
              "        console.error('Error during call to suggestCharts:', error);\n",
              "      }\n",
              "      quickchartButtonEl.classList.remove('colab-df-spinner');\n",
              "      quickchartButtonEl.classList.add('colab-df-quickchart-complete');\n",
              "    }\n",
              "    (() => {\n",
              "      let quickchartButtonEl =\n",
              "        document.querySelector('#df-1a411c68-4e9f-4b8b-8889-0fd6e3c5e16b button');\n",
              "      quickchartButtonEl.style.display =\n",
              "        google.colab.kernel.accessAllowed ? 'block' : 'none';\n",
              "    })();\n",
              "  </script>\n",
              "</div>\n",
              "    </div>\n",
              "  </div>\n"
            ],
            "application/vnd.google.colaboratory.intrinsic+json": {
              "type": "dataframe"
            }
          },
          "metadata": {},
          "execution_count": 54
        }
      ]
    },
    {
      "cell_type": "code",
      "source": [
        "house_df.columns"
      ],
      "metadata": {
        "id": "7uElR3jZtyGA",
        "colab": {
          "base_uri": "https://localhost:8080/"
        },
        "outputId": "4c5756ef-862c-49c6-86e2-15dd73380781"
      },
      "execution_count": null,
      "outputs": [
        {
          "output_type": "execute_result",
          "data": {
            "text/plain": [
              "Index(['Id', 'MSSubClass', 'MSZoning', 'LotFrontage', 'LotArea', 'Street',\n",
              "       'Alley', 'LotShape', 'LandContour', 'Utilities', 'LotConfig',\n",
              "       'LandSlope', 'Neighborhood', 'Condition1', 'Condition2', 'BldgType',\n",
              "       'HouseStyle', 'OverallQual', 'OverallCond', 'YearBuilt', 'YearRemodAdd',\n",
              "       'RoofStyle', 'RoofMatl', 'Exterior1st', 'Exterior2nd', 'MasVnrType',\n",
              "       'MasVnrArea', 'ExterQual', 'ExterCond', 'Foundation', 'BsmtQual',\n",
              "       'BsmtCond', 'BsmtExposure', 'BsmtFinType1', 'BsmtFinSF1',\n",
              "       'BsmtFinType2', 'BsmtFinSF2', 'BsmtUnfSF', 'TotalBsmtSF', 'Heating',\n",
              "       'HeatingQC', 'CentralAir', 'Electrical', '1stFlrSF', '2ndFlrSF',\n",
              "       'LowQualFinSF', 'GrLivArea', 'BsmtFullBath', 'BsmtHalfBath', 'FullBath',\n",
              "       'HalfBath', 'BedroomAbvGr', 'KitchenAbvGr', 'KitchenQual',\n",
              "       'TotRmsAbvGrd', 'Functional', 'Fireplaces', 'FireplaceQu', 'GarageType',\n",
              "       'GarageYrBlt', 'GarageFinish', 'GarageCars', 'GarageArea', 'GarageQual',\n",
              "       'GarageCond', 'PavedDrive', 'WoodDeckSF', 'OpenPorchSF',\n",
              "       'EnclosedPorch', '3SsnPorch', 'ScreenPorch', 'PoolArea', 'PoolQC',\n",
              "       'Fence', 'MiscFeature', 'MiscVal', 'MoSold', 'YrSold', 'SaleType',\n",
              "       'SaleCondition', 'SalePrice'],\n",
              "      dtype='object')"
            ]
          },
          "metadata": {},
          "execution_count": 55
        }
      ]
    },
    {
      "cell_type": "code",
      "source": [
        "house_data_df.isna().sum().sample(10)"
      ],
      "metadata": {
        "colab": {
          "base_uri": "https://localhost:8080/"
        },
        "id": "tPTP3nEdO_-V",
        "outputId": "59db9a55-5147-41b1-8d23-8d8d18e5eabc"
      },
      "execution_count": null,
      "outputs": [
        {
          "output_type": "execute_result",
          "data": {
            "text/plain": [
              "LotFrontage      259\n",
              "ExterCond          0\n",
              "SaleType           0\n",
              "Electrical         1\n",
              "BsmtHalfBath       0\n",
              "GarageCars         0\n",
              "LandSlope          0\n",
              "BsmtQual          37\n",
              "FireplaceQu      690\n",
              "Alley           1369\n",
              "dtype: int64"
            ]
          },
          "metadata": {},
          "execution_count": 56
        }
      ]
    },
    {
      "cell_type": "markdown",
      "source": [
        "# Split the data"
      ],
      "metadata": {
        "id": "XUq-wZiMQpex"
      }
    },
    {
      "cell_type": "code",
      "source": [
        "# Create our feature vector\n",
        "X = house_df.drop(columns=[\"Id\"]).copy()\n",
        "\n",
        "# Target feature\n",
        "y = X.pop(\"SalePrice\")\n",
        "\n",
        "# Train test split\n",
        "X_train, X_test, y_train, y_test = train_test_split(X, y, test_size=0.2, random_state=42)\n",
        "\n",
        "# Splitting categorical & numerical\n",
        "\n"
      ],
      "metadata": {
        "id": "Ml0q9RNjRBoE"
      },
      "execution_count": null,
      "outputs": []
    },
    {
      "cell_type": "code",
      "source": [
        "house_df[\"SalePrice\"]"
      ],
      "metadata": {
        "colab": {
          "base_uri": "https://localhost:8080/"
        },
        "id": "NxKdsNmXRo4B",
        "outputId": "8da1b77b-1ced-4e6a-f342-38345711afe9"
      },
      "execution_count": null,
      "outputs": [
        {
          "output_type": "execute_result",
          "data": {
            "text/plain": [
              "0       208500\n",
              "1       181500\n",
              "2       223500\n",
              "3       140000\n",
              "4       250000\n",
              "         ...  \n",
              "1455    175000\n",
              "1456    210000\n",
              "1457    266500\n",
              "1458    142125\n",
              "1459    147500\n",
              "Name: SalePrice, Length: 1460, dtype: int64"
            ]
          },
          "metadata": {},
          "execution_count": 58
        }
      ]
    },
    {
      "cell_type": "markdown",
      "source": [
        "# Get the list of ordinal and non ordinal from the categorical colum X_cat"
      ],
      "metadata": {
        "id": "Sx5B5wO_SAz9"
      }
    },
    {
      "cell_type": "code",
      "source": [
        "X_num = X_train.select_dtypes(include=\"number\").copy()\n",
        "X_cat = X_train.select_dtypes(exclude=\"number\").copy()\n",
        "\n",
        "# List of ordinal columns\n",
        "ordinal_cols_names = [\"LotShape\", \"Utilities\", \"HouseStyle\", \"OverallQual\",\n",
        "                      \"OverallCond\", \"ExterQual\", \"ExterCond\", \"BsmtQual\",\n",
        "                      \"BsmtCond\", \"GarageType\", \"PoolQC\", \"Fence\",\n",
        "                      \"SaleCondition\"]\n",
        "\n",
        "ordinal_cols = X_cat.columns.get_indexer(ordinal_cols_names)\n",
        "\n",
        "# List of non_ordinal columns\n",
        "non_ordinal_cols_names = [col for col in X_cat.columns if col not in ordinal_cols_names]\n",
        "onehot_cols = X_cat.columns.get_indexer(non_ordinal_cols_names)\n",
        "\n",
        "# Define the ranking for each ordinal column\n",
        "ordinal_rankings = [\n",
        "    [\"IR3\", \"IR2\", \"IR1\", \"Reg\"],  # LotShape\n",
        "    [\"ELO\", \"NoSeWa\", \"NoSewr\", \"AllPub\"],  # Utilities\n",
        "    [\"1Story\", \"1.5Fin\", \"1.5Unf\", \"2Story\", \"2.5Fin\", \"2.5Unf\", \"SFoyer\", \"SLvl\"],  # HouseStyle\n",
        "    [\"Very Poor\", \"Poor\", \"Fair\", \"Below Average\", \"Average\", \"Above Average\", \"Good\", \"Very Good\", \"Excellent\", \"Very Excellent\"],  # OverallQual\n",
        "    [\"Very Poor\", \"Poor\", \"Fair\", \"Below Average\", \"Average\", \"Above Average\", \"Good\", \"Very Good\", \"Excellent\", \"Very Excellent\"],  # OverallCond\n",
        "    [\"Po\", \"Fa\", \"TA\", \"Gd\", \"Ex\"],  # ExterQual\n",
        "    [\"Po\", \"Fa\", \"TA\", \"Gd\", \"Ex\"],  # ExterCond\n",
        "    [\"NA\", \"Po\", \"Fa\", \"TA\", \"Gd\", \"Ex\"],  # BsmtQual\n",
        "    [\"NA\", \"Po\", \"Fa\", \"TA\", \"Gd\", \"Ex\"],  # BsmtCond\n",
        "    ['Attchd', 'BuiltIn', 'Detchd', 'Basment', 'CarPort', '2Types'],  # GarageType\n",
        "    ['NA', 'Fa', 'TA', 'Gd', 'Ex'],  # PoolQC\n",
        "    ['NA', 'MnWw', 'GdWo', 'MnPrv', 'GdPrv'],  # Fence\n",
        "    [\"Normal\", \"Abnorml\", \"AdjLand\", \"Alloca\", \"Family\", \"Partial\"]  # SaleCondition\n",
        "]\n",
        "\n",
        "# Define the categorical encoder\n",
        "categorical_preprocessor = make_column_transformer(\n",
        "    (OrdinalEncoder(categories=ordinal_rankings,\n",
        "                    encoded_missing_value=-1,\n",
        "                    handle_unknown='use_encoded_value',\n",
        "                    unknown_value=-1), ordinal_cols),\n",
        "    (OneHotEncoder(sparse=False, handle_unknown=\"ignore\"), onehot_cols)\n",
        ")\n",
        "\n",
        "# Create the categorical pipeline\n",
        "categorical_pipe = make_pipeline(SimpleImputer(strategy=\"constant\", fill_value=\"N_A\"),\n",
        "                                 categorical_preprocessor)\n",
        "\n",
        "# Create the numeric pipeline\n",
        "numeric_pipe = make_pipeline(SimpleImputer(strategy='mean'))\n",
        "\n",
        "# Create the preprocessor column transformer\n",
        "preprocessor = make_column_transformer(\n",
        "    (numeric_pipe, X_num.columns),\n",
        "    (categorical_pipe, X_cat.columns)\n",
        ")\n"
      ],
      "metadata": {
        "id": "gYhMkFXcSHx4"
      },
      "execution_count": null,
      "outputs": []
    },
    {
      "cell_type": "code",
      "source": [
        "categorical_pipe"
      ],
      "metadata": {
        "colab": {
          "base_uri": "https://localhost:8080/",
          "height": 191
        },
        "id": "u-9jhfj9T7Tc",
        "outputId": "5187cc65-78a0-466d-b2fd-0d87caa24bdf"
      },
      "execution_count": null,
      "outputs": [
        {
          "output_type": "execute_result",
          "data": {
            "text/plain": [
              "Pipeline(steps=[('simpleimputer',\n",
              "                 SimpleImputer(fill_value='N_A', strategy='constant')),\n",
              "                ('columntransformer',\n",
              "                 ColumnTransformer(transformers=[('ordinalencoder',\n",
              "                                                  OrdinalEncoder(categories=[['Grvl',\n",
              "                                                                              'Pave'],\n",
              "                                                                             ['NA',\n",
              "                                                                              'Grvl',\n",
              "                                                                              'Pave'],\n",
              "                                                                             ['IR3',\n",
              "                                                                              'IR2',\n",
              "                                                                              'IR1',\n",
              "                                                                              'Reg'],\n",
              "                                                                             ['ELO',\n",
              "                                                                              'NoSeWa',\n",
              "                                                                              'NoSewr',\n",
              "                                                                              'AllPub'],\n",
              "                                                                             ['1Story',\n",
              "                                                                              '1.5Fin',\n",
              "                                                                              '1.5Unf',\n",
              "                                                                              '2Story',\n",
              "                                                                              '2.5Fin',\n",
              "                                                                              '2.5Unf',\n",
              "                                                                              'SFoyer',\n",
              "                                                                              'SLv...\n",
              "                                                                             ['Normal',\n",
              "                                                                              'Abnorml',\n",
              "                                                                              'AdjLand',\n",
              "                                                                              'Alloca',\n",
              "                                                                              'Family',\n",
              "                                                                              'Partial']],\n",
              "                                                                 encoded_missing_value=-1,\n",
              "                                                                 handle_unknown='use_encoded_value',\n",
              "                                                                 unknown_value=-1),\n",
              "                                                  array([ 1,  2,  3,  5, 12, -1, -1, 18, 19, 21, -1, 33, 38, 39, 42])),\n",
              "                                                 ('onehotencoder',\n",
              "                                                  OneHotEncoder(handle_unknown='ignore',\n",
              "                                                                sparse=False),\n",
              "                                                  array([ 0,  4,  6,  7,  8,  9, 10, 11, 13, 14, 15, 16, 17, 20, 22, 23, 24,\n",
              "       25, 26, 27, 28, 29, 30, 31, 32, 34, 35, 36, 37, 40, 41]))]))])"
            ],
            "text/html": [
              "<style>#sk-container-id-3 {color: black;background-color: white;}#sk-container-id-3 pre{padding: 0;}#sk-container-id-3 div.sk-toggleable {background-color: white;}#sk-container-id-3 label.sk-toggleable__label {cursor: pointer;display: block;width: 100%;margin-bottom: 0;padding: 0.3em;box-sizing: border-box;text-align: center;}#sk-container-id-3 label.sk-toggleable__label-arrow:before {content: \"▸\";float: left;margin-right: 0.25em;color: #696969;}#sk-container-id-3 label.sk-toggleable__label-arrow:hover:before {color: black;}#sk-container-id-3 div.sk-estimator:hover label.sk-toggleable__label-arrow:before {color: black;}#sk-container-id-3 div.sk-toggleable__content {max-height: 0;max-width: 0;overflow: hidden;text-align: left;background-color: #f0f8ff;}#sk-container-id-3 div.sk-toggleable__content pre {margin: 0.2em;color: black;border-radius: 0.25em;background-color: #f0f8ff;}#sk-container-id-3 input.sk-toggleable__control:checked~div.sk-toggleable__content {max-height: 200px;max-width: 100%;overflow: auto;}#sk-container-id-3 input.sk-toggleable__control:checked~label.sk-toggleable__label-arrow:before {content: \"▾\";}#sk-container-id-3 div.sk-estimator input.sk-toggleable__control:checked~label.sk-toggleable__label {background-color: #d4ebff;}#sk-container-id-3 div.sk-label input.sk-toggleable__control:checked~label.sk-toggleable__label {background-color: #d4ebff;}#sk-container-id-3 input.sk-hidden--visually {border: 0;clip: rect(1px 1px 1px 1px);clip: rect(1px, 1px, 1px, 1px);height: 1px;margin: -1px;overflow: hidden;padding: 0;position: absolute;width: 1px;}#sk-container-id-3 div.sk-estimator {font-family: monospace;background-color: #f0f8ff;border: 1px dotted black;border-radius: 0.25em;box-sizing: border-box;margin-bottom: 0.5em;}#sk-container-id-3 div.sk-estimator:hover {background-color: #d4ebff;}#sk-container-id-3 div.sk-parallel-item::after {content: \"\";width: 100%;border-bottom: 1px solid gray;flex-grow: 1;}#sk-container-id-3 div.sk-label:hover label.sk-toggleable__label {background-color: #d4ebff;}#sk-container-id-3 div.sk-serial::before {content: \"\";position: absolute;border-left: 1px solid gray;box-sizing: border-box;top: 0;bottom: 0;left: 50%;z-index: 0;}#sk-container-id-3 div.sk-serial {display: flex;flex-direction: column;align-items: center;background-color: white;padding-right: 0.2em;padding-left: 0.2em;position: relative;}#sk-container-id-3 div.sk-item {position: relative;z-index: 1;}#sk-container-id-3 div.sk-parallel {display: flex;align-items: stretch;justify-content: center;background-color: white;position: relative;}#sk-container-id-3 div.sk-item::before, #sk-container-id-3 div.sk-parallel-item::before {content: \"\";position: absolute;border-left: 1px solid gray;box-sizing: border-box;top: 0;bottom: 0;left: 50%;z-index: -1;}#sk-container-id-3 div.sk-parallel-item {display: flex;flex-direction: column;z-index: 1;position: relative;background-color: white;}#sk-container-id-3 div.sk-parallel-item:first-child::after {align-self: flex-end;width: 50%;}#sk-container-id-3 div.sk-parallel-item:last-child::after {align-self: flex-start;width: 50%;}#sk-container-id-3 div.sk-parallel-item:only-child::after {width: 0;}#sk-container-id-3 div.sk-dashed-wrapped {border: 1px dashed gray;margin: 0 0.4em 0.5em 0.4em;box-sizing: border-box;padding-bottom: 0.4em;background-color: white;}#sk-container-id-3 div.sk-label label {font-family: monospace;font-weight: bold;display: inline-block;line-height: 1.2em;}#sk-container-id-3 div.sk-label-container {text-align: center;}#sk-container-id-3 div.sk-container {/* jupyter's `normalize.less` sets `[hidden] { display: none; }` but bootstrap.min.css set `[hidden] { display: none !important; }` so we also need the `!important` here to be able to override the default hidden behavior on the sphinx rendered scikit-learn.org. See: https://github.com/scikit-learn/scikit-learn/issues/21755 */display: inline-block !important;position: relative;}#sk-container-id-3 div.sk-text-repr-fallback {display: none;}</style><div id=\"sk-container-id-3\" class=\"sk-top-container\"><div class=\"sk-text-repr-fallback\"><pre>Pipeline(steps=[(&#x27;simpleimputer&#x27;,\n",
              "                 SimpleImputer(fill_value=&#x27;N_A&#x27;, strategy=&#x27;constant&#x27;)),\n",
              "                (&#x27;columntransformer&#x27;,\n",
              "                 ColumnTransformer(transformers=[(&#x27;ordinalencoder&#x27;,\n",
              "                                                  OrdinalEncoder(categories=[[&#x27;Grvl&#x27;,\n",
              "                                                                              &#x27;Pave&#x27;],\n",
              "                                                                             [&#x27;NA&#x27;,\n",
              "                                                                              &#x27;Grvl&#x27;,\n",
              "                                                                              &#x27;Pave&#x27;],\n",
              "                                                                             [&#x27;IR3&#x27;,\n",
              "                                                                              &#x27;IR2&#x27;,\n",
              "                                                                              &#x27;IR1&#x27;,\n",
              "                                                                              &#x27;Reg&#x27;],\n",
              "                                                                             [&#x27;ELO&#x27;,\n",
              "                                                                              &#x27;NoSeWa&#x27;,\n",
              "                                                                              &#x27;NoSewr&#x27;,\n",
              "                                                                              &#x27;AllPub&#x27;],\n",
              "                                                                             [&#x27;1Story&#x27;,\n",
              "                                                                              &#x27;1.5Fin&#x27;,\n",
              "                                                                              &#x27;1.5Unf&#x27;,\n",
              "                                                                              &#x27;2Story&#x27;,\n",
              "                                                                              &#x27;2.5Fin&#x27;,\n",
              "                                                                              &#x27;2.5Unf&#x27;,\n",
              "                                                                              &#x27;SFoyer&#x27;,\n",
              "                                                                              &#x27;SLv...\n",
              "                                                                             [&#x27;Normal&#x27;,\n",
              "                                                                              &#x27;Abnorml&#x27;,\n",
              "                                                                              &#x27;AdjLand&#x27;,\n",
              "                                                                              &#x27;Alloca&#x27;,\n",
              "                                                                              &#x27;Family&#x27;,\n",
              "                                                                              &#x27;Partial&#x27;]],\n",
              "                                                                 encoded_missing_value=-1,\n",
              "                                                                 handle_unknown=&#x27;use_encoded_value&#x27;,\n",
              "                                                                 unknown_value=-1),\n",
              "                                                  array([ 1,  2,  3,  5, 12, -1, -1, 18, 19, 21, -1, 33, 38, 39, 42])),\n",
              "                                                 (&#x27;onehotencoder&#x27;,\n",
              "                                                  OneHotEncoder(handle_unknown=&#x27;ignore&#x27;,\n",
              "                                                                sparse=False),\n",
              "                                                  array([ 0,  4,  6,  7,  8,  9, 10, 11, 13, 14, 15, 16, 17, 20, 22, 23, 24,\n",
              "       25, 26, 27, 28, 29, 30, 31, 32, 34, 35, 36, 37, 40, 41]))]))])</pre><b>In a Jupyter environment, please rerun this cell to show the HTML representation or trust the notebook. <br />On GitHub, the HTML representation is unable to render, please try loading this page with nbviewer.org.</b></div><div class=\"sk-container\" hidden><div class=\"sk-item sk-dashed-wrapped\"><div class=\"sk-label-container\"><div class=\"sk-label sk-toggleable\"><input class=\"sk-toggleable__control sk-hidden--visually\" id=\"sk-estimator-id-21\" type=\"checkbox\" ><label for=\"sk-estimator-id-21\" class=\"sk-toggleable__label sk-toggleable__label-arrow\">Pipeline</label><div class=\"sk-toggleable__content\"><pre>Pipeline(steps=[(&#x27;simpleimputer&#x27;,\n",
              "                 SimpleImputer(fill_value=&#x27;N_A&#x27;, strategy=&#x27;constant&#x27;)),\n",
              "                (&#x27;columntransformer&#x27;,\n",
              "                 ColumnTransformer(transformers=[(&#x27;ordinalencoder&#x27;,\n",
              "                                                  OrdinalEncoder(categories=[[&#x27;Grvl&#x27;,\n",
              "                                                                              &#x27;Pave&#x27;],\n",
              "                                                                             [&#x27;NA&#x27;,\n",
              "                                                                              &#x27;Grvl&#x27;,\n",
              "                                                                              &#x27;Pave&#x27;],\n",
              "                                                                             [&#x27;IR3&#x27;,\n",
              "                                                                              &#x27;IR2&#x27;,\n",
              "                                                                              &#x27;IR1&#x27;,\n",
              "                                                                              &#x27;Reg&#x27;],\n",
              "                                                                             [&#x27;ELO&#x27;,\n",
              "                                                                              &#x27;NoSeWa&#x27;,\n",
              "                                                                              &#x27;NoSewr&#x27;,\n",
              "                                                                              &#x27;AllPub&#x27;],\n",
              "                                                                             [&#x27;1Story&#x27;,\n",
              "                                                                              &#x27;1.5Fin&#x27;,\n",
              "                                                                              &#x27;1.5Unf&#x27;,\n",
              "                                                                              &#x27;2Story&#x27;,\n",
              "                                                                              &#x27;2.5Fin&#x27;,\n",
              "                                                                              &#x27;2.5Unf&#x27;,\n",
              "                                                                              &#x27;SFoyer&#x27;,\n",
              "                                                                              &#x27;SLv...\n",
              "                                                                             [&#x27;Normal&#x27;,\n",
              "                                                                              &#x27;Abnorml&#x27;,\n",
              "                                                                              &#x27;AdjLand&#x27;,\n",
              "                                                                              &#x27;Alloca&#x27;,\n",
              "                                                                              &#x27;Family&#x27;,\n",
              "                                                                              &#x27;Partial&#x27;]],\n",
              "                                                                 encoded_missing_value=-1,\n",
              "                                                                 handle_unknown=&#x27;use_encoded_value&#x27;,\n",
              "                                                                 unknown_value=-1),\n",
              "                                                  array([ 1,  2,  3,  5, 12, -1, -1, 18, 19, 21, -1, 33, 38, 39, 42])),\n",
              "                                                 (&#x27;onehotencoder&#x27;,\n",
              "                                                  OneHotEncoder(handle_unknown=&#x27;ignore&#x27;,\n",
              "                                                                sparse=False),\n",
              "                                                  array([ 0,  4,  6,  7,  8,  9, 10, 11, 13, 14, 15, 16, 17, 20, 22, 23, 24,\n",
              "       25, 26, 27, 28, 29, 30, 31, 32, 34, 35, 36, 37, 40, 41]))]))])</pre></div></div></div><div class=\"sk-serial\"><div class=\"sk-item\"><div class=\"sk-estimator sk-toggleable\"><input class=\"sk-toggleable__control sk-hidden--visually\" id=\"sk-estimator-id-22\" type=\"checkbox\" ><label for=\"sk-estimator-id-22\" class=\"sk-toggleable__label sk-toggleable__label-arrow\">SimpleImputer</label><div class=\"sk-toggleable__content\"><pre>SimpleImputer(fill_value=&#x27;N_A&#x27;, strategy=&#x27;constant&#x27;)</pre></div></div></div><div class=\"sk-item sk-dashed-wrapped\"><div class=\"sk-label-container\"><div class=\"sk-label sk-toggleable\"><input class=\"sk-toggleable__control sk-hidden--visually\" id=\"sk-estimator-id-23\" type=\"checkbox\" ><label for=\"sk-estimator-id-23\" class=\"sk-toggleable__label sk-toggleable__label-arrow\">columntransformer: ColumnTransformer</label><div class=\"sk-toggleable__content\"><pre>ColumnTransformer(transformers=[(&#x27;ordinalencoder&#x27;,\n",
              "                                 OrdinalEncoder(categories=[[&#x27;Grvl&#x27;, &#x27;Pave&#x27;],\n",
              "                                                            [&#x27;NA&#x27;, &#x27;Grvl&#x27;,\n",
              "                                                             &#x27;Pave&#x27;],\n",
              "                                                            [&#x27;IR3&#x27;, &#x27;IR2&#x27;,\n",
              "                                                             &#x27;IR1&#x27;, &#x27;Reg&#x27;],\n",
              "                                                            [&#x27;ELO&#x27;, &#x27;NoSeWa&#x27;,\n",
              "                                                             &#x27;NoSewr&#x27;,\n",
              "                                                             &#x27;AllPub&#x27;],\n",
              "                                                            [&#x27;1Story&#x27;, &#x27;1.5Fin&#x27;,\n",
              "                                                             &#x27;1.5Unf&#x27;, &#x27;2Story&#x27;,\n",
              "                                                             &#x27;2.5Fin&#x27;, &#x27;2.5Unf&#x27;,\n",
              "                                                             &#x27;SFoyer&#x27;, &#x27;SLvl&#x27;],\n",
              "                                                            [&#x27;Very Poor&#x27;,\n",
              "                                                             &#x27;Poor&#x27;, &#x27;Fair&#x27;,\n",
              "                                                             &#x27;Below Average&#x27;,\n",
              "                                                             &#x27;Average&#x27;,\n",
              "                                                             &#x27;Above Average&#x27;,\n",
              "                                                             &#x27;Good&#x27;,\n",
              "                                                             &#x27;Very Good&#x27;,\n",
              "                                                             &#x27;Excellent&#x27;,\n",
              "                                                             &#x27;Very Ex...\n",
              "                                                            [&#x27;Normal&#x27;,\n",
              "                                                             &#x27;Abnorml&#x27;,\n",
              "                                                             &#x27;AdjLand&#x27;,\n",
              "                                                             &#x27;Alloca&#x27;, &#x27;Family&#x27;,\n",
              "                                                             &#x27;Partial&#x27;]],\n",
              "                                                encoded_missing_value=-1,\n",
              "                                                handle_unknown=&#x27;use_encoded_value&#x27;,\n",
              "                                                unknown_value=-1),\n",
              "                                 array([ 1,  2,  3,  5, 12, -1, -1, 18, 19, 21, -1, 33, 38, 39, 42])),\n",
              "                                (&#x27;onehotencoder&#x27;,\n",
              "                                 OneHotEncoder(handle_unknown=&#x27;ignore&#x27;,\n",
              "                                               sparse=False),\n",
              "                                 array([ 0,  4,  6,  7,  8,  9, 10, 11, 13, 14, 15, 16, 17, 20, 22, 23, 24,\n",
              "       25, 26, 27, 28, 29, 30, 31, 32, 34, 35, 36, 37, 40, 41]))])</pre></div></div></div><div class=\"sk-parallel\"><div class=\"sk-parallel-item\"><div class=\"sk-item\"><div class=\"sk-label-container\"><div class=\"sk-label sk-toggleable\"><input class=\"sk-toggleable__control sk-hidden--visually\" id=\"sk-estimator-id-24\" type=\"checkbox\" ><label for=\"sk-estimator-id-24\" class=\"sk-toggleable__label sk-toggleable__label-arrow\">ordinalencoder</label><div class=\"sk-toggleable__content\"><pre>[ 1  2  3  5 12 -1 -1 18 19 21 -1 33 38 39 42]</pre></div></div></div><div class=\"sk-serial\"><div class=\"sk-item\"><div class=\"sk-estimator sk-toggleable\"><input class=\"sk-toggleable__control sk-hidden--visually\" id=\"sk-estimator-id-25\" type=\"checkbox\" ><label for=\"sk-estimator-id-25\" class=\"sk-toggleable__label sk-toggleable__label-arrow\">OrdinalEncoder</label><div class=\"sk-toggleable__content\"><pre>OrdinalEncoder(categories=[[&#x27;Grvl&#x27;, &#x27;Pave&#x27;], [&#x27;NA&#x27;, &#x27;Grvl&#x27;, &#x27;Pave&#x27;],\n",
              "                           [&#x27;IR3&#x27;, &#x27;IR2&#x27;, &#x27;IR1&#x27;, &#x27;Reg&#x27;],\n",
              "                           [&#x27;ELO&#x27;, &#x27;NoSeWa&#x27;, &#x27;NoSewr&#x27;, &#x27;AllPub&#x27;],\n",
              "                           [&#x27;1Story&#x27;, &#x27;1.5Fin&#x27;, &#x27;1.5Unf&#x27;, &#x27;2Story&#x27;, &#x27;2.5Fin&#x27;,\n",
              "                            &#x27;2.5Unf&#x27;, &#x27;SFoyer&#x27;, &#x27;SLvl&#x27;],\n",
              "                           [&#x27;Very Poor&#x27;, &#x27;Poor&#x27;, &#x27;Fair&#x27;, &#x27;Below Average&#x27;,\n",
              "                            &#x27;Average&#x27;, &#x27;Above Average&#x27;, &#x27;Good&#x27;, &#x27;Very Good&#x27;,\n",
              "                            &#x27;Excellent&#x27;, &#x27;Very Excellent&#x27;],\n",
              "                           [&#x27;Very Poor&#x27;, &#x27;Poor&#x27;, &#x27;Fair&#x27;, &#x27;Below Average&#x27;...\n",
              "                           [&#x27;Po&#x27;, &#x27;Fa&#x27;, &#x27;TA&#x27;, &#x27;Gd&#x27;, &#x27;Ex&#x27;],\n",
              "                           [&#x27;NA&#x27;, &#x27;N_A&#x27;, &#x27;Po&#x27;, &#x27;Fa&#x27;, &#x27;TA&#x27;, &#x27;Gd&#x27;, &#x27;Ex&#x27;],\n",
              "                           [&#x27;NA&#x27;, &#x27;N_A&#x27;, &#x27;Po&#x27;, &#x27;Fa&#x27;, &#x27;TA&#x27;, &#x27;Gd&#x27;, &#x27;Ex&#x27;],\n",
              "                           [&#x27;Attchd&#x27;, &#x27;BuiltIn&#x27;, &#x27;Detchd&#x27;, &#x27;Basment&#x27;, &#x27;CarPort&#x27;,\n",
              "                            &#x27;2Types&#x27;],\n",
              "                           [&#x27;NA&#x27;, &#x27;Fa&#x27;, &#x27;TA&#x27;, &#x27;Gd&#x27;, &#x27;Ex&#x27;],\n",
              "                           [&#x27;NA&#x27;, &#x27;MnWw&#x27;, &#x27;GdWo&#x27;, &#x27;MnPrv&#x27;, &#x27;GdPrv&#x27;],\n",
              "                           [&#x27;Normal&#x27;, &#x27;Abnorml&#x27;, &#x27;AdjLand&#x27;, &#x27;Alloca&#x27;, &#x27;Family&#x27;,\n",
              "                            &#x27;Partial&#x27;]],\n",
              "               encoded_missing_value=-1, handle_unknown=&#x27;use_encoded_value&#x27;,\n",
              "               unknown_value=-1)</pre></div></div></div></div></div></div><div class=\"sk-parallel-item\"><div class=\"sk-item\"><div class=\"sk-label-container\"><div class=\"sk-label sk-toggleable\"><input class=\"sk-toggleable__control sk-hidden--visually\" id=\"sk-estimator-id-26\" type=\"checkbox\" ><label for=\"sk-estimator-id-26\" class=\"sk-toggleable__label sk-toggleable__label-arrow\">onehotencoder</label><div class=\"sk-toggleable__content\"><pre>[ 0  4  6  7  8  9 10 11 13 14 15 16 17 20 22 23 24 25 26 27 28 29 30 31\n",
              " 32 34 35 36 37 40 41]</pre></div></div></div><div class=\"sk-serial\"><div class=\"sk-item\"><div class=\"sk-estimator sk-toggleable\"><input class=\"sk-toggleable__control sk-hidden--visually\" id=\"sk-estimator-id-27\" type=\"checkbox\" ><label for=\"sk-estimator-id-27\" class=\"sk-toggleable__label sk-toggleable__label-arrow\">OneHotEncoder</label><div class=\"sk-toggleable__content\"><pre>OneHotEncoder(handle_unknown=&#x27;ignore&#x27;, sparse=False)</pre></div></div></div></div></div></div></div></div></div></div></div></div>"
            ]
          },
          "metadata": {},
          "execution_count": 60
        }
      ]
    },
    {
      "cell_type": "code",
      "source": [
        "# create the numerique pipeline\n",
        "#numeric_pipe = make_pipeline(SimpleImputer(strategy='mean'))"
      ],
      "metadata": {
        "id": "CfjnmFQyS1VB"
      },
      "execution_count": null,
      "outputs": []
    },
    {
      "cell_type": "code",
      "source": [
        "# preprocessor = make_column_transformer(\n",
        " #   (numeric_pipe, X_num.columns),\n",
        "#    (categorical_pipe, X_cat.columns)\n",
        "#)\n"
      ],
      "metadata": {
        "id": "mLswbip2UmIr"
      },
      "execution_count": null,
      "outputs": []
    },
    {
      "cell_type": "code",
      "source": [
        "X_train_processed = preprocessor.fit_transform(X_train)\n",
        "\n",
        "X_train_processed"
      ],
      "metadata": {
        "colab": {
          "base_uri": "https://localhost:8080/"
        },
        "id": "Z7Ahkz3YyM7W",
        "outputId": "015e3b84-d2f4-4a49-d0e7-acd4b2d60fd3"
      },
      "execution_count": null,
      "outputs": [
        {
          "output_type": "execute_result",
          "data": {
            "text/plain": [
              "array([[2.000e+01, 7.000e+01, 8.400e+03, ..., 0.000e+00, 0.000e+00,\n",
              "        1.000e+00],\n",
              "       [6.000e+01, 5.900e+01, 7.837e+03, ..., 0.000e+00, 0.000e+00,\n",
              "        1.000e+00],\n",
              "       [3.000e+01, 6.700e+01, 8.777e+03, ..., 0.000e+00, 0.000e+00,\n",
              "        1.000e+00],\n",
              "       ...,\n",
              "       [2.000e+01, 6.000e+01, 8.172e+03, ..., 0.000e+00, 0.000e+00,\n",
              "        1.000e+00],\n",
              "       [5.000e+01, 5.500e+01, 7.642e+03, ..., 0.000e+00, 0.000e+00,\n",
              "        1.000e+00],\n",
              "       [1.200e+02, 5.300e+01, 3.684e+03, ..., 0.000e+00, 0.000e+00,\n",
              "        1.000e+00]])"
            ]
          },
          "metadata": {},
          "execution_count": 94
        }
      ]
    },
    {
      "cell_type": "code",
      "source": [
        "# 2.Manually apply MinMaxScaler\n",
        "from sklearn.preprocessing import StandardScaler, OneHotEncoder, OrdinalEncoder, MinMaxScaler\n",
        "scaler = MinMaxScaler()\n",
        "X_train_scaled = scaler.fit_transform(X_train_processed)\n",
        "X_train_scaled\n"
      ],
      "metadata": {
        "colab": {
          "base_uri": "https://localhost:8080/"
        },
        "id": "jTk_hcG4y3rS",
        "outputId": "97cfac6a-cde5-4865-9500-790c9dc26570"
      },
      "execution_count": null,
      "outputs": [
        {
          "output_type": "execute_result",
          "data": {
            "text/plain": [
              "array([[0.        , 0.16780822, 0.0331861 , ..., 0.        , 0.        ,\n",
              "        1.        ],\n",
              "       [0.23529412, 0.13013699, 0.03055458, ..., 0.        , 0.        ,\n",
              "        1.        ],\n",
              "       [0.05882353, 0.15753425, 0.03494823, ..., 0.        , 0.        ,\n",
              "        1.        ],\n",
              "       ...,\n",
              "       [0.        , 0.13356164, 0.0321204 , ..., 0.        , 0.        ,\n",
              "        1.        ],\n",
              "       [0.17647059, 0.11643836, 0.02964313, ..., 0.        , 0.        ,\n",
              "        1.        ],\n",
              "       [0.58823529, 0.10958904, 0.01114305, ..., 0.        , 0.        ,\n",
              "        1.        ]])"
            ]
          },
          "metadata": {},
          "execution_count": 95
        }
      ]
    },
    {
      "cell_type": "code",
      "source": [
        "X_train_scaled.shape"
      ],
      "metadata": {
        "id": "7ZQyIfObzFT-"
      },
      "execution_count": null,
      "outputs": []
    },
    {
      "cell_type": "code",
      "source": [
        "# 4. Apply SelectKBest\n",
        "from sklearn.feature_selection import SelectKBest\n",
        "from sklearn.feature_selection import mutual_info_regression\n",
        "\n",
        "selector = SelectKBest(score_func=mutual_info_regression, k=10)  # Choose k as desired\n",
        "X_train_kbest = selector.fit_transform(X_train_scaled, y_train)\n",
        "\n",
        "# Get selected feature indices from SelectKBest\n",
        "selected_indices = selector.get_support(indices=True)\n",
        "\n",
        "# Translate selected indices to feature names\n",
        "feature_names_processed= preprocessor.get_feature_names_out()\n",
        "selected_feature_names = [feature_names_processed[i] for i in selected_indices]\n",
        "\n",
        "print(\"Top features selected by SelectKBest:\", selected_feature_names)\n",
        "\n",
        "X_train_kbest"
      ],
      "metadata": {
        "colab": {
          "base_uri": "https://localhost:8080/"
        },
        "id": "38TelQC6z0p1",
        "outputId": "b8c90523-2a68-4ded-9528-2070e9fb1900"
      },
      "execution_count": null,
      "outputs": [
        {
          "output_type": "stream",
          "name": "stdout",
          "text": [
            "Top features selected by SelectKBest: ['pipeline-1__MSSubClass', 'pipeline-1__OverallQual', 'pipeline-1__YearBuilt', 'pipeline-1__TotalBsmtSF', 'pipeline-1__1stFlrSF', 'pipeline-1__GrLivArea', 'pipeline-1__GarageCars', 'pipeline-1__GarageArea', 'pipeline-2__ordinalencoder__ExterQual', 'pipeline-2__ordinalencoder__BsmtQual']\n"
          ]
        },
        {
          "output_type": "execute_result",
          "data": {
            "text/plain": [
              "array([[0.        , 0.44444444, 0.61594203, ..., 0.20733427, 0.33333333,\n",
              "        0.66666667],\n",
              "       [0.23529412, 0.55555556, 0.87681159, ..., 0.26798307, 0.66666667,\n",
              "        0.83333333],\n",
              "       [0.05882353, 0.44444444, 0.27536232, ..., 0.        , 0.33333333,\n",
              "        0.5       ],\n",
              "       ...,\n",
              "       [0.        , 0.44444444, 0.60144928, ..., 0.40338505, 0.33333333,\n",
              "        0.66666667],\n",
              "       [0.17647059, 0.66666667, 0.33333333, ..., 0.15232722, 0.66666667,\n",
              "        0.66666667],\n",
              "       [0.58823529, 0.66666667, 0.97826087, ..., 0.46544429, 0.66666667,\n",
              "        0.83333333]])"
            ]
          },
          "metadata": {},
          "execution_count": 96
        }
      ]
    },
    {
      "cell_type": "code",
      "source": [
        "from sklearn.feature_selection import f_regression\n",
        "# 4. Apply SelectKBest\n",
        "selector = SelectKBest(score_func=f_regression, k=10)  # Choose k as desired\n",
        "X_train_kbest = selector.fit_transform(X_train_scaled, y_train)\n",
        "\n",
        "# Get selected feature indices from SelectKBest\n",
        "selected_indices = selector.get_support(indices=True)\n",
        "\n",
        "# Translate selected indices to feature names\n",
        "selected_feature_names = [feature_names_processed[i] for i in selected_indices]\n",
        "\n",
        "print(\"Top features selected by SelectKBest:\", selected_feature_names)\n",
        "\n",
        "X_train_kbest"
      ],
      "metadata": {
        "colab": {
          "base_uri": "https://localhost:8080/"
        },
        "id": "EgB5hKAu0lOY",
        "outputId": "09377841-411b-4527-8f2d-e2574026b4a7"
      },
      "execution_count": null,
      "outputs": [
        {
          "output_type": "stream",
          "name": "stdout",
          "text": [
            "Top features selected by SelectKBest: ['pipeline-1__OverallQual', 'pipeline-1__TotalBsmtSF', 'pipeline-1__1stFlrSF', 'pipeline-1__GrLivArea', 'pipeline-1__FullBath', 'pipeline-1__TotRmsAbvGrd', 'pipeline-1__GarageCars', 'pipeline-1__GarageArea', 'pipeline-2__ordinalencoder__ExterQual', 'pipeline-2__ordinalencoder__BsmtQual']\n"
          ]
        },
        {
          "output_type": "execute_result",
          "data": {
            "text/plain": [
              "array([[0.44444444, 0.21505728, 0.2248738 , ..., 0.20733427, 0.33333333,\n",
              "        0.66666667],\n",
              "       [0.55555556, 0.13076923, 0.10670032, ..., 0.26798307, 0.66666667,\n",
              "        0.83333333],\n",
              "       [0.44444444, 0.13027823, 0.10601193, ..., 0.        , 0.33333333,\n",
              "        0.5       ],\n",
              "       ...,\n",
              "       [0.44444444, 0.14140753, 0.12161542, ..., 0.40338505, 0.33333333,\n",
              "        0.66666667],\n",
              "       [0.66666667, 0.1492635 , 0.13262965, ..., 0.15232722, 0.66666667,\n",
              "        0.66666667],\n",
              "       [0.66666667, 0.22471358, 0.28017439, ..., 0.46544429, 0.66666667,\n",
              "        0.83333333]])"
            ]
          },
          "metadata": {},
          "execution_count": 97
        }
      ]
    },
    {
      "cell_type": "code",
      "source": [
        "from sklearn.model_selection import RandomizedSearchCV\n",
        "from sklearn.feature_selection import SelectKBest\n",
        "from sklearn.feature_selection import mutual_info_regression\n",
        "\n",
        "pipeline = make_pipeline(\n",
        "    preprocessor,\n",
        "    MinMaxScaler(),\n",
        "    SelectKBest(score_func=mutual_info_regression),  # or score_func=f_regression\n",
        "    RandomForestRegressor()\n",
        ")\n",
        "\n",
        "# Define the hyperparameter grid for RandomizedSearchCV\n",
        "param_grid = {\n",
        "    \"columntransformer__pipeline-1__simpleimputer__strategy\": [\"mean\", \"median\"],  # Use the correct name for numeric pipeline\n",
        "    \"randomforestregressor__n_estimators\": range(50, 400, 50),\n",
        "    \"randomforestregressor__max_depth\": range(1, 20, 2),\n",
        "    \"randomforestregressor__min_samples_split\": range(2, 20, 2),\n",
        "    \"selectkbest__k\": range(1, 010, 2)\n",
        "}\n",
        "\n",
        "# Perform RandomizedSearchCV for hyperparameter tuning\n",
        "search = RandomizedSearchCV(pipeline,\n",
        "                            param_distributions=param_grid,\n",
        "                            n_iter=30,\n",
        "                            cv=5,\n",
        "                            scoring=\"neg_mean_squared_error\",  # Use 'neg_mean_squared_error'\n",
        "                            verbose=1,\n",
        "                            n_jobs=-1)\n",
        "\n",
        "# Fit the model to the training data\n",
        "search.fit(X_train, y_train)\n",
        "\n",
        "# Create a dictionary to store the average scores\n",
        "avg_scores = {\"rforest\": search.best_score_}\n",
        "\n",
        "avg_scores\n"
      ],
      "metadata": {
        "colab": {
          "base_uri": "https://localhost:8080/"
        },
        "id": "6RaT3TsC04nS",
        "outputId": "26f2dcdc-806d-470c-8d09-f2770c17fd90"
      },
      "execution_count": null,
      "outputs": [
        {
          "output_type": "stream",
          "name": "stdout",
          "text": [
            "Fitting 5 folds for each of 30 candidates, totalling 150 fits\n"
          ]
        },
        {
          "output_type": "execute_result",
          "data": {
            "text/plain": [
              "{'rforest': -931748178.4797695}"
            ]
          },
          "metadata": {},
          "execution_count": 99
        }
      ]
    },
    {
      "cell_type": "code",
      "source": [
        "from sklearn.model_selection import RandomizedSearchCV\n",
        "from sklearn.feature_selection import SelectKBest\n",
        "from sklearn.feature_selection import mutual_info_regression\n",
        "from sklearn.ensemble import GradientBoostingRegressor  # Import the GradientBoostingRegressor\n",
        "\n",
        "pipeline = make_pipeline(\n",
        "    preprocessor,\n",
        "    MinMaxScaler(),\n",
        "    SelectKBest(score_func=mutual_info_regression),  # or score_func=f_regression\n",
        "    GradientBoostingRegressor()  # Change RandomForestRegressor to GradientBoostingRegressor\n",
        ")\n",
        "\n",
        "# Define the hyperparameter grid for RandomizedSearchCV\n",
        "param_grid = {\n",
        "    \"columntransformer__pipeline-1__simpleimputer__strategy\": [\"mean\", \"median\"],\n",
        "    \"gradientboostingregressor__n_estimators\": range(50, 400, 50),  # Change the parameter names for GradientBoostingRegressor\n",
        "    \"gradientboostingregressor__max_depth\": range(1, 20, 2),  # Change the parameter names for GradientBoostingRegressor\n",
        "    \"gradientboostingregressor__min_samples_split\": range(2, 20, 2),  # Change the parameter names for GradientBoostingRegressor\n",
        "    \"selectkbest__k\": range(1, 30, 2)  # Make sure to adjust the maximum value for selectkbest__k as needed\n",
        "}\n",
        "\n",
        "# Perform RandomizedSearchCV for hyperparameter tuning\n",
        "search = RandomizedSearchCV(pipeline,\n",
        "                            param_distributions=param_grid,\n",
        "                            n_iter=30,\n",
        "                            cv=5,\n",
        "                            scoring=\"neg_mean_squared_error\",\n",
        "                            verbose=1,\n",
        "                            n_jobs=-1)\n",
        "\n",
        "# Fit the model to the training data\n",
        "search.fit(X_train, y_train)\n",
        "\n",
        "# Create a dictionary to store the average scores\n",
        "avg_scores = {\"gradient_boosting\": search.best_score_}  # Change the model name\n",
        "\n",
        "avg_scores\n"
      ],
      "metadata": {
        "colab": {
          "base_uri": "https://localhost:8080/"
        },
        "id": "00aRQLb76FXV",
        "outputId": "cdc5d130-3df7-479e-988b-e8e3f0d52340"
      },
      "execution_count": null,
      "outputs": [
        {
          "output_type": "stream",
          "name": "stdout",
          "text": [
            "Fitting 5 folds for each of 30 candidates, totalling 150 fits\n"
          ]
        },
        {
          "output_type": "execute_result",
          "data": {
            "text/plain": [
              "{'gradient_boosting': -881159217.4074367}"
            ]
          },
          "metadata": {},
          "execution_count": 100
        }
      ]
    },
    {
      "cell_type": "markdown",
      "source": [
        "# decision tree regressor"
      ],
      "metadata": {
        "id": "lpmRp2ADVGeM"
      }
    },
    {
      "cell_type": "code",
      "source": [
        "X_train_preprocessor = preprocessor.fit_transform(X_train)"
      ],
      "metadata": {
        "id": "ddZDef2sY4pJ"
      },
      "execution_count": null,
      "outputs": []
    },
    {
      "cell_type": "code",
      "source": [
        "X_train_preprocessor"
      ],
      "metadata": {
        "colab": {
          "base_uri": "https://localhost:8080/"
        },
        "id": "Z4Jr3j3DZhax",
        "outputId": "09bf9d01-17aa-4478-c31b-1c1285592f50"
      },
      "execution_count": null,
      "outputs": [
        {
          "output_type": "execute_result",
          "data": {
            "text/plain": [
              "array([[2.000e+01, 7.000e+01, 8.400e+03, ..., 0.000e+00, 0.000e+00,\n",
              "        1.000e+00],\n",
              "       [6.000e+01, 5.900e+01, 7.837e+03, ..., 0.000e+00, 0.000e+00,\n",
              "        1.000e+00],\n",
              "       [3.000e+01, 6.700e+01, 8.777e+03, ..., 0.000e+00, 0.000e+00,\n",
              "        1.000e+00],\n",
              "       ...,\n",
              "       [2.000e+01, 6.000e+01, 8.172e+03, ..., 0.000e+00, 0.000e+00,\n",
              "        1.000e+00],\n",
              "       [5.000e+01, 5.500e+01, 7.642e+03, ..., 0.000e+00, 0.000e+00,\n",
              "        1.000e+00],\n",
              "       [1.200e+02, 5.300e+01, 3.684e+03, ..., 0.000e+00, 0.000e+00,\n",
              "        1.000e+00]])"
            ]
          },
          "metadata": {},
          "execution_count": 43
        }
      ]
    },
    {
      "cell_type": "code",
      "source": [
        "dt_pipeline = make_pipeline(preprocessor,\n",
        "                            StandardScaler(),\n",
        "                            DecisionTreeRegressor())\n",
        "\n",
        "dt_pipeline.fit(X_train, y_train)\n",
        "\n",
        "#dt_predictions = dt_pipeline.predict(X_test)"
      ],
      "metadata": {
        "id": "0pppwpXDVKI8"
      },
      "execution_count": null,
      "outputs": []
    },
    {
      "cell_type": "code",
      "source": [
        "X_test.info()"
      ],
      "metadata": {
        "id": "TW20WgteTs8F"
      },
      "execution_count": null,
      "outputs": []
    },
    {
      "cell_type": "code",
      "source": [
        "dt_predictions = dt_pipeline.predict(X_test)"
      ],
      "metadata": {
        "id": "js5KrRGcVQJH"
      },
      "execution_count": null,
      "outputs": []
    },
    {
      "cell_type": "code",
      "source": [
        "dt_predictions"
      ],
      "metadata": {
        "id": "-At0FdafVWcB"
      },
      "execution_count": null,
      "outputs": []
    },
    {
      "cell_type": "code",
      "source": [
        "from sklearn.metrics import r2_score\n",
        "\n",
        "dt_r2 = r2_score(y_true = y_test,\n",
        "                 y_pred = dt_predictions)\n",
        "\n"
      ],
      "metadata": {
        "id": "VmrXKA9pVZgy"
      },
      "execution_count": null,
      "outputs": []
    },
    {
      "cell_type": "code",
      "source": [
        "y_test"
      ],
      "metadata": {
        "id": "YzVp1AUxLgCw"
      },
      "execution_count": null,
      "outputs": []
    },
    {
      "cell_type": "code",
      "source": [
        "dt_r2"
      ],
      "metadata": {
        "colab": {
          "base_uri": "https://localhost:8080/"
        },
        "id": "tV2yMVYBlbmc",
        "outputId": "89e4231b-2f70-4a5c-c002-cc116af0d3e6"
      },
      "execution_count": null,
      "outputs": [
        {
          "output_type": "execute_result",
          "data": {
            "text/plain": [
              "0.7636962032827042"
            ]
          },
          "metadata": {},
          "execution_count": 33
        }
      ]
    },
    {
      "cell_type": "markdown",
      "source": [
        "# SGDRegressor"
      ],
      "metadata": {
        "id": "i3J6hYSUzKSe"
      }
    },
    {
      "cell_type": "code",
      "source": [
        "sgd_pipeline = make_pipeline(preprocessor,\n",
        "                            StandardScaler(),\n",
        "                            SGDRegressor())\n",
        "\n",
        "sgd_pipeline.fit(X_train, y_train)\n",
        "\n",
        "sgd_predictions = sgd_pipeline.predict(X_test)"
      ],
      "metadata": {
        "id": "qZc5F0SWzF7M"
      },
      "execution_count": null,
      "outputs": []
    },
    {
      "cell_type": "code",
      "source": [
        "sgd_r2 = r2_score(y_true = y_test,\n",
        "                 y_pred = sgd_predictions)"
      ],
      "metadata": {
        "id": "4BxZKrClK21m"
      },
      "execution_count": null,
      "outputs": []
    },
    {
      "cell_type": "code",
      "source": [
        "sgd_r2"
      ],
      "metadata": {
        "colab": {
          "base_uri": "https://localhost:8080/"
        },
        "id": "47_WQ3HSL1ru",
        "outputId": "716218aa-cc07-4168-8ccf-0e59403243a4"
      },
      "execution_count": null,
      "outputs": [
        {
          "output_type": "execute_result",
          "data": {
            "text/plain": [
              "-46.58773581068521"
            ]
          },
          "metadata": {},
          "execution_count": 36
        }
      ]
    },
    {
      "cell_type": "markdown",
      "metadata": {
        "id": "YpGq3211z-LZ"
      },
      "source": [
        "#LinearRegression"
      ]
    },
    {
      "cell_type": "code",
      "execution_count": null,
      "metadata": {
        "id": "uMCHph6-zI-w"
      },
      "outputs": [],
      "source": [
        "lr_pipeline = make_pipeline(preprocessor,\n",
        "                            StandardScaler(),\n",
        "                            LinearRegression())\n",
        "\n",
        "lr_pipeline.fit(X_train, y_train)\n",
        "\n",
        "lr_predictions = lr_pipeline.predict(X_test)"
      ]
    },
    {
      "cell_type": "code",
      "source": [
        "lr_r2 = r2_score(y_true = y_test,\n",
        "                 y_pred = lr_predictions)"
      ],
      "metadata": {
        "id": "8lmTZbf8LFDA"
      },
      "execution_count": null,
      "outputs": []
    },
    {
      "cell_type": "code",
      "source": [
        "lr_r2"
      ],
      "metadata": {
        "colab": {
          "base_uri": "https://localhost:8080/"
        },
        "id": "J_fd477iL_-G",
        "outputId": "3c4f24f0-8011-4e1e-b965-c3c85d4b0980"
      },
      "execution_count": null,
      "outputs": [
        {
          "output_type": "execute_result",
          "data": {
            "text/plain": [
              "-3.904400311902329e+22"
            ]
          },
          "metadata": {},
          "execution_count": 103
        }
      ]
    }
  ]
}