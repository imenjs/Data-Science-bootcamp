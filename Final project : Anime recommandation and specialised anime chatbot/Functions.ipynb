{
  "nbformat": 4,
  "nbformat_minor": 0,
  "metadata": {
    "colab": {
      "provenance": []
    },
    "kernelspec": {
      "name": "python3",
      "display_name": "Python 3"
    },
    "language_info": {
      "name": "python"
    }
  },
  "cells": [
    {
      "cell_type": "code",
      "source": [
        "from surprise import Reader"
      ],
      "metadata": {
        "id": "8kBJuMyR-0uo"
      },
      "execution_count": null,
      "outputs": []
    },
    {
      "cell_type": "code",
      "source": [
        "from surprise import Dataset"
      ],
      "metadata": {
        "id": "l5EMnQMcDevO"
      },
      "execution_count": null,
      "outputs": []
    },
    {
      "cell_type": "code",
      "source": [
        "import streamlit as st\n",
        "import pandas as pd\n",
        "import datetime\n",
        "from surprise import Reader\n",
        "from sklearn.metrics.pairwise import cosine_similarity\n",
        "from surprise import Dataset, Reader, SVD\n",
        "from surprise.model_selection import train_test_split\n",
        "from surprise import accuracy\n",
        "from sklearn.feature_extraction.text import TfidfVectorizer\n",
        "from sklearn.metrics.pairwise import linear_kernel\n",
        "import ipywidgets as widgets\n",
        "from IPython.display import display"
      ],
      "metadata": {
        "id": "fzCE2oRUFNuj"
      },
      "execution_count": null,
      "outputs": []
    },
    {
      "cell_type": "code",
      "source": [
        "def get_top_anime_rating(data_frame, num_anime=15):\n",
        "    if data_frame is None:\n",
        "        print(\"Error: DataFrame is None.\")\n",
        "        return None\n",
        "    # Drop rows with missing values in the \"score\" column\n",
        "    data_frame.dropna(subset=['score'], inplace=True)\n",
        "    if data_frame.empty:\n",
        "        print(\"Error: DataFrame is empty after dropping missing values.\")\n",
        "        return None\n",
        "    # Sort the DataFrame by \"score\" in descending order\n",
        "    sorted_df = data_frame.sort_values(by=\"score\", ascending=False)\n",
        "    # Select the columns \"title\" and \"score\", then drop duplicates based on the \"title\" column\n",
        "    unique_titles_df = sorted_df[[\"title\", \"score\",\"img_url\"]].drop_duplicates(\"title\")\n",
        "    # Take the specified number of top anime titles\n",
        "    top_anime_titles = unique_titles_df.head(num_anime)\n",
        "    return top_anime_titles\n"
      ],
      "metadata": {
        "id": "ZYJ21MHA4JfU"
      },
      "execution_count": null,
      "outputs": []
    },
    {
      "cell_type": "code",
      "source": [
        "def get_top_anime_popularity(data_frame, num_anime=15):\n",
        "\n",
        "    sorted_df = data_frame.sort_values(by=\"members\", ascending=False)\n",
        "    # Select the columns \"title\" and \"score\", then drop duplicates based on the \"title\" column\n",
        "    unique_titles_df = sorted_df[[\"title\", \"members\",\"img_url\"]].drop_duplicates(\"title\")\n",
        "    # Take the specified number of top anime titles\n",
        "    top_anime_titles = unique_titles_df.head(num_anime)\n",
        "    return top_anime_titles\n"
      ],
      "metadata": {
        "id": "i6aNoHmP4GBS"
      },
      "execution_count": null,
      "outputs": []
    },
    {
      "cell_type": "code",
      "source": [
        "import pandas as pd\n",
        "\n",
        "def get_top_unique_genre(anime_df):\n",
        "    # Convert the \"genre\" column to string\n",
        "    anime_df['genre'] = anime_df['genre'].astype(str)\n",
        "    # Initialize an empty set to store unique genres\n",
        "    unique_genres = set()\n",
        "    # Iterate over each row in the DataFrame\n",
        "    for genres_str in anime_df['genre']:\n",
        "        # Split the genre string by comma and add each genre to the set of unique genres\n",
        "        genres_list = [genre.strip() for genre in genres_str.strip(\"[]\").replace(\"'\", \"\").split(\",\") if genre.strip()]\n",
        "        unique_genres.update(genres_list)\n",
        "\n",
        "    return sorted(list(unique_genres))  # Sort and convert set to a list for clear output"
      ],
      "metadata": {
        "id": "B_2n-tVD3_5G"
      },
      "execution_count": null,
      "outputs": []
    },
    {
      "cell_type": "code",
      "source": [
        "    # Define a function to get top titles for a given genre\n",
        "def get_top_titles_for_genre(anime_df, genre, n_anime=20):\n",
        "    # Convert the \"genre\" column to string\n",
        "    anime_df['genre'] = anime_df['genre'].astype(str)\n",
        "    # Filter DataFrame to include only rows containing the chosen genre\n",
        "    filtered_df = anime_df[anime_df['genre'].str.contains(genre)]\n",
        "    # Drop duplicates from the DataFrame\n",
        "    filtered_df = filtered_df.drop_duplicates(subset=\"title\")\n",
        "    # Sort by \"score\"\n",
        "    sorted_df = filtered_df.sort_values(by=\"score\", ascending=False)\n",
        "    # Get the top titles from the sorted DataFrame\n",
        "    top_titles = sorted_df.head(n_anime)[[\"title\", \"img_url\"]]\n",
        "\n",
        "    return top_titles\n"
      ],
      "metadata": {
        "id": "r2GPJsPa362F"
      },
      "execution_count": null,
      "outputs": []
    },
    {
      "cell_type": "code",
      "source": [
        "def get_top_anime_by_year(anime_df, year, n_anime=10):\n",
        "    # include only rows for the specified year\n",
        "    filtered_df = anime_df[anime_df[\"start_year\"] == year]\n",
        "    #filtered_df = filtered_df[~filtered_df['Type'].isin(['movie', 'Movie'])]\n",
        "    filtered_df = filtered_df.drop_duplicates(subset=\"title\")\n",
        "    # Sort by \"Rating\"\n",
        "    sorted_df = filtered_df.sort_values(by=\"score\", ascending=False)\n",
        "    # return the specified number of top anime titles and image URLs as a DataFrame\n",
        "    top_anime_titles = sorted_df[[\"title\", \"img_url\"]].head(n_anime)\n",
        "\n",
        "    return top_anime_titles"
      ],
      "metadata": {
        "id": "7grIuVYc3zk9"
      },
      "execution_count": null,
      "outputs": []
    },
    {
      "cell_type": "code",
      "source": [
        "# keep using anime23\n",
        "def find_similar_byanime(anime_name, anime_df, top_n=10):\n",
        "    # Filter the anime DataFrame to get the data for the given anime\n",
        "    anime_data = anime_df[~anime_df['type'].isin(['movie', 'Movie'])]\n",
        "    anime_data = anime_data[anime_data[\"title\"] == anime_name]\n",
        "\n",
        "    if anime_data.empty:\n",
        "        return pd.DataFrame(columns=[\"title\", \"img_url\"])  # Return an empty DataFrame\n",
        "\n",
        "    # Create a user-anime matrix based on the provided anime data\n",
        "    user_anime_matrix = pd.pivot_table(data=anime_df,\n",
        "                                       values='my_score',\n",
        "                                       index='user_id',\n",
        "                                       columns='anime_id',\n",
        "                                       fill_value=0)\n",
        "\n",
        "    # Compute the pairwise cosine similarity between the given anime and all other anime\n",
        "    anime_vector = user_anime_matrix.loc[:, anime_data[\"anime_id\"].values].values\n",
        "    similarities = cosine_similarity(anime_vector.T, anime_vector.T)\n",
        "\n",
        "    # Get the indices of the top N most similar anime (excluding the given anime itself)\n",
        "    similar_anime_indices = similarities.argsort()[0][-2:-top_n-2:-1]\n",
        "\n",
        "    # Get the anime IDs of the top N most similar anime\n",
        "    similar_anime_ids = user_anime_matrix.columns[similar_anime_indices]\n",
        "\n",
        "    # Get the titles of the top N most similar anime using the anime_df\n",
        "    similar_anime_names = [anime_df.loc[anime_id, \"title\"] for anime_id in similar_anime_ids]\n",
        "\n",
        "    # Create a DataFrame with similar anime titles and their image URLs\n",
        "    similar_anime_df = pd.DataFrame({\n",
        "        \"title\": similar_anime_names,\n",
        "        \"img_url\": \"\"  # You can add the image URLs here if available\n",
        "    })\n",
        "\n",
        "    return similar_anime_df"
      ],
      "metadata": {
        "id": "wjwP2Xj93sg0"
      },
      "execution_count": null,
      "outputs": []
    },
    {
      "cell_type": "code",
      "source": [
        "def get_surprise_recommendations(anime_df, user_name, num):\n",
        "    # Check if the user name exists in the DataFrame\n",
        "    if user_name not in anime_df['username'].unique():\n",
        "        return \"User not found in the anime_df.\"\n",
        "\n",
        "    # Load data into Surprise Dataset\n",
        "    reader = Reader(rating_scale=(1, 10))\n",
        "    data = Dataset.load_from_df(anime_df[['user_id', 'anime_id', 'my_score']], reader)\n",
        "\n",
        "    # Choose algorithm (SVD in this example)\n",
        "    algo = SVD()\n",
        "\n",
        "    # Split data into train and test sets\n",
        "    trainset, testset = train_test_split(data, test_size=0.2, random_state=42)\n",
        "\n",
        "    # Train the model\n",
        "    algo.fit(trainset)\n",
        "\n",
        "    # Generate predictions for test set\n",
        "    predictions = algo.test(testset)\n",
        "\n",
        "    # Evaluate the model (optional)\n",
        "    accuracy.rmse(predictions)\n",
        "\n",
        "    # Get user ID based on user name\n",
        "    user_id = anime_df.loc[anime_df['username'] == user_name, 'user_id'].iloc[0]\n",
        "\n",
        "    # Get top-N recommendations for the specified user\n",
        "    user_predictions = algo.test([(user_id, anime_id, 0) for anime_id in anime_df['anime_id'].unique()])\n",
        "    top_recommendations = []\n",
        "    for pred in sorted(user_predictions, key=lambda x: x.est, reverse=True)[:num]:\n",
        "        anime_id = pred.iid\n",
        "        title = anime_df.loc[anime_df['anime_id'] == anime_id, 'title'].iloc[0]\n",
        "        rating = round(pred.est, 1)\n",
        "        top_recommendations.append((title, rating))\n",
        "\n",
        "    return top_recommendations"
      ],
      "metadata": {
        "id": "OTFbAR1i3ijA"
      },
      "execution_count": null,
      "outputs": []
    },
    {
      "cell_type": "code",
      "source": [
        "def get_top_similar_anime_by_synopsis(anime_df, anime_name, num):\n",
        "    # Define a TF-IDF Vectorizer\n",
        "    tfidf = TfidfVectorizer(stop_words='english')\n",
        "    # Replace NaN values with an empty string\n",
        "    anime_df[\"synopsis\"] = anime_df[\"synopsis\"].fillna(\"\")\n",
        "    # Construct the TF-IDF matrix\n",
        "    tfidf_matrix = tfidf.fit_transform(anime_df[\"synopsis\"])\n",
        "    # Compute the cosine similarity matrix\n",
        "    cosine_sim = linear_kernel(tfidf_matrix, tfidf_matrix)\n",
        "    # Get the index of the anime matching the title\n",
        "    idx = anime_df[anime_df['title'] == anime_name].index\n",
        "    if not idx.empty:\n",
        "        idx = idx[0]\n",
        "        # Get the pairwise similarity scores of all anime with that anime\n",
        "        sim_scores = list(enumerate(cosine_sim[idx]))\n",
        "        # Sort the anime based on the similarity scores\n",
        "        sim_scores = sorted(sim_scores, key=lambda x: x[1], reverse=True)\n",
        "        # Get the top similar anime indices\n",
        "        sim_indices = [i[0] for i in sim_scores[1:num+1]]  # Exclude the first item (itself) and get top num similar\n",
        "        # Return the top similar anime\n",
        "        return anime_df.iloc[sim_indices][['title', 'img_url']]\n",
        "    else:\n",
        "        return pd.DataFrame(columns=[\"title\", \"img_url\"])  # Return an empty DataFrame if anime name not found\n"
      ],
      "metadata": {
        "id": "OgHHEb4d3gXv"
      },
      "execution_count": null,
      "outputs": []
    },
    {
      "cell_type": "code",
      "source": [
        "def get_top_anime_rating_popularity(data_frame, num_anime=15, num_top=500):\n",
        "\n",
        "    # Filter the DataFrame to exclude rows where the \"type\" column is \"movie\" or \"Movie\"\n",
        "    #data_frame['episodes'] = pd.to_numeric(data_frame['episodes'], errors='coerce')\n",
        "\n",
        "    # Filter rows where the \"episodes\" column is greater than 1\n",
        "    #data_frame = data_frame[data_frame['episodes'] > 1]\n",
        "\n",
        "    # Sort the DataFrame by \"score\" in descending order and drop duplicates based on \"title\"\n",
        "    top_anime_rating = data_frame.sort_values(by=\"score\", ascending=False).drop_duplicates(\"title\").head(num_top)\n",
        "\n",
        "    # Sort the resulting DataFrame by \"popularity\" in descending order\n",
        "    top_anime_rating_popularity = top_anime_rating.sort_values(by=\"members\", ascending=False)\n",
        "\n",
        "    # Select the columns \"title\", \"popularity\", and \"score\", then drop duplicates based on \"title\"\n",
        "    top_anime_Rating_Popularity = top_anime_rating_popularity[[\"title\", \"members\", \"score\", \"img_url\"]].drop_duplicates(\"title\").head(num_anime)\n",
        "\n",
        "    return top_anime_Rating_Popularity"
      ],
      "metadata": {
        "id": "QrbFH3vGi0PM"
      },
      "execution_count": null,
      "outputs": []
    },
    {
      "cell_type": "code",
      "source": [
        "def login(user_df):\n",
        "    mail = st.text_input('Email', key='login-email')\n",
        "    password = st.text_input('Password', type='password', key='login-password')\n",
        "\n",
        "    if st.button('Login'):\n",
        "\n",
        "        # Check if the email and password match\n",
        "        match_condition = ((user_df['mail'] == mail) & (user_df['password'] == password))\n",
        "\n",
        "\n",
        "        if match_condition.any():\n",
        "            st.success(\"Login successful!\")\n",
        "        else:\n",
        "            st.error(\"Invalid email or password. Please try again.\")"
      ],
      "metadata": {
        "id": "_Cp015l_jzAB"
      },
      "execution_count": null,
      "outputs": []
    },
    {
      "cell_type": "code",
      "source": [
        "\n",
        "def create_account(csv_file_path):\n",
        "    # Load user data CSV into DataFrame\n",
        "    try:\n",
        "        user_df = pd.read_csv(csv_file_path, dtype={'password': str})\n",
        "    except FileNotFoundError:\n",
        "        # Handle case where the CSV file does not exist\n",
        "        user_df = pd.DataFrame(columns=['user_id', 'user_name', 'age', 'country', 'genre', 'mail', 'password'])\n",
        "\n",
        "    # Generate user ID\n",
        "    if user_df.empty:\n",
        "        user_id = 1  # Start from 1 if DataFrame is empty\n",
        "    else:\n",
        "        user_id = user_df['user_id'].max() + 1\n",
        "\n",
        "    user_name = st.text_input('Username', key='create-username')\n",
        "    age = st.number_input('Age', min_value=0, max_value=150, key='create-age')\n",
        "    country = st.text_input('Country', key='create-country')\n",
        "    genre = st.text_input('Genre', key='create-genre')\n",
        "    mail = st.text_input('Email', key='create-email')\n",
        "    password = st.text_input('Password', type='password', key='create-password')\n",
        "\n",
        "    if st.button('Create Account'):\n",
        "        new_user = pd.DataFrame({\n",
        "            \"user_id\": [user_id],  # Assign the generated user ID\n",
        "            \"user_name\": [user_name],\n",
        "            \"age\": [age],\n",
        "            \"country\": [country],\n",
        "            \"genre\": [genre],\n",
        "            \"mail\": [mail],\n",
        "            \"password\": [password]\n",
        "        })\n",
        "\n",
        "        user_df = pd.concat([user_df, new_user], ignore_index=True)\n",
        "\n",
        "        try:\n",
        "            user_df.to_csv(csv_file_path, index=False)\n",
        "            st.success(\"Account created successfully!\")\n",
        "        except Exception as e:\n",
        "            st.error(f\"Failed to save account information: {e}\")\n",
        "\n",
        "    # Add return button to go back to login page\n",
        "    if st.button('Return to Login', key='create-return'):\n",
        "        return True\n",
        "\n",
        "    return False"
      ],
      "metadata": {
        "id": "sjobJIVJj4Vh"
      },
      "execution_count": null,
      "outputs": []
    },
    {
      "cell_type": "code",
      "source": [
        "# Function to add anime to user's list\n",
        "def add_to_user_list(user_name, title, img_url, rating):\n",
        "    global user_list\n",
        "\n",
        "    # Check if user_list is empty or does not exist\n",
        "    if user_list.empty:\n",
        "        # Create a new DataFrame with the new row\n",
        "        user_list = pd.DataFrame({'user_name': [user_name], 'title': [title], 'img_url': [img_url], 'rating': [rating]})\n",
        "    else:\n",
        "        # Concatenate the new row to user_list\n",
        "        new_row = pd.DataFrame({'user_name': [user_name], 'title': [title], 'img_url': [img_url], 'rating': [rating]})\n",
        "        user_list = pd.concat([user_list, new_row], ignore_index=True)\n",
        "\n",
        "    # Save user_list to CSV file\n",
        "    user_list.to_csv('/content/drive/MyDrive/user_list.csv', index=False)"
      ],
      "metadata": {
        "id": "lVxk1to3IOGC"
      },
      "execution_count": null,
      "outputs": []
    },
    {
      "cell_type": "code",
      "source": [
        "# Function to display user's list\n",
        "def display_user_list(user_name):\n",
        "    global user_list\n",
        "    user_list = pd.read_csv('/content/drive/MyDrive/user_list.csv')  # Reload user_list from CSV\n",
        "\n",
        "    st.write(f\"Viewing My List for {user_name}...\")\n",
        "\n",
        "    # Filter user_list for the specified user_name\n",
        "    user_list_filtered = user_list[user_list['user_name'] == user_name]\n",
        "\n",
        "    # Display titles and images\n",
        "    if not user_list_filtered.empty:\n",
        "        for index, row in user_list_filtered.iterrows():\n",
        "            st.image(row['img_url'], caption=row['title'], width=150)\n",
        "            st.write(f\"**Title:** {row['title']}\")\n",
        "            st.write(f\"**Rating:** {row['rating']}\")\n",
        "    else:\n",
        "        st.write(\"Your list is empty.\")"
      ],
      "metadata": {
        "id": "hU9AJ9U8Jkca"
      },
      "execution_count": null,
      "outputs": []
    },
    {
      "cell_type": "code",
      "source": [
        "# Function to display anime information and options\n",
        "def display_info(selected_anime, anime_df, user_df,user_name):\n",
        "    anime_info = anime_df[anime_df['title'] == selected_anime]\n",
        "    title = anime_info['title'].iloc[0]\n",
        "    genre = anime_info['genre'].iloc[0]\n",
        "    episodes = anime_info['episodes'].iloc[0]\n",
        "    score = anime_info['score'].iloc[0]\n",
        "    synopsis = anime_info['synopsis'].iloc[0]\n",
        "    img_url = anime_info['img_url'].iloc[0]  # Assuming 'img_url' column contains image URLs\n",
        "\n",
        "    # Display anime information\n",
        "    st.write(f\"**Title:** {title}\")\n",
        "    st.write(f\"**Genre:** {genre}\")\n",
        "    st.write(f\"**Episodes:** {episodes}\")\n",
        "    st.write(f\"**Score:** {score}\")\n",
        "    st.write(f\"**Synopsis:** {synopsis}\")\n",
        "\n",
        "    # Display anime image\n",
        "    st.image(img_url, caption=title, width=300)  # Adjust width as needed\n",
        "\n",
        "    # Provide options for rating, adding to My List, and accessing My List\n",
        "    rating = st.selectbox(\"Rate this anime (1-10)\", list(range(1, 11)))\n",
        "    add_to_list = st.button(\"Add to My List\")\n",
        "    view_my_list = st.button(\"View My List\")\n",
        "\n",
        "    # Process user actions\n",
        "    if rating:\n",
        "        st.write(f\"You rated '{title}' as: {rating}/10\")\n",
        "\n",
        "    if add_to_list:\n",
        "        st.write(f\"'{title}' added to My List\")\n",
        "\n",
        "        # Add anime to user's list\n",
        "        add_to_user_list(user_name, selected_anime, img_url, rating)  # Call function to add anime to user's list\n",
        "\n",
        "    if view_my_list:\n",
        "        # Display user's list\n",
        "        display_user_list(user_name)"
      ],
      "metadata": {
        "id": "aOenwAyXIO2k"
      },
      "execution_count": null,
      "outputs": []
    },
    {
      "cell_type": "code",
      "source": [
        "def Netero_chatBot() :\n",
        "    # Initialize OpenAI client with your API key\n",
        "    client = OpenAI(api_key=\"sk-proj-twv0jNl4WAZBOXCCoP1gT3BlbkFJX38wSiu4TXLbtetHisqp\")\n",
        "    st.markdown(\n",
        "    \"<h1 style='text-align: center; color: #FF5733;'> The Anime Alchemist</h1>\",\n",
        "    unsafe_allow_html=True\n",
        "      )\n",
        "\n",
        "    # Set page title\n",
        "    st.title(\"Let's Talk Anime !\")\n",
        "\n",
        "    # Create a layout with two columns\n",
        "    col1, col2 = st.columns([4, 2])  # Adjust the ratio as needed\n",
        "\n",
        "    # Chat history\n",
        "    if \"messages\" not in st.session_state:\n",
        "        st.session_state.messages = []\n",
        "\n",
        "    # User input\n",
        "    user_input = col1.text_input(\"You:\", key=\"user_input\")\n",
        "    if user_input:\n",
        "        # Add user input to chat history\n",
        "        st.session_state.messages.append({\"role\": \"user\", \"content\": user_input})\n",
        "\n",
        "        # Placeholder for assistant's response\n",
        "        assistant_response_placeholder = col1.empty()\n",
        "\n",
        "        # Prompt OpenAI with user input and retrieve response\n",
        "        openai_prompt = f\"Question: {user_input}\\nContext: Anime Chatbot\\n\"\n",
        "        openai_response = client.completions.create(\n",
        "            model=\"gpt-3.5-turbo-instruct\",\n",
        "            prompt=openai_prompt,\n",
        "            max_tokens=200,\n",
        "            stream=False\n",
        "        ).choices[0].text.strip()\n",
        "\n",
        "        # Display assistant's response\n",
        "        if openai_response:\n",
        "            assistant_response_placeholder.markdown(f\"**Netero:** <span style='color:red'>{openai_response}</span>\", unsafe_allow_html=True)\n",
        "\n",
        "    # Display image in the second column\n",
        "    col2.image(\"/content/drive/MyDrive/animedataset/isaac-netero-png-hunter-x-hunter-netero-png.png\", width=400)\n",
        "\n",
        "    return"
      ],
      "metadata": {
        "id": "DnJxmlXxm6r6"
      },
      "execution_count": null,
      "outputs": []
    }
  ]
}